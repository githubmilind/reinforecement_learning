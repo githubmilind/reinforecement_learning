{
 "cells": [
  {
   "cell_type": "markdown",
   "id": "566a4f82",
   "metadata": {},
   "source": [
    "<b>Q-Learning</b>"
   ]
  },
  {
   "cell_type": "code",
   "execution_count": 1,
   "id": "94e556fb",
   "metadata": {},
   "outputs": [],
   "source": [
    "import numpy as np\n",
    "import matplotlib.pyplot as plt\n",
    "from tqdm import tqdm\n",
    "\n",
    "np.random.seed(42)\n",
    "import copy"
   ]
  },
  {
   "cell_type": "markdown",
   "id": "36b58686",
   "metadata": {},
   "source": [
    "<b>Environment Grid, Grid of 11 rows X 11 columns</b>"
   ]
  },
  {
   "cell_type": "code",
   "execution_count": 2,
   "id": "84280e34",
   "metadata": {},
   "outputs": [],
   "source": [
    "grid_rows = 11\n",
    "grid_cols = 11"
   ]
  },
  {
   "cell_type": "markdown",
   "id": "a0e673cd",
   "metadata": {},
   "source": [
    "<b>Q-value for each state/action pair Q(s,a)\n",
    "2D array give the Q value, 3d dimension is the Q value for the action\n",
    "there are 4 actions: Up, Down, Right, Left\n",
    "So there are 4 layers\n",
    "</b>"
   ]
  },
  {
   "cell_type": "code",
   "execution_count": 3,
   "id": "6f3dea0a",
   "metadata": {},
   "outputs": [],
   "source": [
    "q_values = np.zeros((grid_rows, grid_cols, 4))"
   ]
  },
  {
   "cell_type": "markdown",
   "id": "d857eebb",
   "metadata": {},
   "source": [
    "<b>Actions: 0 - Up, 1 - Right, 2 - Down, 3 - Left</b>"
   ]
  },
  {
   "cell_type": "code",
   "execution_count": 4,
   "id": "5e4c7fd5",
   "metadata": {},
   "outputs": [],
   "source": [
    "actions = ['up', 'right', 'down', 'left']"
   ]
  },
  {
   "cell_type": "markdown",
   "id": "7713a18b",
   "metadata": {},
   "source": [
    "<b>Print Grid<pre>\n",
    "dollar - Goal\n",
    "pound - Wall\n",
    "space - Movable space\n",
    "star - Path\n",
    "</pre></b>"
   ]
  },
  {
   "cell_type": "code",
   "execution_count": 5,
   "id": "2550f511",
   "metadata": {},
   "outputs": [],
   "source": [
    "def print_char(x):\n",
    "    if x == -100:\n",
    "        return \"\\x1b[31m#\\x1b[0m\"\n",
    "    if x == -1:\n",
    "        return ' '\n",
    "    if x == 9:\n",
    "        return \"\\x1b[34m*\\x1b[0m\"\n",
    "    if x == 100:\n",
    "        return \"\\x1b[92m$\\x1b[0m\""
   ]
  },
  {
   "cell_type": "code",
   "execution_count": 6,
   "id": "2c221f53",
   "metadata": {},
   "outputs": [],
   "source": [
    "def print_grid(grid):\n",
    "    print(' | 0| 1| 2| 3| 4| 5| 6| 7| 8| 9|10|')\n",
    "    for i in range(grid_rows):\n",
    "        for k in range(grid_cols):\n",
    "            print('---', end='')\n",
    "        print('')\n",
    "        \n",
    "        print(i, end='')\n",
    "        for j in range(grid_cols):\n",
    "            print('|', print_char(grid[i][j]), end='')\n",
    "        print('|', end='')\n",
    "        print('')\n",
    "        \n",
    "    for k in range(grid_cols):\n",
    "        print('---', end='')\n",
    "    print('')"
   ]
  },
  {
   "cell_type": "markdown",
   "id": "9d37f1d7",
   "metadata": {},
   "source": [
    "<b>Reward table : define the rewards table\n",
    "100 - max reward - goal\n",
    "-100 - max punishment - blocked cells\n",
    "-1 - allowed cells for travelling\n",
    "Purpose of Q learning algorithm is to maximise the rewards. \n",
    "If we keep positive rewards then bot will keep moving unnecessarly to collect the rewards.\n",
    "-ve rewards keep control on movements</b>"
   ]
  },
  {
   "cell_type": "code",
   "execution_count": 7,
   "id": "abd18367",
   "metadata": {},
   "outputs": [
    {
     "name": "stdout",
     "output_type": "stream",
     "text": [
      "\n",
      "Rewards Table\n",
      "\n",
      "[-100. -100. -100. -100. -100.  100. -100. -100. -100. -100. -100.]\n",
      "[-100.   -1.   -1.   -1.   -1.   -1.   -1.   -1.   -1.   -1. -100.]\n",
      "[-100.   -1. -100. -100. -100. -100. -100.   -1. -100.   -1. -100.]\n",
      "[-100.   -1.   -1.   -1.   -1.   -1.   -1.   -1. -100.   -1. -100.]\n",
      "[-100. -100. -100.   -1. -100. -100. -100.   -1. -100. -100. -100.]\n",
      "[-1. -1. -1. -1. -1. -1. -1. -1. -1. -1. -1.]\n",
      "[-100. -100. -100. -100. -100.   -1. -100. -100. -100. -100. -100.]\n",
      "[-100.   -1.   -1.   -1.   -1.   -1.   -1.   -1.   -1.   -1. -100.]\n",
      "[-1. -1. -1. -1. -1. -1. -1. -1. -1. -1. -1.]\n",
      "[-1. -1. -1. -1. -1. -1. -1. -1. -1. -1. -1.]\n",
      "[-1. -1. -1. -1. -1. -1. -1. -1. -1. -1. -1.]\n",
      "\n",
      "Grid\n",
      "\n",
      " | 0| 1| 2| 3| 4| 5| 6| 7| 8| 9|10|\n",
      "---------------------------------\n",
      "0| \u001b[31m#\u001b[0m| \u001b[31m#\u001b[0m| \u001b[31m#\u001b[0m| \u001b[31m#\u001b[0m| \u001b[31m#\u001b[0m| \u001b[92m$\u001b[0m| \u001b[31m#\u001b[0m| \u001b[31m#\u001b[0m| \u001b[31m#\u001b[0m| \u001b[31m#\u001b[0m| \u001b[31m#\u001b[0m|\n",
      "---------------------------------\n",
      "1| \u001b[31m#\u001b[0m|  |  |  |  |  |  |  |  |  | \u001b[31m#\u001b[0m|\n",
      "---------------------------------\n",
      "2| \u001b[31m#\u001b[0m|  | \u001b[31m#\u001b[0m| \u001b[31m#\u001b[0m| \u001b[31m#\u001b[0m| \u001b[31m#\u001b[0m| \u001b[31m#\u001b[0m|  | \u001b[31m#\u001b[0m|  | \u001b[31m#\u001b[0m|\n",
      "---------------------------------\n",
      "3| \u001b[31m#\u001b[0m|  |  |  |  |  |  |  | \u001b[31m#\u001b[0m|  | \u001b[31m#\u001b[0m|\n",
      "---------------------------------\n",
      "4| \u001b[31m#\u001b[0m| \u001b[31m#\u001b[0m| \u001b[31m#\u001b[0m|  | \u001b[31m#\u001b[0m| \u001b[31m#\u001b[0m| \u001b[31m#\u001b[0m|  | \u001b[31m#\u001b[0m| \u001b[31m#\u001b[0m| \u001b[31m#\u001b[0m|\n",
      "---------------------------------\n",
      "5|  |  |  |  |  |  |  |  |  |  |  |\n",
      "---------------------------------\n",
      "6| \u001b[31m#\u001b[0m| \u001b[31m#\u001b[0m| \u001b[31m#\u001b[0m| \u001b[31m#\u001b[0m| \u001b[31m#\u001b[0m|  | \u001b[31m#\u001b[0m| \u001b[31m#\u001b[0m| \u001b[31m#\u001b[0m| \u001b[31m#\u001b[0m| \u001b[31m#\u001b[0m|\n",
      "---------------------------------\n",
      "7| \u001b[31m#\u001b[0m|  |  |  |  |  |  |  |  |  | \u001b[31m#\u001b[0m|\n",
      "---------------------------------\n",
      "8|  |  |  |  |  |  |  |  |  |  |  |\n",
      "---------------------------------\n",
      "9|  |  |  |  |  |  |  |  |  |  |  |\n",
      "---------------------------------\n",
      "10|  |  |  |  |  |  |  |  |  |  |  |\n",
      "---------------------------------\n"
     ]
    }
   ],
   "source": [
    "rewards = np.full((grid_rows, grid_cols), -100.)\n",
    "rewards[0, 5] = 100. #set the reward for the packaging area (i.e., the goal) to 100\n",
    "\n",
    "#define aisle locations (i.e., white squares) for rows 1 through 9\n",
    "aisles = {} #store locations in a dictionary\n",
    "aisles[1] = [i for i in range(1, 10)]\n",
    "aisles[2] = [1, 7, 9]\n",
    "aisles[3] = [i for i in range(1, 8)]\n",
    "aisles[3].append(9)\n",
    "aisles[4] = [3, 7]\n",
    "aisles[5] = [i for i in range(11)]\n",
    "aisles[6] = [5]\n",
    "aisles[7] = [i for i in range(1, 10)]\n",
    "aisles[8] = [3, 7]\n",
    "aisles[8] = [i for i in range(11)]\n",
    "\n",
    "aisles[9] = [i for i in range(11)]\n",
    "\n",
    "aisles[10] = [i for i in range(11)]\n",
    "\n",
    "#set the rewards for all aisle locations (i.e., white squares)\n",
    "for row_index in range(1, 11):\n",
    "    for column_index in aisles[row_index]:\n",
    "        rewards[row_index, column_index] = -1.\n",
    "\n",
    "print(\"\\nRewards Table\\n\")\n",
    "for row in rewards:\n",
    "    print(row)\n",
    "\n",
    "print(\"\\nGrid\\n\")\n",
    "print_grid(rewards)"
   ]
  },
  {
   "cell_type": "markdown",
   "id": "b92b9afe",
   "metadata": {},
   "source": [
    "<b><pre>\n",
    "TRAINING\n",
    "1. To begin, choose random, non-terminal state\n",
    "2. Choose action, move- up/right/down/left from current state\n",
    "3. Choose action using epsilon greedy method - balanced approach of explore and exploit\n",
    "4. Perform the action and move to next state\n",
    "5. Receive rewards and compute temporal difference\n",
    "6. Update Q-value for previos state/action pair\n",
    "7. if new state is terminal state, go to step 1, else go to step 2\n",
    "\n",
    "Run the process for 10000 episodes\n",
    "</pre></b>"
   ]
  },
  {
   "cell_type": "code",
   "execution_count": 8,
   "id": "33140e8f",
   "metadata": {},
   "outputs": [],
   "source": [
    "def is_terminal_state(row_index, col_index):\n",
    "    if rewards[row_index, col_index] == -1. :\n",
    "        return False\n",
    "    return True"
   ]
  },
  {
   "cell_type": "markdown",
   "id": "f1a66e3c",
   "metadata": {},
   "source": [
    "<b>Choose start location</b>"
   ]
  },
  {
   "cell_type": "code",
   "execution_count": 9,
   "id": "bd2aebaf",
   "metadata": {},
   "outputs": [],
   "source": [
    "def get_starting_location():\n",
    "    row_indx = np.random.randint(grid_rows)\n",
    "    col_indx = np.random.randint(grid_cols)\n",
    "    \n",
    "    #continue choosing random row and column indexes until a non-terminal state is identified\n",
    "    #(i.e., until the chosen state is a 'white square').\n",
    "    while is_terminal_state(row_indx, col_indx):\n",
    "        row_indx = np.random.randint(grid_rows)\n",
    "        col_indx = np.random.randint(grid_cols)\n",
    "\n",
    "    return row_indx, col_indx"
   ]
  },
  {
   "cell_type": "markdown",
   "id": "7152b291",
   "metadata": {},
   "source": [
    "<b>next_action - epsilon greedy algorithm</b>"
   ]
  },
  {
   "cell_type": "code",
   "execution_count": 10,
   "id": "1b57cd99",
   "metadata": {},
   "outputs": [],
   "source": [
    "def get_next_action(row_indx, col_indx, epsilon):\n",
    "    if np.random.random() < epsilon:\n",
    "        return np.argmax(q_values[row_indx, col_indx])\n",
    "    return np.random.randint(4)"
   ]
  },
  {
   "cell_type": "code",
   "execution_count": 11,
   "id": "91c923d3",
   "metadata": {},
   "outputs": [],
   "source": [
    "def get_next_location(row_indx, col_indx, action_indx):\n",
    "    new_row_indx = row_indx\n",
    "    new_col_indx = col_indx\n",
    "    \n",
    "    if actions[action_indx] == 'up' and row_indx > 0:\n",
    "        new_row_indx -= 1\n",
    "    elif actions[action_indx] == 'right' and col_indx < grid_cols - 1:\n",
    "        new_col_indx += 1\n",
    "    elif actions[action_indx] == 'down' and row_indx < grid_rows - 1:\n",
    "        new_row_indx += 1\n",
    "    elif actions[action_indx] == 'left' and col_indx > 0:\n",
    "        new_col_indx -= 1\n",
    "        \n",
    "    return new_row_indx, new_col_indx"
   ]
  },
  {
   "cell_type": "markdown",
   "id": "68d59ab3",
   "metadata": {},
   "source": [
    "<b>get_shortest_path - using q table, find shortest path</b>"
   ]
  },
  {
   "cell_type": "code",
   "execution_count": 12,
   "id": "0142ae57",
   "metadata": {},
   "outputs": [],
   "source": [
    "def get_shortest_path(start_row_indx, start_col_indx):\n",
    "    \n",
    "    # terminal starting position\n",
    "    if is_terminal_state(start_row_indx, start_col_indx):\n",
    "        return []\n",
    "    else :\n",
    "        #non-terminal starting position\n",
    "        curr_row_indx, curr_col_indx = start_row_indx, start_col_indx\n",
    "        shortest_path = []\n",
    "        shortest_path.append([curr_row_indx, curr_col_indx])\n",
    "        \n",
    "        while not is_terminal_state(curr_row_indx, curr_col_indx):\n",
    "            action_indx = get_next_action(curr_row_indx, curr_col_indx, 1.)\n",
    "            \n",
    "            curr_row_indx, curr_col_indx = get_next_location(curr_row_indx, curr_col_indx, action_indx)\n",
    "            shortest_path.append([curr_row_indx, curr_col_indx])\n",
    "        return shortest_path"
   ]
  },
  {
   "cell_type": "markdown",
   "id": "3b36ef69",
   "metadata": {},
   "source": [
    "<b>Train the Agent</b>"
   ]
  },
  {
   "cell_type": "code",
   "execution_count": 13,
   "id": "67bfcd06",
   "metadata": {},
   "outputs": [],
   "source": [
    "epsilon = 0.9\n",
    "discount_factor = 0.9 #discount for future rewards\n",
    "learning_rate = 0.9\n",
    "\n",
    "episods_count = 10000"
   ]
  },
  {
   "cell_type": "markdown",
   "id": "6b93b35f",
   "metadata": {},
   "source": [
    "<b>Stats</b>"
   ]
  },
  {
   "cell_type": "code",
   "execution_count": 14,
   "id": "31d64ca0",
   "metadata": {},
   "outputs": [],
   "source": [
    "episode_lengths = np.zeros(episods_count)\n",
    "episode_rewards = np.zeros(episods_count)"
   ]
  },
  {
   "cell_type": "code",
   "execution_count": 15,
   "id": "0cf8a1d6",
   "metadata": {},
   "outputs": [
    {
     "name": "stderr",
     "output_type": "stream",
     "text": [
      "Training progress: 100%|███████████████████████████████████████████████████████| 10000/10000 [00:03<00:00, 3096.94it/s]\n"
     ]
    }
   ],
   "source": [
    "for episode in tqdm(range(episods_count), desc='Training progress'):\n",
    "    row_indx, col_indx = get_starting_location()\n",
    "    \n",
    "    ep_len = 0\n",
    "    while not is_terminal_state(row_indx, col_indx):\n",
    "        ep_len = ep_len + 1\n",
    "        action_indx = get_next_action(row_indx, col_indx, epsilon)\n",
    "        \n",
    "        old_row_indx, old_col_indx = row_indx, col_indx\n",
    "        row_indx, col_indx = get_next_location(row_indx, col_indx, action_indx)\n",
    "        \n",
    "        #rewards\n",
    "        reward = rewards[row_indx, col_indx]\n",
    "        old_q_value = q_values[row_indx, col_indx, action_indx]\n",
    "        temporal_difference = reward + (discount_factor + np.max(q_values[row_indx, col_indx]) - old_q_value)\n",
    "        \n",
    "        #update q table using temporal difference\n",
    "        new_q_value = old_q_value + (learning_rate * temporal_difference)\n",
    "        q_values[old_row_indx, old_col_indx, action_indx] = new_q_value\n",
    "        \n",
    "        episode_rewards[episode] += reward\n",
    "        episode_lengths[episode] = ep_len"
   ]
  },
  {
   "cell_type": "code",
   "execution_count": 16,
   "id": "fab008c0",
   "metadata": {},
   "outputs": [],
   "source": [
    "x = np.arange(0, episods_count)"
   ]
  },
  {
   "cell_type": "code",
   "execution_count": 17,
   "id": "e74418ae",
   "metadata": {},
   "outputs": [
    {
     "data": {
      "image/png": "[encoded data removed]",
      "text/plain": [
       "<Figure size 1080x576 with 1 Axes>"
      ]
     },
     "metadata": {
      "needs_background": "light"
     },
     "output_type": "display_data"
    }
   ],
   "source": [
    "plt.figure(figsize=(15,8))\n",
    "plt.title(\"Episode lenght\")\n",
    "plt.xlabel(\"Episode\")\n",
    "plt.ylabel(\"Lenght\")\n",
    "plt.plot(x, episode_lengths, color =\"green\")\n",
    "plt.show()"
   ]
  },
  {
   "cell_type": "code",
   "execution_count": 18,
   "id": "fd988d2f",
   "metadata": {},
   "outputs": [
    {
     "data": {
      "image/png": "[encoded data removed]",
      "text/plain": [
       "<Figure size 1080x576 with 1 Axes>"
      ]
     },
     "metadata": {
      "needs_background": "light"
     },
     "output_type": "display_data"
    }
   ],
   "source": [
    "plt.figure(figsize=(15,8))\n",
    "plt.title(\"Rewards per Episode\")\n",
    "plt.xlabel(\"Episode\")\n",
    "plt.ylabel(\"Total Rewards\")\n",
    "plt.plot(x, episode_rewards, color =\"green\")\n",
    "plt.show()"
   ]
  },
  {
   "cell_type": "code",
   "execution_count": 18,
   "id": "915f51f5",
   "metadata": {},
   "outputs": [],
   "source": [
    "def print_path(path):\n",
    "    grid = copy.copy(rewards)\n",
    "    \n",
    "    for i in range(len(path)):\n",
    "        grid[path[i][0]][path[i][1]] = '9'\n",
    "    print_grid(grid)"
   ]
  },
  {
   "cell_type": "code",
   "execution_count": 19,
   "id": "46eaac0f",
   "metadata": {},
   "outputs": [
    {
     "name": "stdout",
     "output_type": "stream",
     "text": [
      "\n",
      "Grid - stars path from (3,9)\n",
      "\n",
      " | 0| 1| 2| 3| 4| 5| 6| 7| 8| 9|10|\n",
      "---------------------------------\n",
      "0| \u001b[31m#\u001b[0m| \u001b[31m#\u001b[0m| \u001b[31m#\u001b[0m| \u001b[31m#\u001b[0m| \u001b[31m#\u001b[0m| \u001b[34m*\u001b[0m| \u001b[31m#\u001b[0m| \u001b[31m#\u001b[0m| \u001b[31m#\u001b[0m| \u001b[31m#\u001b[0m| \u001b[31m#\u001b[0m|\n",
      "---------------------------------\n",
      "1| \u001b[31m#\u001b[0m|  |  |  |  | \u001b[34m*\u001b[0m| \u001b[34m*\u001b[0m| \u001b[34m*\u001b[0m| \u001b[34m*\u001b[0m| \u001b[34m*\u001b[0m| \u001b[31m#\u001b[0m|\n",
      "---------------------------------\n",
      "2| \u001b[31m#\u001b[0m|  | \u001b[31m#\u001b[0m| \u001b[31m#\u001b[0m| \u001b[31m#\u001b[0m| \u001b[31m#\u001b[0m| \u001b[31m#\u001b[0m|  | \u001b[31m#\u001b[0m| \u001b[34m*\u001b[0m| \u001b[31m#\u001b[0m|\n",
      "---------------------------------\n",
      "3| \u001b[31m#\u001b[0m|  |  |  |  |  |  |  | \u001b[31m#\u001b[0m| \u001b[34m*\u001b[0m| \u001b[31m#\u001b[0m|\n",
      "---------------------------------\n",
      "4| \u001b[31m#\u001b[0m| \u001b[31m#\u001b[0m| \u001b[31m#\u001b[0m|  | \u001b[31m#\u001b[0m| \u001b[31m#\u001b[0m| \u001b[31m#\u001b[0m|  | \u001b[31m#\u001b[0m| \u001b[31m#\u001b[0m| \u001b[31m#\u001b[0m|\n",
      "---------------------------------\n",
      "5|  |  |  |  |  |  |  |  |  |  |  |\n",
      "---------------------------------\n",
      "6| \u001b[31m#\u001b[0m| \u001b[31m#\u001b[0m| \u001b[31m#\u001b[0m| \u001b[31m#\u001b[0m| \u001b[31m#\u001b[0m|  | \u001b[31m#\u001b[0m| \u001b[31m#\u001b[0m| \u001b[31m#\u001b[0m| \u001b[31m#\u001b[0m| \u001b[31m#\u001b[0m|\n",
      "---------------------------------\n",
      "7| \u001b[31m#\u001b[0m|  |  |  |  |  |  |  |  |  | \u001b[31m#\u001b[0m|\n",
      "---------------------------------\n",
      "8|  |  |  |  |  |  |  |  |  |  |  |\n",
      "---------------------------------\n",
      "9|  |  |  |  |  |  |  |  |  |  |  |\n",
      "---------------------------------\n",
      "10|  |  |  |  |  |  |  |  |  |  |  |\n",
      "---------------------------------\n"
     ]
    }
   ],
   "source": [
    "path = get_shortest_path(3, 9)\n",
    "print(\"\\nGrid - stars path from (3,9)\\n\")\n",
    "print_path(path)"
   ]
  },
  {
   "cell_type": "code",
   "execution_count": 20,
   "id": "06544da7",
   "metadata": {},
   "outputs": [
    {
     "name": "stdout",
     "output_type": "stream",
     "text": [
      "\n",
      "Grid - stars path from (9,6)\n",
      "\n",
      " | 0| 1| 2| 3| 4| 5| 6| 7| 8| 9|10|\n",
      "---------------------------------\n",
      "0| \u001b[31m#\u001b[0m| \u001b[31m#\u001b[0m| \u001b[31m#\u001b[0m| \u001b[31m#\u001b[0m| \u001b[31m#\u001b[0m| \u001b[34m*\u001b[0m| \u001b[31m#\u001b[0m| \u001b[31m#\u001b[0m| \u001b[31m#\u001b[0m| \u001b[31m#\u001b[0m| \u001b[31m#\u001b[0m|\n",
      "---------------------------------\n",
      "1| \u001b[31m#\u001b[0m|  |  |  |  | \u001b[34m*\u001b[0m| \u001b[34m*\u001b[0m| \u001b[34m*\u001b[0m|  |  | \u001b[31m#\u001b[0m|\n",
      "---------------------------------\n",
      "2| \u001b[31m#\u001b[0m|  | \u001b[31m#\u001b[0m| \u001b[31m#\u001b[0m| \u001b[31m#\u001b[0m| \u001b[31m#\u001b[0m| \u001b[31m#\u001b[0m| \u001b[34m*\u001b[0m| \u001b[31m#\u001b[0m|  | \u001b[31m#\u001b[0m|\n",
      "---------------------------------\n",
      "3| \u001b[31m#\u001b[0m|  |  |  |  |  |  | \u001b[34m*\u001b[0m| \u001b[31m#\u001b[0m|  | \u001b[31m#\u001b[0m|\n",
      "---------------------------------\n",
      "4| \u001b[31m#\u001b[0m| \u001b[31m#\u001b[0m| \u001b[31m#\u001b[0m|  | \u001b[31m#\u001b[0m| \u001b[31m#\u001b[0m| \u001b[31m#\u001b[0m| \u001b[34m*\u001b[0m| \u001b[31m#\u001b[0m| \u001b[31m#\u001b[0m| \u001b[31m#\u001b[0m|\n",
      "---------------------------------\n",
      "5|  |  |  |  |  | \u001b[34m*\u001b[0m| \u001b[34m*\u001b[0m| \u001b[34m*\u001b[0m|  |  |  |\n",
      "---------------------------------\n",
      "6| \u001b[31m#\u001b[0m| \u001b[31m#\u001b[0m| \u001b[31m#\u001b[0m| \u001b[31m#\u001b[0m| \u001b[31m#\u001b[0m| \u001b[34m*\u001b[0m| \u001b[31m#\u001b[0m| \u001b[31m#\u001b[0m| \u001b[31m#\u001b[0m| \u001b[31m#\u001b[0m| \u001b[31m#\u001b[0m|\n",
      "---------------------------------\n",
      "7| \u001b[31m#\u001b[0m|  |  |  |  | \u001b[34m*\u001b[0m|  |  |  |  | \u001b[31m#\u001b[0m|\n",
      "---------------------------------\n",
      "8|  |  |  |  |  | \u001b[34m*\u001b[0m|  |  |  |  |  |\n",
      "---------------------------------\n",
      "9|  |  |  |  |  | \u001b[34m*\u001b[0m| \u001b[34m*\u001b[0m|  |  |  |  |\n",
      "---------------------------------\n",
      "10|  |  |  |  |  |  |  |  |  |  |  |\n",
      "---------------------------------\n"
     ]
    }
   ],
   "source": [
    "path = get_shortest_path(9, 6)\n",
    "\n",
    "print(\"\\nGrid - stars path from (9,6)\\n\")\n",
    "print_path(path)"
   ]
  },
  {
   "cell_type": "code",
   "execution_count": 21,
   "id": "f34e0f8c",
   "metadata": {},
   "outputs": [
    {
     "name": "stdout",
     "output_type": "stream",
     "text": [
      "\n",
      "Grid - stars path from (3,1)\n",
      "\n",
      " | 0| 1| 2| 3| 4| 5| 6| 7| 8| 9|10|\n",
      "---------------------------------\n",
      "0| \u001b[31m#\u001b[0m| \u001b[31m#\u001b[0m| \u001b[31m#\u001b[0m| \u001b[31m#\u001b[0m| \u001b[31m#\u001b[0m| \u001b[34m*\u001b[0m| \u001b[31m#\u001b[0m| \u001b[31m#\u001b[0m| \u001b[31m#\u001b[0m| \u001b[31m#\u001b[0m| \u001b[31m#\u001b[0m|\n",
      "---------------------------------\n",
      "1| \u001b[31m#\u001b[0m| \u001b[34m*\u001b[0m| \u001b[34m*\u001b[0m| \u001b[34m*\u001b[0m| \u001b[34m*\u001b[0m| \u001b[34m*\u001b[0m|  |  |  |  | \u001b[31m#\u001b[0m|\n",
      "---------------------------------\n",
      "2| \u001b[31m#\u001b[0m| \u001b[34m*\u001b[0m| \u001b[31m#\u001b[0m| \u001b[31m#\u001b[0m| \u001b[31m#\u001b[0m| \u001b[31m#\u001b[0m| \u001b[31m#\u001b[0m|  | \u001b[31m#\u001b[0m|  | \u001b[31m#\u001b[0m|\n",
      "---------------------------------\n",
      "3| \u001b[31m#\u001b[0m| \u001b[34m*\u001b[0m|  |  |  |  |  |  | \u001b[31m#\u001b[0m|  | \u001b[31m#\u001b[0m|\n",
      "---------------------------------\n",
      "4| \u001b[31m#\u001b[0m| \u001b[31m#\u001b[0m| \u001b[31m#\u001b[0m|  | \u001b[31m#\u001b[0m| \u001b[31m#\u001b[0m| \u001b[31m#\u001b[0m|  | \u001b[31m#\u001b[0m| \u001b[31m#\u001b[0m| \u001b[31m#\u001b[0m|\n",
      "---------------------------------\n",
      "5|  |  |  |  |  |  |  |  |  |  |  |\n",
      "---------------------------------\n",
      "6| \u001b[31m#\u001b[0m| \u001b[31m#\u001b[0m| \u001b[31m#\u001b[0m| \u001b[31m#\u001b[0m| \u001b[31m#\u001b[0m|  | \u001b[31m#\u001b[0m| \u001b[31m#\u001b[0m| \u001b[31m#\u001b[0m| \u001b[31m#\u001b[0m| \u001b[31m#\u001b[0m|\n",
      "---------------------------------\n",
      "7| \u001b[31m#\u001b[0m|  |  |  |  |  |  |  |  |  | \u001b[31m#\u001b[0m|\n",
      "---------------------------------\n",
      "8|  |  |  |  |  |  |  |  |  |  |  |\n",
      "---------------------------------\n",
      "9|  |  |  |  |  |  |  |  |  |  |  |\n",
      "---------------------------------\n",
      "10|  |  |  |  |  |  |  |  |  |  |  |\n",
      "---------------------------------\n"
     ]
    }
   ],
   "source": [
    "path = get_shortest_path(3, 1)\n",
    "print(\"\\nGrid - stars path from (3,1)\\n\")\n",
    "print_path(path)"
   ]
  },
  {
   "cell_type": "markdown",
   "id": "f2555cd3",
   "metadata": {},
   "source": [
    "<b>Test: Get shortest path</b>"
   ]
  },
  {
   "cell_type": "code",
   "execution_count": 22,
   "id": "cd816cbf",
   "metadata": {},
   "outputs": [
    {
     "name": "stdout",
     "output_type": "stream",
     "text": [
      "[[3, 9], [2, 9], [1, 9], [1, 8], [1, 7], [1, 6], [1, 5], [0, 5]]\n",
      "[[5, 0], [5, 1], [5, 2], [5, 3], [5, 4], [5, 5], [5, 6], [5, 7], [4, 7], [3, 7], [2, 7], [1, 7], [1, 6], [1, 5], [0, 5]]\n"
     ]
    }
   ],
   "source": [
    "print(get_shortest_path(3, 9))\n",
    "print(get_shortest_path(5, 0))"
   ]
  },
  {
   "cell_type": "markdown",
   "id": "8e16c23c",
   "metadata": {},
   "source": [
    "<b>Reverse path</b>"
   ]
  },
  {
   "cell_type": "code",
   "execution_count": 23,
   "id": "fbf73fcc",
   "metadata": {},
   "outputs": [
    {
     "name": "stdout",
     "output_type": "stream",
     "text": [
      "\n",
      "Path\n",
      "\n",
      "[[0, 5], [1, 5], [1, 6], [1, 7], [2, 7], [3, 7], [4, 7], [5, 7], [5, 6], [5, 5], [5, 4], [5, 3], [5, 2]]\n",
      "\n",
      "Rewards Metrics\n",
      "\n",
      "[[-100. -100. -100. -100. -100.  100. -100. -100. -100. -100. -100.]\n",
      " [-100.   -1.   -1.   -1.   -1.   -1.   -1.   -1.   -1.   -1. -100.]\n",
      " [-100.   -1. -100. -100. -100. -100. -100.   -1. -100.   -1. -100.]\n",
      " [-100.   -1.   -1.   -1.   -1.   -1.   -1.   -1. -100.   -1. -100.]\n",
      " [-100. -100. -100.   -1. -100. -100. -100.   -1. -100. -100. -100.]\n",
      " [  -1.   -1.   -1.   -1.   -1.   -1.   -1.   -1.   -1.   -1.   -1.]\n",
      " [-100. -100. -100. -100. -100.   -1. -100. -100. -100. -100. -100.]\n",
      " [-100.   -1.   -1.   -1.   -1.   -1.   -1.   -1.   -1.   -1. -100.]\n",
      " [  -1.   -1.   -1.   -1.   -1.   -1.   -1.   -1.   -1.   -1.   -1.]\n",
      " [  -1.   -1.   -1.   -1.   -1.   -1.   -1.   -1.   -1.   -1.   -1.]\n",
      " [  -1.   -1.   -1.   -1.   -1.   -1.   -1.   -1.   -1.   -1.   -1.]]\n",
      "\n",
      "Grid - stars path to (5,2)\n",
      "\n",
      " | 0| 1| 2| 3| 4| 5| 6| 7| 8| 9|10|\n",
      "---------------------------------\n",
      "0| \u001b[31m#\u001b[0m| \u001b[31m#\u001b[0m| \u001b[31m#\u001b[0m| \u001b[31m#\u001b[0m| \u001b[31m#\u001b[0m| \u001b[34m*\u001b[0m| \u001b[31m#\u001b[0m| \u001b[31m#\u001b[0m| \u001b[31m#\u001b[0m| \u001b[31m#\u001b[0m| \u001b[31m#\u001b[0m|\n",
      "---------------------------------\n",
      "1| \u001b[31m#\u001b[0m|  |  |  |  | \u001b[34m*\u001b[0m| \u001b[34m*\u001b[0m| \u001b[34m*\u001b[0m|  |  | \u001b[31m#\u001b[0m|\n",
      "---------------------------------\n",
      "2| \u001b[31m#\u001b[0m|  | \u001b[31m#\u001b[0m| \u001b[31m#\u001b[0m| \u001b[31m#\u001b[0m| \u001b[31m#\u001b[0m| \u001b[31m#\u001b[0m| \u001b[34m*\u001b[0m| \u001b[31m#\u001b[0m|  | \u001b[31m#\u001b[0m|\n",
      "---------------------------------\n",
      "3| \u001b[31m#\u001b[0m|  |  |  |  |  |  | \u001b[34m*\u001b[0m| \u001b[31m#\u001b[0m|  | \u001b[31m#\u001b[0m|\n",
      "---------------------------------\n",
      "4| \u001b[31m#\u001b[0m| \u001b[31m#\u001b[0m| \u001b[31m#\u001b[0m|  | \u001b[31m#\u001b[0m| \u001b[31m#\u001b[0m| \u001b[31m#\u001b[0m| \u001b[34m*\u001b[0m| \u001b[31m#\u001b[0m| \u001b[31m#\u001b[0m| \u001b[31m#\u001b[0m|\n",
      "---------------------------------\n",
      "5|  |  | \u001b[34m*\u001b[0m| \u001b[34m*\u001b[0m| \u001b[34m*\u001b[0m| \u001b[34m*\u001b[0m| \u001b[34m*\u001b[0m| \u001b[34m*\u001b[0m|  |  |  |\n",
      "---------------------------------\n",
      "6| \u001b[31m#\u001b[0m| \u001b[31m#\u001b[0m| \u001b[31m#\u001b[0m| \u001b[31m#\u001b[0m| \u001b[31m#\u001b[0m|  | \u001b[31m#\u001b[0m| \u001b[31m#\u001b[0m| \u001b[31m#\u001b[0m| \u001b[31m#\u001b[0m| \u001b[31m#\u001b[0m|\n",
      "---------------------------------\n",
      "7| \u001b[31m#\u001b[0m|  |  |  |  |  |  |  |  |  | \u001b[31m#\u001b[0m|\n",
      "---------------------------------\n",
      "8|  |  |  |  |  |  |  |  |  |  |  |\n",
      "---------------------------------\n",
      "9|  |  |  |  |  |  |  |  |  |  |  |\n",
      "---------------------------------\n",
      "10|  |  |  |  |  |  |  |  |  |  |  |\n",
      "---------------------------------\n"
     ]
    }
   ],
   "source": [
    "path = get_shortest_path(5, 2)\n",
    "path.reverse()\n",
    "\n",
    "print(\"\\nPath\\n\")\n",
    "print(path)\n",
    "\n",
    "print(\"\\nRewards Metrics\\n\")\n",
    "print(rewards)\n",
    "\n",
    "print(\"\\nGrid - stars path to (5,2)\\n\")\n",
    "print_path(path)"
   ]
  },
  {
   "cell_type": "code",
   "execution_count": 24,
   "id": "7e43ccba",
   "metadata": {},
   "outputs": [
    {
     "data": {
      "text/plain": [
       "array([[[  0.        ,   0.        ,   0.        ,   0.        ],\n",
       "        [  0.        ,   0.        ,   0.        ,   0.        ],\n",
       "        [  0.        ,   0.        ,   0.        ,   0.        ],\n",
       "        [  0.        ,   0.        ,   0.        ,   0.        ],\n",
       "        [  0.        ,   0.        ,   0.        ,   0.        ],\n",
       "        [  0.        ,   0.        ,   0.        ,   0.        ],\n",
       "        [  0.        ,   0.        ,   0.        ,   0.        ],\n",
       "        [  0.        ,   0.        ,   0.        ,   0.        ],\n",
       "        [  0.        ,   0.        ,   0.        ,   0.        ],\n",
       "        [  0.        ,   0.        ,   0.        ,   0.        ],\n",
       "        [  0.        ,   0.        ,   0.        ,   0.        ]],\n",
       "\n",
       "       [[  0.        ,   0.        ,   0.        ,   0.        ],\n",
       "        [-89.19      ,  90.42578427,  70.65146378, -89.19      ],\n",
       "        [-89.19      ,  90.51578427, -89.19      ,  72.37420584],\n",
       "        [-89.19      ,  90.60578427, -89.19      ,  88.61162643],\n",
       "        [-89.19      ,  90.69578427, -89.19      ,  90.31636848],\n",
       "        [ 90.81      ,  90.56784269, -89.19      ,  90.56784269],\n",
       "        [-89.19      ,  90.31636848, -89.19      ,  90.69578427],\n",
       "        [-89.19      ,  88.61162643,  72.41008022,  90.60578427],\n",
       "        [-89.19      ,  72.37420584, -89.19      ,  90.51578427],\n",
       "        [-89.19      , -89.19      ,  70.65146378,  90.42578427],\n",
       "        [  0.        ,   0.        ,   0.        ,   0.        ]],\n",
       "\n",
       "       [[  0.        ,   0.        ,   0.        ,   0.        ],\n",
       "        [ 72.37420584, -89.19      ,  56.04678526, -89.19      ],\n",
       "        [  0.        ,   0.        ,   0.        ,   0.        ],\n",
       "        [  0.        ,   0.        ,   0.        ,   0.        ],\n",
       "        [  0.        ,   0.        ,   0.        ,   0.        ],\n",
       "        [  0.        ,   0.        ,   0.        ,   0.        ],\n",
       "        [  0.        ,   0.        ,   0.        ,   0.        ],\n",
       "        [ 72.53620584, -89.19      ,  72.17494964, -89.19      ],\n",
       "        [  0.        ,   0.        ,   0.        ,   0.        ],\n",
       "        [ 72.37420584, -89.19      ,  56.04678526, -89.19      ],\n",
       "        [  0.        ,   0.        ,   0.        ,   0.        ]],\n",
       "\n",
       "       [[  0.        ,   0.        ,   0.        ,   0.        ],\n",
       "        [ 72.28420584,  55.92496176, -89.19      , -89.19      ],\n",
       "        [-89.19      ,  55.72855029, -89.19      ,  56.04678526],\n",
       "        [-89.19      ,  55.56769191,  55.59652018,  55.95678526],\n",
       "        [-89.19      ,  56.01258526, -89.19      ,  55.86678526],\n",
       "        [-89.19      ,  56.10258526, -89.19      ,  55.77678526],\n",
       "        [-89.19      ,  56.19258526, -89.19      ,  55.98000526],\n",
       "        [ 72.44620584, -89.19      ,  70.63364378,  56.08132726],\n",
       "        [  0.        ,   0.        ,   0.        ,   0.        ],\n",
       "        [ 72.28420584, -89.19      , -89.19      , -89.19      ],\n",
       "        [  0.        ,   0.        ,   0.        ,   0.        ]],\n",
       "\n",
       "       [[  0.        ,   0.        ,   0.        ,   0.        ],\n",
       "        [  0.        ,   0.        ,   0.        ,   0.        ],\n",
       "        [  0.        ,   0.        ,   0.        ,   0.        ],\n",
       "        [ 41.35210673, -89.19      ,  55.68652018, -89.19      ],\n",
       "        [  0.        ,   0.        ,   0.        ,   0.        ],\n",
       "        [  0.        ,   0.        ,   0.        ,   0.        ],\n",
       "        [  0.        ,   0.        ,   0.        ,   0.        ],\n",
       "        [ 72.35620584, -89.19      ,  56.03058526, -89.19      ],\n",
       "        [  0.        ,   0.        ,   0.        ,   0.        ],\n",
       "        [  0.        ,   0.        ,   0.        ,   0.        ],\n",
       "        [  0.        ,   0.        ,   0.        ,   0.        ]],\n",
       "\n",
       "       [[-89.19      ,  71.61391131, -89.19      ,  71.43258045],\n",
       "        [-89.19      ,  71.70391131, -89.19      ,  71.50577822],\n",
       "        [-89.19      ,  71.79391131, -89.19      ,  71.594098  ],\n",
       "        [ 54.16307883,  71.88391131, -89.19      ,  71.68392998],\n",
       "        [-89.19      ,  71.97391131, -89.19      ,  71.77391318],\n",
       "        [-89.19      ,  72.06391131,  55.73852118,  71.8639115 ],\n",
       "        [-89.19      ,  72.15391131, -89.19      ,  71.95391133],\n",
       "        [ 72.26620584,  72.04326051, -89.19      ,  72.04391131],\n",
       "        [-89.19      ,  71.9468183 , -89.19      ,  72.15397639],\n",
       "        [-89.19      ,  71.7923962 , -89.19      ,  72.06397639],\n",
       "        [-89.19      ,  71.05817526, -89.19      ,  71.97397631]],\n",
       "\n",
       "       [[  0.        ,   0.        ,   0.        ,   0.        ],\n",
       "        [  0.        ,   0.        ,   0.        ,   0.        ],\n",
       "        [  0.        ,   0.        ,   0.        ,   0.        ],\n",
       "        [  0.        ,   0.        ,   0.        ,   0.        ],\n",
       "        [  0.        ,   0.        ,   0.        ,   0.        ],\n",
       "        [ 55.84852018, -89.19      ,  55.64853018, -89.19      ],\n",
       "        [  0.        ,   0.        ,   0.        ,   0.        ],\n",
       "        [  0.        ,   0.        ,   0.        ,   0.        ],\n",
       "        [  0.        ,   0.        ,   0.        ,   0.        ],\n",
       "        [  0.        ,   0.        ,   0.        ,   0.        ],\n",
       "        [  0.        ,   0.        ,   0.        ,   0.        ]],\n",
       "\n",
       "       [[  0.        ,   0.        ,   0.        ,   0.        ],\n",
       "        [-89.19      ,  55.37469309,  47.85199174, -89.19      ],\n",
       "        [-89.19      ,  55.46469309,  55.234564  ,  40.81564788],\n",
       "        [-89.19      ,  55.55469309,  55.35637851,  53.90366971],\n",
       "        [-89.19      ,  55.64469309,  55.44613186,  55.29959075],\n",
       "        [ 55.75852018,  55.52024931,  55.55862018,  55.52018286],\n",
       "        [-89.19      ,  55.30031505,  55.4463206 ,  55.64468645],\n",
       "        [-89.19      ,  53.9109725 ,  55.35624675,  55.55468645],\n",
       "        [-89.19      ,  40.82754805,  55.24414732,  55.46468645],\n",
       "        [-89.19      , -89.19      ,  55.17606824,  55.37468645],\n",
       "        [  0.        ,   0.        ,   0.        ,   0.        ]],\n",
       "\n",
       "       [[-89.19      ,  55.19628305,  44.61371437,  47.7776337 ],\n",
       "        [ 40.82822378,  55.28628305, -18.15662874,  54.36441798],\n",
       "        [ 40.90922378,  55.37628912,  55.17581437,  55.10409655],\n",
       "        [ 40.99022378,  55.46628912,  55.26723759,  55.2590644 ],\n",
       "        [ 41.07122378,  55.55628912,  55.357288  ,  55.35556119],\n",
       "        [ 55.66852018,  55.44620959,  55.46952018,  55.44621633],\n",
       "        [ 41.0712177 ,  55.35549267,  55.3572094 ,  55.55628979],\n",
       "        [ 40.9902177 ,  55.26631451,  55.26647346,  55.46628925],\n",
       "        [ 40.90849045,  55.17714853,  54.95576262,  55.37628925],\n",
       "        [ 40.82821775,  55.09548868,  55.08468583,  55.28628925],\n",
       "        [-89.19      ,  55.08889033,  54.99702884,  55.19628925]],\n",
       "\n",
       "       [[ 40.66765461,  55.10628712,  54.91613523,  47.51829612],\n",
       "        [ 53.71914184,  55.19628712,  55.00627803,  47.37579256],\n",
       "        [ 53.83957639,  55.28628712,  55.08158533,  54.32423767],\n",
       "        [ 53.92867707,  55.37628712,  55.18627892,  55.07965026],\n",
       "        [ 54.01777712,  55.46628712,  55.27629593,  55.25662343],\n",
       "        [ 55.57852018,  55.35618961,  55.38852018,  55.35532075],\n",
       "        [ 54.01772143,  55.26609658,  55.27629447,  55.46620024],\n",
       "        [ 53.92862143,  55.17516629,  55.17893524,  55.37619995],\n",
       "        [ 53.8394487 ,  55.08708666,  54.87485035,  55.28619995],\n",
       "        [ 53.72776326,  55.00506701,  54.98105877,  55.19619995],\n",
       "        [ 39.90845755,  54.99772934,  54.91451435,  55.10619995]],\n",
       "\n",
       "       [[ 53.40128511,  55.016296  ,  54.91468847,  54.91613697],\n",
       "        [ 54.58246087,  55.106296  ,  55.0062919 ,  54.90108229],\n",
       "        [ 55.05161325,  55.196296  ,  55.0961437 ,  54.99577233],\n",
       "        [ 55.14152612,  55.286296  ,  55.18612536,  55.08624361],\n",
       "        [ 55.23137217,  55.376296  ,  55.27629593,  55.17629076],\n",
       "        [ 55.48852018,  55.2662784 ,  55.38852018,  55.26629468],\n",
       "        [ 55.2313521 ,  55.17610539,  55.27629447,  55.37629763],\n",
       "        [ 55.1414421 ,  55.08463221,  55.17893524,  55.28629763],\n",
       "        [ 55.0515248 ,  54.99698331,  55.0741529 ,  55.19629763],\n",
       "        [ 54.9590704 ,  54.91315442,  54.75429079,  55.10629763],\n",
       "        [ 53.49613985,  54.88512139,  54.91609373,  55.01629763]]])"
      ]
     },
     "execution_count": 24,
     "metadata": {},
     "output_type": "execute_result"
    }
   ],
   "source": [
    "q_values"
   ]
  },
  {
   "cell_type": "code",
   "execution_count": 36,
   "id": "d154ac1b",
   "metadata": {},
   "outputs": [
    {
     "data": {
      "text/plain": [
       "array([[-100., -100., -100., -100., -100.,  100., -100., -100., -100.,\n",
       "        -100., -100.],\n",
       "       [-100.,   -1.,   -1.,   -1.,   -1.,   -1.,   -1.,   -1.,   -1.,\n",
       "          -1., -100.],\n",
       "       [-100.,   -1., -100., -100., -100., -100., -100.,   -1., -100.,\n",
       "          -1., -100.],\n",
       "       [-100.,   -1.,   -1.,   -1.,   -1.,   -1.,   -1.,   -1., -100.,\n",
       "          -1., -100.],\n",
       "       [-100., -100., -100.,   -1., -100., -100., -100.,   -1., -100.,\n",
       "        -100., -100.],\n",
       "       [  -1.,   -1.,   -1.,   -1.,   -1.,   -1.,   -1.,   -1.,   -1.,\n",
       "          -1.,   -1.],\n",
       "       [-100., -100., -100., -100., -100.,   -1., -100., -100., -100.,\n",
       "        -100., -100.],\n",
       "       [-100.,   -1.,   -1.,   -1.,   -1.,   -1.,   -1.,   -1.,   -1.,\n",
       "          -1., -100.],\n",
       "       [  -1.,   -1.,   -1.,   -1.,   -1.,   -1.,   -1.,   -1.,   -1.,\n",
       "          -1.,   -1.],\n",
       "       [  -1.,   -1.,   -1.,   -1.,   -1.,   -1.,   -1.,   -1.,   -1.,\n",
       "          -1.,   -1.],\n",
       "       [  -1.,   -1.,   -1.,   -1.,   -1.,   -1.,   -1.,   -1.,   -1.,\n",
       "          -1.,   -1.]])"
      ]
     },
     "execution_count": 36,
     "metadata": {},
     "output_type": "execute_result"
    }
   ],
   "source": [
    "rewards"
   ]
  },
  {
   "cell_type": "code",
   "execution_count": 25,
   "id": "d460c60f",
   "metadata": {},
   "outputs": [],
   "source": [
    "import gym\n",
    "import numpy as np\n",
    "from keras.models import Sequential\n",
    "from keras.layers import InputLayer\n",
    "from keras.layers import Dense"
   ]
  },
  {
   "cell_type": "code",
   "execution_count": 26,
   "id": "79b45d2f",
   "metadata": {},
   "outputs": [],
   "source": [
    "discount_factor = 0.95\n",
    "eps = 0.5\n",
    "eps_decay_factor = 0.999\n",
    "num_episodes=500"
   ]
  },
  {
   "cell_type": "code",
   "execution_count": 73,
   "id": "42a7d600",
   "metadata": {},
   "outputs": [
    {
     "data": {
      "text/plain": [
       "(121,)"
      ]
     },
     "execution_count": 73,
     "metadata": {},
     "output_type": "execute_result"
    }
   ],
   "source": [
    "r1 = rewards.flatten()\n",
    "r1.shape"
   ]
  },
  {
   "cell_type": "code",
   "execution_count": 99,
   "id": "faa28109",
   "metadata": {},
   "outputs": [],
   "source": [
    "import tensorflow as tf"
   ]
  },
  {
   "cell_type": "code",
   "execution_count": 100,
   "id": "40dcfc3b",
   "metadata": {},
   "outputs": [
    {
     "data": {
      "text/plain": [
       "<tf.Tensor: shape=(121,), dtype=float32, numpy=\n",
       "array([-100., -100., -100., -100., -100.,  100., -100., -100., -100.,\n",
       "       -100., -100., -100.,   -1.,   -1.,   -1.,   -1.,   -1.,   -1.,\n",
       "         -1.,   -1.,   -1., -100., -100.,   -1., -100., -100., -100.,\n",
       "       -100., -100.,   -1., -100.,   -1., -100., -100.,   -1.,   -1.,\n",
       "         -1.,   -1.,   -1.,   -1.,   -1., -100.,   -1., -100., -100.,\n",
       "       -100., -100.,   -1., -100., -100., -100.,   -1., -100., -100.,\n",
       "       -100.,   -1.,   -1.,   -1.,   -1.,   -1.,   -1.,   -1.,   -1.,\n",
       "         -1.,   -1.,   -1., -100., -100., -100., -100., -100.,   -1.,\n",
       "       -100., -100., -100., -100., -100., -100.,   -1.,   -1.,   -1.,\n",
       "         -1.,   -1.,   -1.,   -1.,   -1.,   -1., -100.,   -1.,   -1.,\n",
       "         -1.,   -1.,   -1.,   -1.,   -1.,   -1.,   -1.,   -1.,   -1.,\n",
       "         -1.,   -1.,   -1.,   -1.,   -1.,   -1.,   -1.,   -1.,   -1.,\n",
       "         -1.,   -1.,   -1.,   -1.,   -1.,   -1.,   -1.,   -1.,   -1.,\n",
       "         -1.,   -1.,   -1.,   -1.], dtype=float32)>"
      ]
     },
     "execution_count": 100,
     "metadata": {},
     "output_type": "execute_result"
    }
   ],
   "source": [
    "r1\n",
    "x = tf.cast(r1,tf.float32) \n",
    "x"
   ]
  },
  {
   "cell_type": "code",
   "execution_count": 60,
   "id": "baeba966",
   "metadata": {},
   "outputs": [],
   "source": [
    "rows = np.shape(r1)[0]"
   ]
  },
  {
   "cell_type": "code",
   "execution_count": 61,
   "id": "c7eb26fd",
   "metadata": {},
   "outputs": [
    {
     "data": {
      "text/plain": [
       "['up', 'right', 'down', 'left']"
      ]
     },
     "execution_count": 61,
     "metadata": {},
     "output_type": "execute_result"
    }
   ],
   "source": [
    "actions"
   ]
  },
  {
   "cell_type": "code",
   "execution_count": 68,
   "id": "ff614e33",
   "metadata": {},
   "outputs": [],
   "source": [
    "action_count = len(actions)"
   ]
  },
  {
   "cell_type": "code",
   "execution_count": 77,
   "id": "62722344",
   "metadata": {},
   "outputs": [
    {
     "data": {
      "text/plain": [
       "array([0., 0., 0., 0.])"
      ]
     },
     "execution_count": 77,
     "metadata": {},
     "output_type": "execute_result"
    }
   ],
   "source": [
    "q_values[0][0]"
   ]
  },
  {
   "cell_type": "code",
   "execution_count": 101,
   "id": "f74285cc",
   "metadata": {},
   "outputs": [
    {
     "data": {
      "text/plain": [
       "<tf.Tensor: shape=(121,), dtype=float32, numpy=\n",
       "array([ 0.      ,  0.      ,  0.      ,  0.      ,  0.      , 71.613914,\n",
       "        0.      ,  0.      , 55.19628 , 55.10629 , 55.016296,  0.      ,\n",
       "       90.42578 , 72.37421 , 72.2842  ,  0.      , 71.70391 ,  0.      ,\n",
       "       55.374695, 55.28628 , 55.196285, 55.106297,  0.      , 90.515785,\n",
       "        0.      , 56.046783,  0.      , 71.793915,  0.      , 55.464695,\n",
       "       55.37629 , 55.286285, 55.196297,  0.      , 90.60578 ,  0.      ,\n",
       "       55.956787, 55.68652 , 71.88391 ,  0.      , 55.55469 , 55.46629 ,\n",
       "       55.376286, 55.286297,  0.      , 90.695786,  0.      , 56.012585,\n",
       "        0.      , 71.973915,  0.      , 55.64469 , 55.55629 , 55.466286,\n",
       "       55.376297,  0.      , 90.81    ,  0.      , 56.102585,  0.      ,\n",
       "       72.06391 , 55.84852 , 55.758522, 55.66852 , 55.57852 , 55.48852 ,\n",
       "        0.      , 90.695786,  0.      , 56.192585,  0.      , 72.15391 ,\n",
       "        0.      , 55.644688, 55.55629 , 55.4662  , 55.376297,  0.      ,\n",
       "       90.60578 , 72.53621 , 72.446205, 72.35621 , 72.266205,  0.      ,\n",
       "       55.554688, 55.46629 , 55.3762  , 55.286297,  0.      , 90.515785,\n",
       "        0.      ,  0.      ,  0.      , 72.15398 ,  0.      , 55.464687,\n",
       "       55.37629 , 55.2862  , 55.196297,  0.      , 90.42578 , 72.37421 ,\n",
       "       72.2842  ,  0.      , 72.06398 ,  0.      , 55.374687, 55.28629 ,\n",
       "       55.1962  , 55.106297,  0.      ,  0.      ,  0.      ,  0.      ,\n",
       "        0.      , 71.973976,  0.      ,  0.      , 55.19629 , 55.1062  ,\n",
       "       55.016296], dtype=float32)>"
      ]
     },
     "execution_count": 101,
     "metadata": {},
     "output_type": "execute_result"
    }
   ],
   "source": [
    "q1 = []\n",
    "for j in range(11):\n",
    "    for i in range(11):\n",
    "        #print(q_values[i][j], max(q_values[i][j]))\n",
    "        q1.append(max(q_values[i][j]))\n",
    "q1\n",
    "y = tf.cast(q1,tf.float32) \n",
    "y"
   ]
  },
  {
   "cell_type": "code",
   "execution_count": 94,
   "id": "309ab637",
   "metadata": {},
   "outputs": [],
   "source": [
    "q1 = np.array(q1)"
   ]
  },
  {
   "cell_type": "code",
   "execution_count": 95,
   "id": "a4f74c3c",
   "metadata": {},
   "outputs": [
    {
     "data": {
      "text/plain": [
       "(121,)"
      ]
     },
     "execution_count": 95,
     "metadata": {},
     "output_type": "execute_result"
    }
   ],
   "source": [
    "#q1 = q_values.flatten()\n",
    "#q_values.shape\n",
    "q1.shape"
   ]
  },
  {
   "cell_type": "code",
   "execution_count": 106,
   "id": "8b5d196f",
   "metadata": {},
   "outputs": [],
   "source": [
    "model = Sequential()\n",
    "model.add(InputLayer(batch_input_shape=(0,rows)))\n",
    "model.add(Dense(20, activation='relu'))\n",
    "model.add(Dense(action_count, activation='linear'))\n",
    "model.compile(loss='mse', optimizer='adam', metrics=['mae'])"
   ]
  },
  {
   "cell_type": "code",
   "execution_count": 107,
   "id": "19acc6f6",
   "metadata": {},
   "outputs": [
    {
     "name": "stdout",
     "output_type": "stream",
     "text": [
      "Fit model on training data\n",
      "Epoch 1/2\n",
      "WARNING:tensorflow:Model was constructed with shape (0, 121) for input KerasTensor(type_spec=TensorSpec(shape=(0, 121), dtype=tf.float32, name='input_7'), name='input_7', description=\"created by layer 'input_7'\"), but it was called on an input with incompatible shape (None,).\n"
     ]
    },
    {
     "ename": "ValueError",
     "evalue": "in user code:\n\n    File \"c:\\users\\milind.desktop-gbr1bs2\\appdata\\local\\programs\\python\\python38\\lib\\site-packages\\keras\\engine\\training.py\", line 878, in train_function  *\n        return step_function(self, iterator)\n    File \"c:\\users\\milind.desktop-gbr1bs2\\appdata\\local\\programs\\python\\python38\\lib\\site-packages\\keras\\engine\\training.py\", line 867, in step_function  **\n        outputs = model.distribute_strategy.run(run_step, args=(data,))\n    File \"c:\\users\\milind.desktop-gbr1bs2\\appdata\\local\\programs\\python\\python38\\lib\\site-packages\\keras\\engine\\training.py\", line 860, in run_step  **\n        outputs = model.train_step(data)\n    File \"c:\\users\\milind.desktop-gbr1bs2\\appdata\\local\\programs\\python\\python38\\lib\\site-packages\\keras\\engine\\training.py\", line 808, in train_step\n        y_pred = self(x, training=True)\n    File \"c:\\users\\milind.desktop-gbr1bs2\\appdata\\local\\programs\\python\\python38\\lib\\site-packages\\keras\\utils\\traceback_utils.py\", line 67, in error_handler\n        raise e.with_traceback(filtered_tb) from None\n    File \"c:\\users\\milind.desktop-gbr1bs2\\appdata\\local\\programs\\python\\python38\\lib\\site-packages\\keras\\engine\\input_spec.py\", line 227, in assert_input_compatibility\n        raise ValueError(f'Input {input_index} of layer \"{layer_name}\" '\n\n    ValueError: Exception encountered when calling layer \"sequential_7\" (type Sequential).\n    \n    Input 0 of layer \"dense_10\" is incompatible with the layer: expected min_ndim=2, found ndim=1. Full shape received: (None,)\n    \n    Call arguments received:\n      • inputs=tf.Tensor(shape=(None,), dtype=float32)\n      • training=True\n      • mask=None\n",
     "output_type": "error",
     "traceback": [
      "\u001b[1;31m---------------------------------------------------------------------------\u001b[0m",
      "\u001b[1;31mValueError\u001b[0m                                Traceback (most recent call last)",
      "\u001b[1;32m<ipython-input-107-7a08ba0eb14c>\u001b[0m in \u001b[0;36m<module>\u001b[1;34m\u001b[0m\n\u001b[0;32m      1\u001b[0m \u001b[0mprint\u001b[0m\u001b[1;33m(\u001b[0m\u001b[1;34m\"Fit model on training data\"\u001b[0m\u001b[1;33m)\u001b[0m\u001b[1;33m\u001b[0m\u001b[1;33m\u001b[0m\u001b[0m\n\u001b[1;32m----> 2\u001b[1;33m history = model.fit(\n\u001b[0m\u001b[0;32m      3\u001b[0m     \u001b[0mx\u001b[0m\u001b[1;33m,\u001b[0m\u001b[1;33m\u001b[0m\u001b[1;33m\u001b[0m\u001b[0m\n\u001b[0;32m      4\u001b[0m     \u001b[0my\u001b[0m\u001b[1;33m,\u001b[0m\u001b[1;33m\u001b[0m\u001b[1;33m\u001b[0m\u001b[0m\n\u001b[0;32m      5\u001b[0m     \u001b[0mbatch_size\u001b[0m\u001b[1;33m=\u001b[0m\u001b[1;36m16\u001b[0m\u001b[1;33m,\u001b[0m\u001b[1;33m\u001b[0m\u001b[1;33m\u001b[0m\u001b[0m\n",
      "\u001b[1;32mc:\\users\\milind.desktop-gbr1bs2\\appdata\\local\\programs\\python\\python38\\lib\\site-packages\\keras\\utils\\traceback_utils.py\u001b[0m in \u001b[0;36merror_handler\u001b[1;34m(*args, **kwargs)\u001b[0m\n\u001b[0;32m     65\u001b[0m     \u001b[1;32mexcept\u001b[0m \u001b[0mException\u001b[0m \u001b[1;32mas\u001b[0m \u001b[0me\u001b[0m\u001b[1;33m:\u001b[0m  \u001b[1;31m# pylint: disable=broad-except\u001b[0m\u001b[1;33m\u001b[0m\u001b[1;33m\u001b[0m\u001b[0m\n\u001b[0;32m     66\u001b[0m       \u001b[0mfiltered_tb\u001b[0m \u001b[1;33m=\u001b[0m \u001b[0m_process_traceback_frames\u001b[0m\u001b[1;33m(\u001b[0m\u001b[0me\u001b[0m\u001b[1;33m.\u001b[0m\u001b[0m__traceback__\u001b[0m\u001b[1;33m)\u001b[0m\u001b[1;33m\u001b[0m\u001b[1;33m\u001b[0m\u001b[0m\n\u001b[1;32m---> 67\u001b[1;33m       \u001b[1;32mraise\u001b[0m \u001b[0me\u001b[0m\u001b[1;33m.\u001b[0m\u001b[0mwith_traceback\u001b[0m\u001b[1;33m(\u001b[0m\u001b[0mfiltered_tb\u001b[0m\u001b[1;33m)\u001b[0m \u001b[1;32mfrom\u001b[0m \u001b[1;32mNone\u001b[0m\u001b[1;33m\u001b[0m\u001b[1;33m\u001b[0m\u001b[0m\n\u001b[0m\u001b[0;32m     68\u001b[0m     \u001b[1;32mfinally\u001b[0m\u001b[1;33m:\u001b[0m\u001b[1;33m\u001b[0m\u001b[1;33m\u001b[0m\u001b[0m\n\u001b[0;32m     69\u001b[0m       \u001b[1;32mdel\u001b[0m \u001b[0mfiltered_tb\u001b[0m\u001b[1;33m\u001b[0m\u001b[1;33m\u001b[0m\u001b[0m\n",
      "\u001b[1;32mc:\\users\\milind.desktop-gbr1bs2\\appdata\\local\\programs\\python\\python38\\lib\\site-packages\\tensorflow\\python\\framework\\func_graph.py\u001b[0m in \u001b[0;36mautograph_handler\u001b[1;34m(*args, **kwargs)\u001b[0m\n\u001b[0;32m   1127\u001b[0m           \u001b[1;32mexcept\u001b[0m \u001b[0mException\u001b[0m \u001b[1;32mas\u001b[0m \u001b[0me\u001b[0m\u001b[1;33m:\u001b[0m  \u001b[1;31m# pylint:disable=broad-except\u001b[0m\u001b[1;33m\u001b[0m\u001b[1;33m\u001b[0m\u001b[0m\n\u001b[0;32m   1128\u001b[0m             \u001b[1;32mif\u001b[0m \u001b[0mhasattr\u001b[0m\u001b[1;33m(\u001b[0m\u001b[0me\u001b[0m\u001b[1;33m,\u001b[0m \u001b[1;34m\"ag_error_metadata\"\u001b[0m\u001b[1;33m)\u001b[0m\u001b[1;33m:\u001b[0m\u001b[1;33m\u001b[0m\u001b[1;33m\u001b[0m\u001b[0m\n\u001b[1;32m-> 1129\u001b[1;33m               \u001b[1;32mraise\u001b[0m \u001b[0me\u001b[0m\u001b[1;33m.\u001b[0m\u001b[0mag_error_metadata\u001b[0m\u001b[1;33m.\u001b[0m\u001b[0mto_exception\u001b[0m\u001b[1;33m(\u001b[0m\u001b[0me\u001b[0m\u001b[1;33m)\u001b[0m\u001b[1;33m\u001b[0m\u001b[1;33m\u001b[0m\u001b[0m\n\u001b[0m\u001b[0;32m   1130\u001b[0m             \u001b[1;32melse\u001b[0m\u001b[1;33m:\u001b[0m\u001b[1;33m\u001b[0m\u001b[1;33m\u001b[0m\u001b[0m\n\u001b[0;32m   1131\u001b[0m               \u001b[1;32mraise\u001b[0m\u001b[1;33m\u001b[0m\u001b[1;33m\u001b[0m\u001b[0m\n",
      "\u001b[1;31mValueError\u001b[0m: in user code:\n\n    File \"c:\\users\\milind.desktop-gbr1bs2\\appdata\\local\\programs\\python\\python38\\lib\\site-packages\\keras\\engine\\training.py\", line 878, in train_function  *\n        return step_function(self, iterator)\n    File \"c:\\users\\milind.desktop-gbr1bs2\\appdata\\local\\programs\\python\\python38\\lib\\site-packages\\keras\\engine\\training.py\", line 867, in step_function  **\n        outputs = model.distribute_strategy.run(run_step, args=(data,))\n    File \"c:\\users\\milind.desktop-gbr1bs2\\appdata\\local\\programs\\python\\python38\\lib\\site-packages\\keras\\engine\\training.py\", line 860, in run_step  **\n        outputs = model.train_step(data)\n    File \"c:\\users\\milind.desktop-gbr1bs2\\appdata\\local\\programs\\python\\python38\\lib\\site-packages\\keras\\engine\\training.py\", line 808, in train_step\n        y_pred = self(x, training=True)\n    File \"c:\\users\\milind.desktop-gbr1bs2\\appdata\\local\\programs\\python\\python38\\lib\\site-packages\\keras\\utils\\traceback_utils.py\", line 67, in error_handler\n        raise e.with_traceback(filtered_tb) from None\n    File \"c:\\users\\milind.desktop-gbr1bs2\\appdata\\local\\programs\\python\\python38\\lib\\site-packages\\keras\\engine\\input_spec.py\", line 227, in assert_input_compatibility\n        raise ValueError(f'Input {input_index} of layer \"{layer_name}\" '\n\n    ValueError: Exception encountered when calling layer \"sequential_7\" (type Sequential).\n    \n    Input 0 of layer \"dense_10\" is incompatible with the layer: expected min_ndim=2, found ndim=1. Full shape received: (None,)\n    \n    Call arguments received:\n      • inputs=tf.Tensor(shape=(None,), dtype=float32)\n      • training=True\n      • mask=None\n"
     ]
    }
   ],
   "source": [
    "print(\"Fit model on training data\")\n",
    "history = model.fit(\n",
    "    x,\n",
    "    y,\n",
    "    batch_size=16,\n",
    "    epochs=2\n",
    ")"
   ]
  }
 ],
 "metadata": {
  "kernelspec": {
   "display_name": "Python 3",
   "language": "python",
   "name": "python3"
  },
  "language_info": {
   "codemirror_mode": {
    "name": "ipython",
    "version": 3
   },
   "file_extension": ".py",
   "mimetype": "text/x-python",
   "name": "python",
   "nbconvert_exporter": "python",
   "pygments_lexer": "ipython3",
   "version": "3.8.6"
  }
 },
 "nbformat": 4,
 "nbformat_minor": 5
}
