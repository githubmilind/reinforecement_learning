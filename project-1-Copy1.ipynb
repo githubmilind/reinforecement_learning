{
 "cells": [
  {
   "cell_type": "markdown",
   "id": "85a0d650",
   "metadata": {},
   "source": [
    "https://github.com/mahakal001/reinforcement-learning/blob/master/rl-an-introduction/chapter02/10-armed-bandit-part-1.ipynb"
   ]
  },
  {
   "cell_type": "markdown",
   "id": "a3cdc3be",
   "metadata": {},
   "source": [
    "https://blog.gofynd.com/multi-armed-bandit-solution-methods-e85e6b19fb2d"
   ]
  },
  {
   "cell_type": "code",
   "execution_count": 1,
   "id": "7de5662a",
   "metadata": {},
   "outputs": [],
   "source": [
    "import numpy as np"
   ]
  },
  {
   "cell_type": "code",
   "execution_count": 2,
   "id": "492cedba",
   "metadata": {},
   "outputs": [],
   "source": [
    "import matplotlib.pyplot as plt"
   ]
  },
  {
   "cell_type": "code",
   "execution_count": 3,
   "id": "41369032",
   "metadata": {},
   "outputs": [],
   "source": [
    "np.random.seed(777)"
   ]
  },
  {
   "cell_type": "code",
   "execution_count": 4,
   "id": "61e67df7",
   "metadata": {},
   "outputs": [],
   "source": [
    "action_indices = np.arange(0,10)"
   ]
  },
  {
   "cell_type": "code",
   "execution_count": 5,
   "id": "d4111522",
   "metadata": {},
   "outputs": [],
   "source": [
    "# Sample true rewards from  normal ( not uniform ) distibution\n",
    "mu = 0\n",
    "sigma = 1\n",
    "shape = (10)\n",
    "true_rewards = np.random.normal(mu, sigma, shape)"
   ]
  },
  {
   "cell_type": "code",
   "execution_count": 6,
   "id": "690515be",
   "metadata": {},
   "outputs": [
    {
     "data": {
      "text/plain": [
       "array([-0.46820879, -0.82282485, -0.0653801 , -0.71336192,  0.90635089,\n",
       "        0.76623673,  0.82605407, -1.32368279, -1.75244452,  1.00244907])"
      ]
     },
     "execution_count": 6,
     "metadata": {},
     "output_type": "execute_result"
    }
   ],
   "source": [
    "true_rewards"
   ]
  },
  {
   "cell_type": "code",
   "execution_count": 7,
   "id": "69653ba7",
   "metadata": {},
   "outputs": [
    {
     "data": {
      "text/plain": [
       "[<matplotlib.lines.Line2D at 0x2d724630c10>]"
      ]
     },
     "execution_count": 7,
     "metadata": {},
     "output_type": "execute_result"
    },
    {
     "data": {
      "image/png": "[encoded data removed]",
      "text/plain": [
       "<Figure size 432x288 with 1 Axes>"
      ]
     },
     "metadata": {
      "needs_background": "light"
     },
     "output_type": "display_data"
    }
   ],
   "source": [
    "plt.plot(action_indices, true_rewards,'o', color='black')"
   ]
  },
  {
   "cell_type": "code",
   "execution_count": 8,
   "id": "6185a7f2",
   "metadata": {},
   "outputs": [
    {
     "name": "stdout",
     "output_type": "stream",
     "text": [
      "Wall time: 0 ns\n"
     ]
    },
    {
     "data": {
      "text/plain": [
       "array([ 7.66006610e-02,  1.42695211e+00, -1.23756625e+00, -1.87130471e+00,\n",
       "       -1.10067630e+00, -1.02708246e+00, -1.70144018e+00, -9.07712315e-01,\n",
       "        4.46578466e-01, -2.03167864e-01, -1.85157895e+00,  2.17303010e-01,\n",
       "       -1.21178794e-02, -9.29583057e-01, -3.73508489e-01, -2.01102040e+00,\n",
       "        2.01116080e+00, -1.13420341e-02, -7.82081572e-01, -4.47171414e-01,\n",
       "        4.92584367e-01, -4.09725897e-01, -9.14240963e-01, -1.49011654e-01,\n",
       "        3.72959829e-01, -2.00097079e+00, -7.49793052e-01,  1.27624392e+00,\n",
       "       -1.14244770e+00,  1.20192436e-01,  1.33615467e+00,  1.58804147e+00,\n",
       "        9.86372889e-01, -6.06620486e-01, -1.25336911e-01, -1.19582728e+00,\n",
       "       -1.87215489e+00, -1.70881999e+00, -9.11690961e-01, -5.15533956e-01,\n",
       "        2.89475566e-01, -6.20294721e-01, -7.39487801e-01, -1.06804877e+00,\n",
       "       -2.49511292e+00, -1.37866389e-01, -7.99039795e-01, -5.03150957e-01,\n",
       "       -1.78460755e-01, -1.07447874e+00, -7.36613071e-01,  7.23268728e-01,\n",
       "       -3.10595483e-01,  7.06615961e-01,  8.52701228e-01, -1.31624608e+00,\n",
       "        2.77498603e-01, -7.79830095e-01, -1.51927418e+00, -1.54470562e+00,\n",
       "       -1.75991408e-02, -5.94679760e-02, -1.89775031e+00,  5.49218417e-01,\n",
       "       -5.49979529e-01, -8.52127228e-01, -7.06433968e-01, -4.59420176e-01,\n",
       "        5.22595887e-02, -6.45042719e-02, -8.69990969e-01, -1.16545406e+00,\n",
       "        1.77773934e-01, -7.43741934e-01, -8.47419084e-01,  1.49982622e+00,\n",
       "       -2.65711852e-01, -9.55115208e-02,  5.13137183e-01,  2.68253527e-01,\n",
       "        9.43092009e-01, -5.94726518e-01,  8.49485479e-02, -1.28374478e+00,\n",
       "        7.04937245e-02, -2.68600376e+00, -1.37450098e+00, -1.93033368e+00,\n",
       "       -1.14577367e+00,  1.05459501e+00, -6.94274311e-01, -1.34683911e+00,\n",
       "       -1.43981358e+00, -4.14043942e-01, -4.07118051e-01,  7.05606587e-01,\n",
       "        6.75382451e-01, -8.23241039e-02,  6.58382918e-02,  7.53848965e-02,\n",
       "       -7.35064099e-01, -8.71608934e-01, -6.93613300e-01, -1.08320713e+00,\n",
       "        9.55573906e-01,  6.69467517e-01, -1.12323338e+00,  4.93964413e-01,\n",
       "        1.78507702e-01,  2.92983451e-02, -1.68021477e+00, -2.28620150e+00,\n",
       "        4.38545511e-01,  5.60819186e-01,  2.89210346e-02,  1.13744454e+00,\n",
       "       -5.62749976e-01, -2.71637656e-01,  6.18235337e-01,  6.59681729e-02,\n",
       "       -1.00702400e-01, -3.01470340e+00, -5.75541114e-01, -5.80886246e-01,\n",
       "       -4.77757922e-01, -1.00962838e+00, -1.41234804e+00,  6.79798379e-02,\n",
       "       -8.83861996e-01, -1.44739439e-01, -1.87407765e-02,  2.00902400e+00,\n",
       "       -6.48718170e-01, -4.59945207e-01, -9.06283218e-01,  6.22809842e-01,\n",
       "       -3.47030200e-01, -1.00310180e+00,  9.94768744e-01, -1.47958737e+00,\n",
       "       -3.43213132e-01, -2.14002275e+00,  1.25502382e+00,  2.32727700e-01,\n",
       "        1.41141442e+00,  1.21216696e+00, -8.81674387e-01, -9.82188047e-01,\n",
       "       -9.16533660e-01, -9.02709073e-01,  2.90586215e-02, -1.85781618e-02,\n",
       "       -8.92892514e-01, -2.19593229e+00, -1.07197563e+00,  1.23147777e-02,\n",
       "       -2.72305200e-01,  1.06687324e+00, -5.63364924e-01, -1.68701303e+00,\n",
       "       -1.44146956e+00,  8.69400123e-01, -4.91226684e-01, -1.26363127e+00,\n",
       "        1.47223848e-01, -1.10967810e+00, -9.48030514e-01, -1.26234947e+00,\n",
       "       -1.17613153e+00, -6.29909137e-01, -1.56778158e-01, -2.82680275e+00,\n",
       "        4.38616015e-01,  8.60091622e-01,  6.29280726e-02,  1.64692022e-01,\n",
       "        2.23924386e-01, -1.63954059e+00,  3.93463516e-01, -2.57498361e+00,\n",
       "       -9.38948725e-01, -9.70988045e-01, -7.45507224e-01,  6.88875469e-01,\n",
       "        6.62893228e-01, -1.59641097e+00, -7.36569414e-01,  3.46085764e-01,\n",
       "       -1.43836568e+00, -4.64304858e-01,  3.81845680e-01,  9.20881615e-01,\n",
       "       -2.56263796e-01,  8.90892956e-01, -4.51578614e-01, -8.87893290e-01,\n",
       "       -6.13778784e-01, -1.36791538e+00, -6.60414359e-01,  6.80074775e-01,\n",
       "        7.57616770e-01, -1.68875591e+00,  3.23018116e-01, -7.19655126e-01,\n",
       "       -1.44387167e+00, -5.46906236e-01, -9.44114978e-01, -2.35842662e+00,\n",
       "       -5.29498694e-01, -5.04199949e-01, -7.51625712e-01, -6.54740420e-01,\n",
       "       -3.97309198e-01, -6.35054699e-01, -6.24148543e-01, -7.22174183e-01,\n",
       "       -1.46796991e-01, -1.02184073e+00, -1.20461709e+00, -5.91452873e-01,\n",
       "        2.61746316e-01, -5.89972637e-01, -9.07496625e-01, -1.74389028e+00,\n",
       "       -1.25872314e+00, -1.81423844e+00,  3.86765988e-02, -1.12028434e+00,\n",
       "        9.62021717e-01, -9.14113419e-01, -1.64361567e+00, -6.09638551e-02,\n",
       "       -1.96752792e+00, -1.04031682e+00,  1.28690658e+00, -4.50014824e-01,\n",
       "        1.35307415e+00, -3.77007282e-01, -1.21534957e+00, -5.08334597e-02,\n",
       "       -6.23491440e-01, -2.91534259e-01,  4.45715075e-01, -2.68748946e+00,\n",
       "       -3.12435801e+00, -5.12409584e-01, -4.50060723e-01, -1.30900662e+00,\n",
       "        7.36951980e-01,  3.11388652e-01,  1.12687972e+00, -1.74438759e-01,\n",
       "       -1.61627231e+00, -8.11049844e-01, -1.99963159e-01,  1.42438496e+00,\n",
       "       -2.39953287e+00, -1.17548930e+00, -2.79305697e-02, -1.35000579e+00,\n",
       "        1.15595189e-01, -1.59735351e-01, -1.08404237e+00, -9.79583146e-01,\n",
       "       -8.84389631e-01,  7.56147444e-01, -3.38620831e-02, -1.46354277e-01,\n",
       "        3.43647935e-01,  2.84934957e-01,  1.31589361e-01,  2.49135324e-01,\n",
       "       -1.00887406e+00,  8.31781483e-01, -1.52315048e+00, -3.81970693e-01,\n",
       "       -8.29271449e-02, -2.18350140e+00, -4.62991734e-01, -2.08050047e+00,\n",
       "       -4.59070112e-02, -1.71323552e+00, -1.80337868e+00, -1.89765387e+00,\n",
       "        7.73850031e-01,  9.16079780e-02,  1.48085908e+00, -6.11307758e-01,\n",
       "       -3.10113679e-01, -2.81955310e-01,  9.53692238e-01, -2.37831061e+00,\n",
       "       -1.50392853e-01,  8.51993899e-01, -1.63024269e+00, -4.63906012e-01,\n",
       "       -1.47637990e-01, -3.03534587e+00, -1.01485055e+00, -1.53476731e+00,\n",
       "       -9.62569549e-02, -1.17857639e+00, -3.78575822e-01, -1.37949110e-01,\n",
       "       -1.37730813e-01, -2.40821089e+00, -2.50318447e-01,  4.40425728e-01,\n",
       "       -1.93811571e-01,  4.54607249e-01, -4.95927842e-01, -7.16076437e-01,\n",
       "        2.95907354e-01, -3.93225152e-01, -1.01191302e+00,  9.90345186e-01,\n",
       "       -1.08674362e+00, -4.18111703e-01,  1.00059624e-01,  1.37551200e+00,\n",
       "       -4.40785424e-01,  1.94892590e-01,  8.54141798e-02,  1.41494502e+00,\n",
       "       -4.41010863e-01, -1.15775992e+00, -1.02421036e+00, -6.32912087e-01,\n",
       "       -1.11807999e+00, -1.09123298e+00, -1.82087548e+00, -3.16856873e-01,\n",
       "        1.66607449e+00, -5.58323835e-01,  1.24872977e+00,  6.40088287e-01,\n",
       "       -3.34808483e-01, -1.99920802e+00, -2.83534814e-01,  1.69215470e-01,\n",
       "        2.39742126e-01, -1.43598834e+00, -1.58278559e+00, -1.48255202e+00,\n",
       "       -2.20362087e+00, -2.48798242e-01, -9.93250135e-01,  1.61727853e+00,\n",
       "       -2.52891660e-01, -8.53328436e-01,  8.17685067e-01, -2.14916335e+00,\n",
       "       -4.12867495e-01,  5.41603913e-02, -9.48239277e-01, -3.22190416e-02,\n",
       "        5.75021238e-01, -1.11507271e+00,  1.56138592e-01, -1.06063139e+00,\n",
       "        1.53245206e+00, -1.97693094e-01,  6.26759034e-01, -1.04748755e+00,\n",
       "        5.39586219e-01, -3.01851722e+00, -7.62526087e-01, -2.49740044e+00,\n",
       "       -3.14990276e-01, -7.68699546e-01, -1.48818526e+00, -5.83423778e-01,\n",
       "       -6.07441782e-01, -1.56254933e+00,  2.11920019e-01, -5.29258679e-01,\n",
       "       -9.37349354e-01,  5.39802664e-01, -5.72280840e-01, -1.40812161e+00,\n",
       "        1.35835095e-01, -9.41091966e-01, -1.28780765e+00,  5.99875147e-01,\n",
       "        9.87313282e-01, -1.83815100e-01, -2.87965301e-01, -1.14275064e+00,\n",
       "       -1.50121726e+00, -6.31974689e-01,  1.77862164e+00,  7.80951933e-02,\n",
       "       -1.44717314e+00, -1.38892718e+00, -4.49540651e-01, -2.55624121e-01,\n",
       "        6.23214243e-01,  5.15811215e-01,  7.14459848e-01, -1.28680896e+00,\n",
       "       -6.33334219e-01,  1.53665503e+00, -7.47155382e-01, -7.65019271e-01,\n",
       "        1.95693683e-01,  3.90049430e-01,  1.24998647e+00, -7.39127405e-01,\n",
       "       -3.79660381e-01, -7.45491062e-01, -1.25038784e+00, -2.32539651e+00,\n",
       "       -2.61672351e+00, -1.35138485e+00, -4.00698841e-01, -2.62316661e-01,\n",
       "        1.84743070e+00, -5.62693380e-01, -5.22890650e-01,  4.53241470e-01,\n",
       "       -8.08595879e-01, -2.30806918e+00, -7.39584657e-01,  1.44520014e-01,\n",
       "        7.04758602e-01, -1.74827809e+00,  1.55967287e-01, -1.41952303e+00,\n",
       "       -1.85968872e+00, -3.38420250e-02,  8.21516460e-02, -2.22082452e+00,\n",
       "       -2.37760388e-01, -8.29204505e-01, -5.48795606e-01, -1.49739362e+00,\n",
       "       -1.32830140e-01,  9.51002174e-01, -1.28111415e+00,  9.48400877e-01,\n",
       "       -2.59900552e-01, -1.55621815e+00,  2.50475044e-01,  8.15419949e-01,\n",
       "       -1.22100501e+00,  4.40811002e-01, -3.63578759e-01,  1.21484558e+00,\n",
       "       -1.66592782e+00, -2.80808206e-01, -7.79083259e-01, -9.76724224e-01,\n",
       "       -3.95326443e-01,  1.11179356e+00, -9.86423604e-01,  1.01696724e+00,\n",
       "       -1.53375969e-01, -1.52584311e+00, -8.76875176e-01, -7.50979733e-01,\n",
       "       -2.38020903e+00, -4.26034333e-01,  4.85980488e-01, -1.56336127e+00,\n",
       "       -6.16501715e-01, -2.25750099e-01, -2.40893332e-01, -4.42297567e-01,\n",
       "        2.06934225e-01, -7.02661943e-01, -1.81717225e+00, -1.35987161e+00,\n",
       "       -9.50777658e-01, -3.31189056e-01,  1.14104973e+00,  1.01148667e+00,\n",
       "       -2.82651699e+00,  1.10549815e-01, -1.17110380e+00, -2.69317589e-02,\n",
       "       -1.53326888e+00, -1.23266770e+00, -4.54998865e-01,  1.17265945e+00,\n",
       "       -6.41741901e-02, -1.22849561e+00, -1.77897078e+00, -1.77594725e+00,\n",
       "        7.52640333e-02, -1.05882516e+00,  7.24617266e-01,  1.13744339e+00,\n",
       "       -3.65704020e-01, -3.76082677e-01,  7.48467252e-02,  1.74351516e+00,\n",
       "       -1.39438460e+00, -1.01196315e+00, -1.11015099e+00, -7.16314664e-03,\n",
       "       -1.88537793e-01, -6.98077176e-01, -1.33789289e+00, -9.26497678e-01,\n",
       "       -3.87992487e-01, -7.79409340e-01, -1.69153865e+00, -4.37383733e-01,\n",
       "       -1.62305961e+00, -2.05704388e+00, -4.01329107e-01, -1.87771449e-01,\n",
       "       -1.31584853e+00,  8.75379050e-01, -5.63193306e-01, -2.52844348e-01,\n",
       "       -1.06901740e-01, -4.49372981e-01,  2.65057536e-01, -8.10481452e-01,\n",
       "        9.55107923e-02, -6.88847295e-01,  4.21967077e-01, -1.18480042e-02,\n",
       "       -2.38686001e+00, -4.07028766e-01, -1.88565805e+00,  1.37595716e-03,\n",
       "       -2.13717214e+00,  2.71169024e-01, -7.19117201e-01, -5.61107355e-01,\n",
       "       -2.20528981e-01,  4.58985424e-01,  9.05694102e-01,  1.18442354e+00,\n",
       "       -1.25543010e+00,  3.25924157e-01, -2.95365588e-02, -1.36358938e+00,\n",
       "       -1.04749128e+00, -2.27903361e-01, -1.39913800e+00, -1.82266724e-01,\n",
       "       -1.81890931e+00, -1.45139476e+00, -2.09056666e-01, -3.94101465e-01,\n",
       "       -1.19222631e+00, -3.27421008e-01,  1.12368946e+00, -1.60967205e+00,\n",
       "       -1.57779015e+00,  5.43792060e-01, -1.01512501e+00, -4.00457497e-01,\n",
       "        7.70160722e-01, -4.42081143e-01, -2.03918479e+00,  2.84786832e+00,\n",
       "        1.16364912e+00, -1.03145912e+00,  2.61857339e-01,  6.31121634e-01,\n",
       "       -3.58381726e-01,  1.45135893e+00, -3.97653667e-02, -5.34095129e-01,\n",
       "       -1.50222196e+00, -6.98578437e-01,  1.93625137e-01,  1.60280587e+00,\n",
       "       -6.49614565e-01, -9.82793597e-01, -2.41369228e+00, -3.46679500e-02,\n",
       "        5.84746671e-01, -2.43189804e-01, -6.70450440e-01, -9.42706007e-01,\n",
       "        9.53504052e-01, -1.45726809e+00,  3.52169135e-01, -2.10983938e-01,\n",
       "       -1.04363005e-01, -1.06644396e+00,  9.54901408e-01, -1.93724504e+00,\n",
       "        1.97918863e+00,  4.31067562e-01, -1.88931646e+00, -6.36135370e-01,\n",
       "        9.21388086e-01,  1.21674964e-01, -1.33095386e-01,  7.93645937e-01,\n",
       "       -7.15895094e-01, -1.18256096e-01, -1.02597805e-01, -5.66300178e-01,\n",
       "       -3.62830547e-02,  4.93770663e-01, -6.33657253e-04,  6.92599070e-01,\n",
       "       -1.10105689e+00, -1.08686536e+00,  1.71451736e-01, -2.04825427e-01,\n",
       "       -4.66623094e-01,  2.78272766e-01, -1.03433859e+00, -1.62833462e+00,\n",
       "       -1.97246520e+00, -8.84819574e-01,  8.89348017e-01, -2.88988134e-01,\n",
       "       -6.87043288e-01,  9.56903454e-01, -2.02391068e-02, -2.56286269e+00,\n",
       "       -4.25438800e-01, -7.39072602e-01, -1.38155214e+00, -7.40259435e-01,\n",
       "        6.24243705e-01, -1.81510741e+00, -5.91870814e-01, -1.75369204e+00,\n",
       "       -1.35306124e+00, -6.60714685e-01, -1.40313520e+00, -5.29859749e-01,\n",
       "        1.94189509e+00,  1.24398980e+00,  3.41258524e-01,  2.26045192e-01,\n",
       "       -8.58957371e-01,  4.80021377e-02, -1.02161140e+00, -2.19168309e+00,\n",
       "        2.12714786e-01,  6.11639054e-01,  6.49992351e-01,  8.09681221e-02,\n",
       "       -4.01463666e-01, -1.07899538e+00, -5.30368629e-01, -1.27245799e+00,\n",
       "       -6.28072125e-01,  7.89152454e-01,  1.21724082e-02,  1.04639928e+00,\n",
       "       -3.41964853e-01,  1.49378429e-01, -1.39116291e+00,  9.73385920e-02,\n",
       "        1.07799023e+00, -1.29392864e+00, -6.05673428e-01,  1.13247684e+00,\n",
       "       -1.35208263e+00,  1.55713251e-01, -6.20434849e-01,  4.97804242e-02,\n",
       "        1.17957589e+00, -8.78712918e-01, -1.34617846e+00,  5.58945819e-01,\n",
       "        8.16547502e-01,  7.60238649e-01, -1.17241409e-01, -5.81040808e-01,\n",
       "        9.08246373e-01,  4.42930332e-01,  9.19640090e-01, -2.28975223e-01,\n",
       "       -1.82518321e+00, -1.16523143e-01, -4.28044094e-01,  8.18573600e-01,\n",
       "        8.97185138e-01,  5.20828106e-01,  1.18893402e+00, -1.70904554e-01,\n",
       "       -1.75437299e+00, -1.36453060e-01, -4.39582868e-01, -7.19066521e-01,\n",
       "       -3.02201979e-01, -1.94932140e-02, -1.03152077e+00, -1.56011539e+00,\n",
       "       -5.87257589e-01, -1.48866184e+00, -2.08618744e+00, -1.80514825e+00,\n",
       "        7.71700399e-01, -1.75984786e+00,  8.97020603e-01, -1.52656994e+00,\n",
       "        8.14922086e-02,  4.87819222e-01,  1.23689815e+00, -2.01184536e+00,\n",
       "        9.95488743e-01, -5.37398893e-01, -2.56752225e-01, -2.75726780e+00,\n",
       "       -1.40556425e-01,  1.39010359e+00, -6.86462238e-01, -6.01149901e-01,\n",
       "        2.96731739e-01,  5.42743903e-01,  2.63667591e-01,  6.99596988e-02,\n",
       "       -5.70214843e-01, -6.50587229e-01, -5.14092526e-01, -2.99206569e-01,\n",
       "        1.53384815e+00, -1.43669468e-01,  5.36168066e-01, -2.07492016e-01,\n",
       "       -1.74510712e+00,  1.33433518e+00, -8.13741758e-01, -1.86790019e+00,\n",
       "       -3.34387147e-01,  9.53912819e-01, -8.47786086e-01,  4.74152104e-01,\n",
       "        7.10699082e-02, -8.47539235e-02, -2.27006807e+00,  6.18690596e-01,\n",
       "       -7.25206343e-01,  1.90705056e-01, -1.19074650e+00, -1.29345673e+00,\n",
       "        2.61559933e-01, -1.19496781e+00, -9.81541280e-02,  5.47345747e-01,\n",
       "        7.59868577e-01, -1.23771438e-02,  3.90817326e-01,  2.77830014e-01,\n",
       "       -7.20645982e-01,  5.71571840e-01, -6.70688912e-01,  8.43183766e-01,\n",
       "       -9.93530851e-01, -1.47531448e+00, -1.28046964e+00,  1.49312085e+00,\n",
       "       -8.27626657e-01, -1.69373349e+00, -1.77224182e+00,  2.17757437e-01,\n",
       "        7.97705965e-01,  4.15854022e-01, -1.87562184e+00,  1.44244083e-01,\n",
       "        1.19438929e-02, -1.47133525e+00, -6.19929187e-01,  2.99656280e+00,\n",
       "       -6.90376176e-01,  3.36556823e-01,  2.11746636e+00, -1.39124581e+00,\n",
       "        6.66094404e-01, -5.42733996e-01,  1.04082547e+00, -8.19770478e-01,\n",
       "        1.16317675e+00, -1.26466930e+00, -1.26758475e+00,  1.43343757e-01,\n",
       "       -5.76523446e-01, -1.02171289e+00, -2.61459428e+00,  4.32548340e-01,\n",
       "       -1.45728597e+00, -4.67706710e-01,  1.02663140e+00, -1.03061106e-03,\n",
       "        5.59808935e-01, -1.81080706e+00, -1.84629038e+00, -9.02588290e-01,\n",
       "       -5.20289154e-01,  1.33805647e-01, -1.59737461e+00, -1.34169769e+00,\n",
       "        5.86931968e-02,  7.82044151e-01,  1.01114421e+00, -1.17544233e+00,\n",
       "       -2.87601484e-01, -2.21083933e+00, -1.36028463e-01, -2.53629871e+00,\n",
       "       -1.45591599e+00, -9.56676951e-01, -6.04643897e-01, -1.48460880e+00,\n",
       "       -1.66366565e+00,  2.50380682e-01, -3.88928352e-02, -2.36152140e+00,\n",
       "        1.10174069e+00,  1.48227808e-01,  1.10319855e+00,  2.16126613e-01,\n",
       "        1.24905113e+00, -1.36865977e+00, -1.54272451e+00,  2.01925129e+00,\n",
       "       -1.82851752e+00,  1.95791114e+00, -1.03995494e+00,  3.95034543e-01,\n",
       "        7.10491054e-01, -1.40157608e+00,  5.44351151e-01, -1.60121053e+00,\n",
       "       -2.77671958e+00, -9.49023610e-01, -1.14485767e+00, -1.78127659e+00,\n",
       "        1.00283128e-02, -1.37955028e+00, -1.14963705e+00, -5.74186247e-01,\n",
       "       -3.77226761e-01,  9.90111122e-01, -2.31108693e+00, -9.48996082e-01,\n",
       "       -7.66286307e-01, -1.44212053e+00,  1.43187986e-01,  5.83659878e-01,\n",
       "       -9.86045605e-01, -7.94222657e-01, -8.03219584e-01, -1.42964829e+00,\n",
       "        9.27932169e-01, -1.89821377e-02, -6.04711063e-01, -1.46314801e+00,\n",
       "       -1.86587671e+00,  3.46492104e-01,  1.39243385e+00, -3.89114496e-01,\n",
       "        1.25665771e-01,  1.02046812e+00, -1.27782148e+00,  8.70765847e-01,\n",
       "       -3.39042052e-01, -1.35247897e-01, -1.41916031e+00, -1.99486207e-01,\n",
       "       -2.16821199e+00, -6.13095467e-01, -1.04709347e+00, -2.77344833e+00,\n",
       "       -1.42245534e-01,  6.22866787e-01, -4.97812183e-01, -7.60875636e-01,\n",
       "        4.67510003e-01, -3.67959421e-01,  8.39759293e-01,  6.49383226e-02,\n",
       "       -1.66111013e+00,  1.62725772e-01, -2.13736698e+00, -1.08918243e+00,\n",
       "        3.96978427e-02,  1.34483862e-01, -8.37560205e-02, -1.76273027e+00,\n",
       "       -1.99496140e+00, -1.49453986e+00, -1.09528320e+00,  1.62820065e+00,\n",
       "        2.20090597e-01, -7.30641190e-01,  1.23478280e+00,  5.99383312e-03,\n",
       "       -2.92440930e+00, -2.27958271e+00, -1.77227249e+00,  2.16528068e+00,\n",
       "       -9.76268313e-01, -6.87366772e-01, -1.11947661e+00, -4.12874115e-01,\n",
       "       -8.08423091e-01, -6.62645278e-01, -6.96092430e-01, -2.07228848e+00,\n",
       "        1.33423926e+00, -1.97819785e+00, -1.57872366e+00, -1.76000502e+00,\n",
       "       -7.68563423e-01, -1.38089402e+00,  6.99571580e-01,  7.29336155e-01,\n",
       "       -2.28158966e+00,  1.84909840e+00, -1.47217604e+00, -6.17193748e-01,\n",
       "       -1.11394847e+00,  6.90448648e-01,  2.08018286e-01, -1.83889187e+00,\n",
       "       -1.79000621e+00,  1.05249867e-01, -1.60111899e+00, -1.02496172e+00,\n",
       "        1.18592321e+00, -1.84275112e+00, -6.82677343e-01, -1.91873219e+00,\n",
       "       -2.52804551e-01, -1.06462105e+00,  1.43281412e-01, -2.60406019e-01,\n",
       "        1.11481264e+00,  1.00492738e+00,  2.70628359e-01, -1.52990526e+00,\n",
       "       -8.39426344e-01, -6.67944159e-01, -1.62419914e+00,  7.24797519e-01,\n",
       "       -1.00376909e+00, -2.22100792e-01,  2.75632609e-01,  1.43612096e-01,\n",
       "       -1.42204457e+00, -7.20015690e-01, -1.51213769e+00, -9.01934619e-01,\n",
       "       -1.48900674e-01,  3.99618638e-01,  2.94456616e-01,  5.68870535e-01,\n",
       "       -9.23729830e-01, -1.26163868e-01, -6.62014095e-01, -3.33018472e-01,\n",
       "       -2.04511489e+00, -7.58294510e-01,  5.91026495e-02, -2.56405160e-01,\n",
       "        2.25010967e-01, -3.13426509e-01, -1.67932530e+00,  2.45056321e-01,\n",
       "       -7.60629266e-01,  7.74272162e-01, -2.36390354e+00, -4.22593953e-01,\n",
       "        3.74067394e-01, -1.32838250e+00,  2.11773878e+00,  1.30686652e+00,\n",
       "       -2.70018872e-01,  5.64073158e-02, -7.79099582e-01, -2.50096938e+00,\n",
       "       -7.82978731e-01, -6.44062197e-01, -4.59374151e-01, -2.06691178e-01,\n",
       "       -9.14578955e-01, -8.93657732e-02,  1.72346813e+00, -3.34353512e-01,\n",
       "       -1.51122385e+00, -8.46533929e-01,  4.42887204e-01, -1.97197947e+00,\n",
       "       -5.76687150e-01, -1.82063673e-01, -1.12065484e+00, -1.15001670e+00,\n",
       "       -5.89208770e-02,  3.85084827e-01, -5.25619737e-02, -1.22610494e+00,\n",
       "       -4.14792070e-02,  7.46479604e-01, -2.05101213e+00, -1.05029798e+00])"
      ]
     },
     "execution_count": 8,
     "metadata": {},
     "output_type": "execute_result"
    }
   ],
   "source": [
    "# At runtime we will select rewards with true rewards as mean and unit variance normal distribution\n",
    "# Lets Plot how it will look like\n",
    "%time\n",
    "runtime_rewards = np.array([ np.random.normal(true_reward,1,1000) for true_reward in true_rewards])\n",
    "runtime_rewards[0]"
   ]
  },
  {
   "cell_type": "code",
   "execution_count": 9,
   "id": "d36f7b84",
   "metadata": {},
   "outputs": [
    {
     "data": {
      "image/png": "[encoded data removed]",
      "text/plain": [
       "<Figure size 432x288 with 1 Axes>"
      ]
     },
     "metadata": {
      "needs_background": "light"
     },
     "output_type": "display_data"
    }
   ],
   "source": [
    "for index in action_indices :\n",
    "    plt.scatter(np.full((1000),index),runtime_rewards[index])\n",
    "    plt.text(index+0.2,true_rewards[index],str(round(true_rewards[index],2)))\n",
    "plt.plot(action_indices, true_rewards,'o', color='black')\n",
    "plt.show()"
   ]
  },
  {
   "cell_type": "code",
   "execution_count": 10,
   "id": "2aba5cd9",
   "metadata": {
    "scrolled": true
   },
   "outputs": [
    {
     "data": {
      "image/png": "[encoded data removed]",
      "text/plain": [
       "<Figure size 432x288 with 1 Axes>"
      ]
     },
     "metadata": {
      "needs_background": "light"
     },
     "output_type": "display_data"
    }
   ],
   "source": [
    "\n",
    "fig, ax = plt.subplots()\n",
    "bp = ax.violinplot(runtime_rewards[8], showmeans=True, showmedians=True)\n",
    "plt.show()"
   ]
  },
  {
   "cell_type": "code",
   "execution_count": 11,
   "id": "448860f5",
   "metadata": {},
   "outputs": [
    {
     "data": {
      "image/png": "[encoded data removed]",
      "text/plain": [
       "<Figure size 1080x1080 with 10 Axes>"
      ]
     },
     "metadata": {
      "needs_background": "light"
     },
     "output_type": "display_data"
    }
   ],
   "source": [
    "import seaborn as sns\n",
    "fig, axes = plt.subplots(1, 10, figsize=[15, 15])\n",
    "colors = ['r', 'b', 'g', 'c', 'm', 'y', 'k', 'tan', 'navy', 'lime']\n",
    "\n",
    "for x in range(10):\n",
    "    sns.boxplot(data=runtime_rewards[x], ax=axes[x], showmeans=True, color=colors[x])\n",
    "    "
   ]
  },
  {
   "cell_type": "code",
   "execution_count": 12,
   "id": "5e0a288c",
   "metadata": {},
   "outputs": [],
   "source": [
    "# Produce a testbed of 2000 bandit problems\n",
    "np.random.seed(10)\n",
    "n_bandit = 2000\n",
    "n_lever = 10\n",
    "steps = 3000\n",
    "\n",
    "testbed = np.random.normal(0,1,(n_bandit,n_lever))\n",
    "reward_estimates = np.zeros((n_bandit,n_lever))\n",
    "action_count = np.ones((n_bandit,n_lever))  # each lever is pulled atleast once\n",
    "initial_reward_estimates =  np.random.normal(testbed,1)"
   ]
  },
  {
   "cell_type": "code",
   "execution_count": null,
   "id": "3d2db374",
   "metadata": {},
   "outputs": [],
   "source": [
    "running_reward_sum = np.copy(reward_estimates) # _per_action_per_bandit\n",
    "\n",
    "rewards_eps_01 = []\n",
    "rewards_eps_01.append(0) \n",
    "rewards_eps_01.append(np.mean(initial_reward_estimates)) # step 1\n",
    "\n",
    "epsilon = 0.1\n",
    "for step in range(2,steps):\n",
    "    reward_sum_over_all_bandits_per_step = 0\n",
    "    for problem_index in range(n_bandit):  \n",
    "        if np.random.random() > epsilon: # Greedy Selection\n",
    "            maxval = np.amax(reward_estimates[problem_index])\n",
    "            maxval_indices = np.ravel(np.array(np.where(reward_estimates[problem_index] == maxval)))\n",
    "            random_choice = np.random.choice( maxval_indices ) # breaking ties randomly\n",
    "        else :\n",
    "             random_choice = np.random.randint(n_lever)\n",
    "        \n",
    "        #print(str(problem_index),str(step),str(random_choice))\n",
    "        running_reward_sum[problem_index][random_choice] += np.random.normal(testbed[problem_index][random_choice],1)\n",
    "        action_count[problem_index][random_choice] += 1         \n",
    "        avg_reward = running_reward_sum[problem_index][random_choice] / action_count[problem_index][random_choice]\n",
    "        reward_estimates[problem_index][random_choice] = avg_reward\n",
    "        \n",
    "        reward_sum_over_all_bandits_per_step += avg_reward\n",
    "        \n",
    "    rewards_eps_01.append((reward_sum_over_all_bandits_per_step)/n_bandit)"
   ]
  },
  {
   "cell_type": "code",
   "execution_count": null,
   "id": "64cc87b5",
   "metadata": {},
   "outputs": [],
   "source": [
    "plt.plot(np.arange(steps), rewards_eps_01, label=0.1, color='red')\n",
    "plt.legend(loc=2, ncol=2)\n",
    "plt.show()"
   ]
  },
  {
   "cell_type": "code",
   "execution_count": null,
   "id": "7ca41317",
   "metadata": {},
   "outputs": [],
   "source": [
    "def rewards_per_step(steps, n_bandit, n_lever, testbed, initial_reward_estimates, epsilon):\n",
    "    reward_estimates = np.zeros((n_bandit,n_lever))\n",
    "    action_count = np.ones((n_bandit,n_lever))  # each lever is pulled atleast once\n",
    "    running_reward_sum = np.copy(reward_estimates) # _per_pull_per_bandit\n",
    "\n",
    "    avg_rewards_per_step = []\n",
    "    avg_rewards_per_step.append(0) \n",
    "    avg_rewards_per_step.append(np.mean(initial_reward_estimates)) # step 1\n",
    "\n",
    "    for step in range(2,steps):\n",
    "        reward_sum_over_all_bandits_per_step = 0\n",
    "        for problem_index in range(n_bandit):  \n",
    "            if np.random.random() > epsilon:\n",
    "                maxval = np.amax(reward_estimates[problem_index])\n",
    "                maxval_indices = np.ravel(np.array(np.where(reward_estimates[problem_index] == maxval)))\n",
    "                random_choice = np.random.choice( maxval_indices )\n",
    "            else :\n",
    "                 random_choice = np.random.randint(n_lever)\n",
    "\n",
    "            #print(str(problem_index),str(step),str(random_choice))\n",
    "            running_reward_sum[problem_index][random_choice] += np.random.normal(testbed[problem_index][random_choice],1)\n",
    "            action_count[problem_index][random_choice] += 1         \n",
    "            avg_reward = running_reward_sum[problem_index][random_choice] / action_count[problem_index][random_choice]\n",
    "            reward_estimates[problem_index][random_choice] = avg_reward\n",
    "\n",
    "            reward_sum_over_all_bandits_per_step += avg_reward\n",
    "\n",
    "        avg_rewards_per_step.append((reward_sum_over_all_bandits_per_step)/n_bandit)\n",
    "            \n",
    "    return avg_rewards_per_step"
   ]
  },
  {
   "cell_type": "code",
   "execution_count": null,
   "id": "9e510cd9",
   "metadata": {},
   "outputs": [],
   "source": [
    "np.random.seed(10)\n",
    "n_bandit = 2000\n",
    "n_lever = 10\n",
    "steps = 1000\n",
    "\n",
    "testbed = np.random.normal(0,1,(n_bandit,n_lever))\n",
    "initial_reward_estimates =  np.random.normal(testbed,1)"
   ]
  },
  {
   "cell_type": "code",
   "execution_count": null,
   "id": "47c10f36",
   "metadata": {},
   "outputs": [],
   "source": [
    "%%time\n",
    "epsilon_list = [0.0, 0.01, 0.1]\n",
    "color_list = ['g','r','b']\n",
    "\n",
    "plt.figure(figsize=(10,10))\n",
    "plt.xlabel('Steps', fontsize=18)\n",
    "plt.ylabel('Average Reward', fontsize=16)\n",
    "\n",
    "for index,eps in enumerate(epsilon_list):\n",
    "    avg_rewards_per_step = rewards_per_step(steps, n_bandit, n_lever, testbed, initial_reward_estimates, eps)\n",
    "    plt.plot(np.arange(steps),avg_rewards_per_step, label=eps, color=color_list[index])\n",
    "    \n",
    "plt.legend(loc=2, ncol=2)\n",
    "plt.show()"
   ]
  }
 ],
 "metadata": {
  "kernelspec": {
   "display_name": "Python 3",
   "language": "python",
   "name": "python3"
  },
  "language_info": {
   "codemirror_mode": {
    "name": "ipython",
    "version": 3
   },
   "file_extension": ".py",
   "mimetype": "text/x-python",
   "name": "python",
   "nbconvert_exporter": "python",
   "pygments_lexer": "ipython3",
   "version": "3.8.6"
  }
 },
 "nbformat": 4,
 "nbformat_minor": 5
}
