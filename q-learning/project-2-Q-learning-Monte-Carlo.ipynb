{
 "cells": [
  {
   "cell_type": "markdown",
   "id": "a73d4590",
   "metadata": {},
   "source": [
    "https://colab.research.google.com/drive/1E2RViy7xmor0mhqskZV14_NUj2jMpJz3#scrollTo=DnCfO5tVG0LJ"
   ]
  },
  {
   "cell_type": "code",
   "execution_count": 1,
   "id": "94e556fb",
   "metadata": {},
   "outputs": [],
   "source": [
    "import numpy as np\n",
    "np.random.seed(42)\n",
    "import copy"
   ]
  },
  {
   "cell_type": "markdown",
   "id": "36b58686",
   "metadata": {},
   "source": [
    "<b>Environment Grid, Grid of 11 rows X 11 columns</b>"
   ]
  },
  {
   "cell_type": "code",
   "execution_count": 2,
   "id": "84280e34",
   "metadata": {},
   "outputs": [],
   "source": [
    "grid_rows = 11\n",
    "grid_cols = 11"
   ]
  },
  {
   "cell_type": "markdown",
   "id": "a0e673cd",
   "metadata": {},
   "source": [
    "<b>Q-value for each state/action pair Q(s,a)\n",
    "2D array give the Q value, 3d dimension is the Q value for the action\n",
    "there are 4 actions: Up, Down, Right, Left\n",
    "So there are 4 layers\n",
    "</b>"
   ]
  },
  {
   "cell_type": "code",
   "execution_count": 3,
   "id": "6f3dea0a",
   "metadata": {},
   "outputs": [],
   "source": [
    "q_values = np.zeros((grid_rows, grid_cols, 4))"
   ]
  },
  {
   "cell_type": "markdown",
   "id": "d857eebb",
   "metadata": {},
   "source": [
    "<b>Actions: 0 - Up, 1 - Right, 2 - Down, 3 - Left</b>"
   ]
  },
  {
   "cell_type": "code",
   "execution_count": 4,
   "id": "5e4c7fd5",
   "metadata": {},
   "outputs": [],
   "source": [
    "actions = ['up', 'right', 'down', 'left']"
   ]
  },
  {
   "cell_type": "markdown",
   "id": "9d37f1d7",
   "metadata": {},
   "source": [
    "<b>Reward table : define the rewards table\n",
    "100 - max reward - goal\n",
    "-100 - max punishment - blocked cells\n",
    "-1 - allowed cells for travelling\n",
    "Purpose of Q learning algorithm is to maximise the rewards. \n",
    "If we keep positive rewards then bot will keep moving unnecessarly to collect the rewards.\n",
    "-ve rewards keep control on movements</b>"
   ]
  },
  {
   "cell_type": "markdown",
   "id": "8da2c4f7",
   "metadata": {},
   "source": [
    "<b>TODO: Change the grid rewards</b>"
   ]
  },
  {
   "cell_type": "code",
   "execution_count": 5,
   "id": "abd18367",
   "metadata": {},
   "outputs": [
    {
     "name": "stdout",
     "output_type": "stream",
     "text": [
      "[-100. -100. -100. -100. -100.  100. -100. -100. -100. -100. -100.]\n",
      "[-100.   -1.   -1.   -1.   -1.   -1.   -1.   -1.   -1.   -1. -100.]\n",
      "[-100.   -1. -100. -100. -100. -100. -100.   -1. -100.   -1. -100.]\n",
      "[-100.   -1.   -1.   -1.   -1.   -1.   -1.   -1. -100.   -1. -100.]\n",
      "[-100. -100. -100.   -1. -100. -100. -100.   -1. -100. -100. -100.]\n",
      "[-1. -1. -1. -1. -1. -1. -1. -1. -1. -1. -1.]\n",
      "[-100. -100. -100. -100. -100.   -1. -100. -100. -100. -100. -100.]\n",
      "[-100.   -1.   -1.   -1.   -1.   -1.   -1.   -1.   -1.   -1. -100.]\n",
      "[-1. -1. -1. -1. -1. -1. -1. -1. -1. -1. -1.]\n",
      "[-1. -1. -1. -1. -1. -1. -1. -1. -1. -1. -1.]\n",
      "[-1. -1. -1. -1. -1. -1. -1. -1. -1. -1. -1.]\n"
     ]
    }
   ],
   "source": [
    "rewards = np.full((grid_rows, grid_cols), -100.)\n",
    "rewards[0, 5] = 100. #set the reward for the packaging area (i.e., the goal) to 100\n",
    "\n",
    "#define aisle locations (i.e., white squares) for rows 1 through 9\n",
    "aisles = {} #store locations in a dictionary\n",
    "aisles[1] = [i for i in range(1, 10)]\n",
    "aisles[2] = [1, 7, 9]\n",
    "aisles[3] = [i for i in range(1, 8)]\n",
    "aisles[3].append(9)\n",
    "aisles[4] = [3, 7]\n",
    "aisles[5] = [i for i in range(11)]\n",
    "aisles[6] = [5]\n",
    "aisles[7] = [i for i in range(1, 10)]\n",
    "aisles[8] = [3, 7]\n",
    "aisles[8] = [i for i in range(11)]\n",
    "\n",
    "aisles[9] = [i for i in range(11)]\n",
    "\n",
    "aisles[10] = [i for i in range(11)]\n",
    "\n",
    "#set the rewards for all aisle locations (i.e., white squares)\n",
    "for row_index in range(1, 11):\n",
    "    for column_index in aisles[row_index]:\n",
    "        rewards[row_index, column_index] = -1.\n",
    "\n",
    "for row in rewards:\n",
    "    print(row)"
   ]
  },
  {
   "cell_type": "markdown",
   "id": "b92b9afe",
   "metadata": {},
   "source": [
    "<b><pre>\n",
    "TRAINING\n",
    "1. To begin, choose random, non-terminal state\n",
    "2. Choose action, move7- up/right/down/left from current state\n",
    "3. Choose action using epsilon greedy method - balanced approach of explore and exploit\n",
    "4. Perform the action and move to next state\n",
    "5. Receive rewards and compute temporal difference\n",
    "6. Update Q-value for previos state/action pair\n",
    "7. if new state is terminal state, go to step 1, else go to step 2\n",
    "\n",
    "Run the process for 1000 episodes\n",
    "</pre></b>"
   ]
  },
  {
   "cell_type": "code",
   "execution_count": 6,
   "id": "33140e8f",
   "metadata": {},
   "outputs": [],
   "source": [
    "def is_terminal_state(row_index, col_index):\n",
    "    if rewards[row_index, col_index] == -1. :\n",
    "        return False\n",
    "    return True"
   ]
  },
  {
   "cell_type": "markdown",
   "id": "f1a66e3c",
   "metadata": {},
   "source": [
    "<b>Choose start location</b>"
   ]
  },
  {
   "cell_type": "code",
   "execution_count": 7,
   "id": "bd2aebaf",
   "metadata": {},
   "outputs": [],
   "source": [
    "def get_starting_location():\n",
    "    row_indx = np.random.randint(grid_rows)\n",
    "    col_indx = np.random.randint(grid_cols)\n",
    "    \n",
    "    #continue choosing random row and column indexes until a non-terminal state is identified\n",
    "    #(i.e., until the chosen state is a 'white square').\n",
    "    while is_terminal_state(row_indx, col_indx):\n",
    "        row_indx = np.random.randint(grid_rows)\n",
    "        col_indx = np.random.randint(grid_cols)\n",
    "\n",
    "    return row_indx, col_indx"
   ]
  },
  {
   "cell_type": "markdown",
   "id": "7152b291",
   "metadata": {},
   "source": [
    "<b>next_action - epsilon greedy algorithm</b>"
   ]
  },
  {
   "cell_type": "code",
   "execution_count": 8,
   "id": "1b57cd99",
   "metadata": {},
   "outputs": [],
   "source": [
    "def get_next_action(row_indx, col_indx, epsilon):\n",
    "    if np.random.random() < epsilon:\n",
    "        return np.argmax(q_values[row_indx, col_indx])\n",
    "    return np.random.randint(4)"
   ]
  },
  {
   "cell_type": "code",
   "execution_count": 9,
   "id": "91c923d3",
   "metadata": {},
   "outputs": [],
   "source": [
    "def get_next_location(row_indx, col_indx, action_indx):\n",
    "    new_row_indx = row_indx\n",
    "    new_col_indx = col_indx\n",
    "    \n",
    "    if actions[action_indx] == 'up' and row_indx > 0:\n",
    "        new_row_indx -= 1\n",
    "    elif actions[action_indx] == 'right' and col_indx < grid_cols - 1:\n",
    "        new_col_indx += 1\n",
    "    elif actions[action_indx] == 'down' and row_indx < grid_rows - 1:\n",
    "        new_row_indx += 1\n",
    "    elif actions[action_indx] == 'left' and col_indx > 0:\n",
    "        new_col_indx -= 1\n",
    "        \n",
    "    return new_row_indx, new_col_indx"
   ]
  },
  {
   "cell_type": "markdown",
   "id": "68d59ab3",
   "metadata": {},
   "source": [
    "<b>get_shortest_path - using q table, find shortest path</b>"
   ]
  },
  {
   "cell_type": "code",
   "execution_count": 10,
   "id": "0142ae57",
   "metadata": {},
   "outputs": [],
   "source": [
    "def get_shortest_path(start_row_indx, start_col_indx):\n",
    "    \n",
    "    # terminal starting position\n",
    "    if is_terminal_state(start_row_indx, start_col_indx):\n",
    "        return []\n",
    "    else :\n",
    "        #non-terminal starting position\n",
    "        curr_row_indx, curr_col_indx = start_row_indx, start_col_indx\n",
    "        shortest_path = []\n",
    "        shortest_path.append([curr_row_indx, curr_col_indx])\n",
    "        \n",
    "        while not is_terminal_state(curr_row_indx, curr_col_indx):\n",
    "            action_indx = get_next_action(curr_row_indx, curr_col_indx, 1.)\n",
    "            \n",
    "            curr_row_indx, curr_col_indx = get_next_location(curr_row_indx, curr_col_indx, action_indx)\n",
    "            shortest_path.append([curr_row_indx, curr_col_indx])\n",
    "        return shortest_path"
   ]
  },
  {
   "cell_type": "markdown",
   "id": "3b36ef69",
   "metadata": {},
   "source": [
    "<b>Train the Agent</b>"
   ]
  },
  {
   "cell_type": "code",
   "execution_count": 11,
   "id": "67bfcd06",
   "metadata": {},
   "outputs": [],
   "source": [
    "epsilon = 0.9\n",
    "discount_factor = 0.9 #discount for future rewards\n",
    "learning_rate = 0.9\n",
    "\n",
    "episods_count = 10000"
   ]
  },
  {
   "cell_type": "code",
   "execution_count": 12,
   "id": "0cf8a1d6",
   "metadata": {},
   "outputs": [
    {
     "name": "stdout",
     "output_type": "stream",
     "text": [
      "Training Complete...\n"
     ]
    }
   ],
   "source": [
    "for episode in range(episods_count):\n",
    "    row_indx, col_indx = get_starting_location()\n",
    "    \n",
    "    while not is_terminal_state(row_indx, col_indx):\n",
    "        action_indx = get_next_action(row_indx, col_indx, epsilon)\n",
    "        \n",
    "        old_row_indx, old_col_indx = row_indx, col_indx\n",
    "        row_indx, col_indx = get_next_location(row_indx, col_indx, action_indx)\n",
    "        \n",
    "        #rewards\n",
    "        reward = rewards[row_indx, col_indx]\n",
    "        old_q_value = q_values[row_indx, col_indx, action_indx]\n",
    "        temporal_difference = reward + (discount_factor + np.max(q_values[row_indx, col_indx]) - old_q_value)\n",
    "        \n",
    "        #update q table\n",
    "        new_q_value = old_q_value + (learning_rate * temporal_difference)\n",
    "        q_values[old_row_indx, old_col_indx, action_indx] = new_q_value\n",
    "        \n",
    "print(\"Training Complete...\")        "
   ]
  },
  {
   "cell_type": "code",
   "execution_count": 13,
   "id": "072b08e1",
   "metadata": {},
   "outputs": [],
   "source": [
    "def print_path1(path):\n",
    "    new_path = copy.copy(rewards)\n",
    "    \n",
    "    for i in range(len(path)):\n",
    "        new_path[path[i][0]][path[i][1]] = '9'\n",
    "    print(new_path)"
   ]
  },
  {
   "cell_type": "code",
   "execution_count": 14,
   "id": "2550f511",
   "metadata": {},
   "outputs": [],
   "source": [
    "def print_char(x):\n",
    "    if x == -100:\n",
    "        return '#'\n",
    "    if x == -1:\n",
    "        return ' '\n",
    "    if x == 9:\n",
    "        return '*'\n",
    "    if x == 100:\n",
    "        return '$'"
   ]
  },
  {
   "cell_type": "code",
   "execution_count": 15,
   "id": "2c221f53",
   "metadata": {},
   "outputs": [],
   "source": [
    "def print_grid(grid):\n",
    "    for i in range(grid_rows):\n",
    "        for k in range(grid_cols):\n",
    "            print('---', end='')\n",
    "        print('')\n",
    "        for j in range(grid_cols):\n",
    "            print('|',print_char(grid[i][j]), end='')\n",
    "        print('|', end='')\n",
    "        print('')\n",
    "        \n",
    "    for k in range(grid_cols):\n",
    "        print('---', end='')\n",
    "    print('')"
   ]
  },
  {
   "cell_type": "code",
   "execution_count": 16,
   "id": "915f51f5",
   "metadata": {},
   "outputs": [],
   "source": [
    "def print_path(path):\n",
    "    grid = copy.copy(rewards)\n",
    "    \n",
    "    for i in range(len(path)):\n",
    "        grid[path[i][0]][path[i][1]] = '9'\n",
    "    print_grid(grid)"
   ]
  },
  {
   "cell_type": "code",
   "execution_count": 17,
   "id": "46eaac0f",
   "metadata": {},
   "outputs": [
    {
     "name": "stdout",
     "output_type": "stream",
     "text": [
      "---------------------------------\n",
      "| #| #| #| #| #| *| #| #| #| #| #|\n",
      "---------------------------------\n",
      "| #|  |  |  |  | *| *| *| *| *| #|\n",
      "---------------------------------\n",
      "| #|  | #| #| #| #| #|  | #| *| #|\n",
      "---------------------------------\n",
      "| #|  |  |  |  |  |  |  | #| *| #|\n",
      "---------------------------------\n",
      "| #| #| #|  | #| #| #|  | #| #| #|\n",
      "---------------------------------\n",
      "|  |  |  |  |  |  |  |  |  |  |  |\n",
      "---------------------------------\n",
      "| #| #| #| #| #|  | #| #| #| #| #|\n",
      "---------------------------------\n",
      "| #|  |  |  |  |  |  |  |  |  | #|\n",
      "---------------------------------\n",
      "|  |  |  |  |  |  |  |  |  |  |  |\n",
      "---------------------------------\n",
      "|  |  |  |  |  |  |  |  |  |  |  |\n",
      "---------------------------------\n",
      "|  |  |  |  |  |  |  |  |  |  |  |\n",
      "---------------------------------\n"
     ]
    }
   ],
   "source": [
    "path = get_shortest_path(3, 9)\n",
    "print_path(path)"
   ]
  },
  {
   "cell_type": "code",
   "execution_count": 18,
   "id": "06544da7",
   "metadata": {},
   "outputs": [
    {
     "name": "stdout",
     "output_type": "stream",
     "text": [
      "---------------------------------\n",
      "| #| #| #| #| #| *| #| #| #| #| #|\n",
      "---------------------------------\n",
      "| #|  |  |  |  | *| *| *|  |  | #|\n",
      "---------------------------------\n",
      "| #|  | #| #| #| #| #| *| #|  | #|\n",
      "---------------------------------\n",
      "| #|  |  |  |  |  |  | *| #|  | #|\n",
      "---------------------------------\n",
      "| #| #| #|  | #| #| #| *| #| #| #|\n",
      "---------------------------------\n",
      "|  |  |  |  |  | *| *| *|  |  |  |\n",
      "---------------------------------\n",
      "| #| #| #| #| #| *| #| #| #| #| #|\n",
      "---------------------------------\n",
      "| #|  |  |  |  | *|  |  |  |  | #|\n",
      "---------------------------------\n",
      "|  |  |  |  |  | *|  |  |  |  |  |\n",
      "---------------------------------\n",
      "|  |  |  |  |  | *| *|  |  |  |  |\n",
      "---------------------------------\n",
      "|  |  |  |  |  |  |  |  |  |  |  |\n",
      "---------------------------------\n"
     ]
    }
   ],
   "source": [
    "path = get_shortest_path(9, 6)\n",
    "print_path(path)"
   ]
  },
  {
   "cell_type": "code",
   "execution_count": 19,
   "id": "f34e0f8c",
   "metadata": {},
   "outputs": [
    {
     "name": "stdout",
     "output_type": "stream",
     "text": [
      "---------------------------------\n",
      "| #| #| #| #| #| *| #| #| #| #| #|\n",
      "---------------------------------\n",
      "| #| *| *| *| *| *|  |  |  |  | #|\n",
      "---------------------------------\n",
      "| #| *| #| #| #| #| #|  | #|  | #|\n",
      "---------------------------------\n",
      "| #| *|  |  |  |  |  |  | #|  | #|\n",
      "---------------------------------\n",
      "| #| #| #|  | #| #| #|  | #| #| #|\n",
      "---------------------------------\n",
      "|  |  |  |  |  |  |  |  |  |  |  |\n",
      "---------------------------------\n",
      "| #| #| #| #| #|  | #| #| #| #| #|\n",
      "---------------------------------\n",
      "| #|  |  |  |  |  |  |  |  |  | #|\n",
      "---------------------------------\n",
      "|  |  |  |  |  |  |  |  |  |  |  |\n",
      "---------------------------------\n",
      "|  |  |  |  |  |  |  |  |  |  |  |\n",
      "---------------------------------\n",
      "|  |  |  |  |  |  |  |  |  |  |  |\n",
      "---------------------------------\n"
     ]
    }
   ],
   "source": [
    "path = get_shortest_path(3, 1)\n",
    "print_path(path)"
   ]
  },
  {
   "cell_type": "markdown",
   "id": "f2555cd3",
   "metadata": {},
   "source": [
    "<b>Test: Get shortest path</b>"
   ]
  },
  {
   "cell_type": "code",
   "execution_count": 20,
   "id": "cd816cbf",
   "metadata": {},
   "outputs": [
    {
     "name": "stdout",
     "output_type": "stream",
     "text": [
      "[[3, 9], [2, 9], [1, 9], [1, 8], [1, 7], [1, 6], [1, 5], [0, 5]]\n",
      "[[5, 0], [5, 1], [5, 2], [5, 3], [5, 4], [5, 5], [5, 6], [5, 7], [4, 7], [3, 7], [2, 7], [1, 7], [1, 6], [1, 5], [0, 5]]\n"
     ]
    }
   ],
   "source": [
    "print(get_shortest_path(3, 9))\n",
    "print(get_shortest_path(5, 0))"
   ]
  },
  {
   "cell_type": "markdown",
   "id": "8e16c23c",
   "metadata": {},
   "source": [
    "<b>Reverse path</b>"
   ]
  },
  {
   "cell_type": "code",
   "execution_count": 21,
   "id": "fbf73fcc",
   "metadata": {},
   "outputs": [
    {
     "name": "stdout",
     "output_type": "stream",
     "text": [
      "[[0, 5], [1, 5], [1, 6], [1, 7], [2, 7], [3, 7], [4, 7], [5, 7], [5, 6], [5, 5], [5, 4], [5, 3], [5, 2]]\n",
      "[[-100. -100. -100. -100. -100.  100. -100. -100. -100. -100. -100.]\n",
      " [-100.   -1.   -1.   -1.   -1.   -1.   -1.   -1.   -1.   -1. -100.]\n",
      " [-100.   -1. -100. -100. -100. -100. -100.   -1. -100.   -1. -100.]\n",
      " [-100.   -1.   -1.   -1.   -1.   -1.   -1.   -1. -100.   -1. -100.]\n",
      " [-100. -100. -100.   -1. -100. -100. -100.   -1. -100. -100. -100.]\n",
      " [  -1.   -1.   -1.   -1.   -1.   -1.   -1.   -1.   -1.   -1.   -1.]\n",
      " [-100. -100. -100. -100. -100.   -1. -100. -100. -100. -100. -100.]\n",
      " [-100.   -1.   -1.   -1.   -1.   -1.   -1.   -1.   -1.   -1. -100.]\n",
      " [  -1.   -1.   -1.   -1.   -1.   -1.   -1.   -1.   -1.   -1.   -1.]\n",
      " [  -1.   -1.   -1.   -1.   -1.   -1.   -1.   -1.   -1.   -1.   -1.]\n",
      " [  -1.   -1.   -1.   -1.   -1.   -1.   -1.   -1.   -1.   -1.   -1.]]\n"
     ]
    }
   ],
   "source": [
    "path = get_shortest_path(5, 2)\n",
    "path.reverse()\n",
    "print(path)\n",
    "print(rewards)"
   ]
  },
  {
   "cell_type": "code",
   "execution_count": 24,
   "id": "4b60f63c",
   "metadata": {},
   "outputs": [],
   "source": [
    "import gym\n",
    "import time\n",
    "import numpy as np\n",
    "import matplotlib.pyplot as plt\n",
    "import matplotlib.font_manager"
   ]
  },
  {
   "cell_type": "code",
   "execution_count": 27,
   "id": "d51f9dfe",
   "metadata": {},
   "outputs": [
    {
     "data": {
      "text/plain": [
       "[742]"
      ]
     },
     "execution_count": 27,
     "metadata": {},
     "output_type": "execute_result"
    }
   ],
   "source": [
    "# actions\n",
    "LEFT, DOWN, RIGHT, UP = 0,1,2,3\n",
    "\n",
    "# import the frozen lake gym environment\n",
    "name = 'FrozenLake-v1'\n",
    "env = gym.make(name, is_slippery=False) # warning: setting slippery=True results in very complex environment dynamics where the optimal solution does not make sense to humans!\n",
    "env.seed(742)\n",
    "env.action_space.seed(742)"
   ]
  },
  {
   "cell_type": "code",
   "execution_count": 29,
   "id": "4e92bfc1",
   "metadata": {},
   "outputs": [
    {
     "name": "stderr",
     "output_type": "stream",
     "text": [
      "<>:28: SyntaxWarning: \"is not\" with a literal. Did you mean \"!=\"?\n",
      "<>:28: SyntaxWarning: \"is not\" with a literal. Did you mean \"!=\"?\n",
      "<ipython-input-29-61f39005676c>:28: SyntaxWarning: \"is not\" with a literal. Did you mean \"!=\"?\n",
      "  if episode % 500 == 0 and episode is not 0:\n"
     ]
    },
    {
     "name": "stdout",
     "output_type": "stream",
     "text": [
      "success: 0.0, epsilon: 0.4\n",
      "success: 0.0, epsilon: 0.4\n",
      "success: 0.0, epsilon: 0.4\n",
      "success: 0.0, epsilon: 0.4\n",
      "success: 0.0, epsilon: 0.4\n",
      "success: 0.042, epsilon: 0.4\n",
      "success: 0.11057142857142857, epsilon: 0.4\n",
      "success: 0.1615, epsilon: 0.4\n",
      "success: 0.20177777777777778, epsilon: 0.4\n",
      "success: 0.233, epsilon: 0.4\n",
      "success: 0.2601818181818182, epsilon: 0.4\n",
      "success: 0.2823333333333333, epsilon: 0.4\n",
      "success: 0.2998461538461539, epsilon: 0.4\n",
      "success: 0.31657142857142856, epsilon: 0.4\n",
      "success: 0.33253333333333335, epsilon: 0.4\n",
      "success: 0.344375, epsilon: 0.4\n",
      "success: 0.3547058823529412, epsilon: 0.4\n",
      "success: 0.36822222222222223, epsilon: 0.4\n",
      "success: 0.3761052631578947, epsilon: 0.4\n",
      "success: 0.3835, epsilon: 0.4\n",
      "success: 0.38952380952380955, epsilon: 0.4\n",
      "success: 0.39454545454545453, epsilon: 0.4\n",
      "success: 0.39991304347826084, epsilon: 0.4\n",
      "success: 0.40541666666666665, epsilon: 0.4\n",
      "success: 0.40944, epsilon: 0.4\n",
      "success: 0.41507692307692307, epsilon: 0.4\n",
      "success: 0.4188148148148148, epsilon: 0.4\n",
      "success: 0.4228571428571429, epsilon: 0.4\n",
      "success: 0.4270344827586207, epsilon: 0.4\n",
      "success: 0.4318666666666667, epsilon: 0.4\n",
      "success: 0.4347741935483871, epsilon: 0.4\n",
      "success: 0.4384375, epsilon: 0.4\n",
      "success: 0.44103030303030305, epsilon: 0.4\n",
      "success: 0.44276470588235295, epsilon: 0.4\n",
      "success: 0.44502857142857144, epsilon: 0.4\n",
      "success: 0.447, epsilon: 0.4\n",
      "success: 0.4488648648648649, epsilon: 0.4\n",
      "success: 0.45073684210526316, epsilon: 0.4\n",
      "success: 0.4518974358974359, epsilon: 0.4\n",
      "success: 0.45405, epsilon: 0.4\n",
      "success: 0.4562439024390244, epsilon: 0.4\n",
      "success: 0.4573333333333333, epsilon: 0.4\n",
      "success: 0.4586046511627907, epsilon: 0.4\n",
      "success: 0.4603181818181818, epsilon: 0.4\n",
      "success: 0.46182222222222225, epsilon: 0.4\n",
      "success: 0.4627826086956522, epsilon: 0.4\n",
      "success: 0.464, epsilon: 0.4\n",
      "success: 0.4653333333333333, epsilon: 0.4\n",
      "success: 0.46616326530612245, epsilon: 0.4\n",
      "success: 0.4678, epsilon: 0.4\n",
      "success: 0.4685098039215686, epsilon: 0.4\n",
      "success: 0.47007692307692306, epsilon: 0.4\n",
      "success: 0.4710188679245283, epsilon: 0.4\n",
      "success: 0.4715185185185185, epsilon: 0.4\n",
      "success: 0.4729090909090909, epsilon: 0.4\n",
      "success: 0.4734285714285714, epsilon: 0.4\n",
      "success: 0.47442105263157897, epsilon: 0.4\n",
      "success: 0.47579310344827586, epsilon: 0.4\n",
      "success: 0.47667796610169494, epsilon: 0.4\n",
      "success: 0.4775333333333333, epsilon: 0.4\n",
      "success: 0.4784918032786885, epsilon: 0.4\n",
      "success: 0.47958064516129034, epsilon: 0.4\n",
      "success: 0.48003174603174603, epsilon: 0.4\n",
      "success: 0.48065625, epsilon: 0.4\n",
      "success: 0.4812, epsilon: 0.4\n",
      "success: 0.48209090909090907, epsilon: 0.4\n",
      "success: 0.4829253731343284, epsilon: 0.4\n",
      "success: 0.4836764705882353, epsilon: 0.4\n",
      "success: 0.4845797101449275, epsilon: 0.4\n",
      "success: 0.4858571428571429, epsilon: 0.4\n",
      "success: 0.4863098591549296, epsilon: 0.4\n",
      "success: 0.48744444444444446, epsilon: 0.4\n",
      "success: 0.48819178082191783, epsilon: 0.4\n",
      "success: 0.48948648648648646, epsilon: 0.4\n",
      "success: 0.4897066666666667, epsilon: 0.4\n",
      "success: 0.49026315789473685, epsilon: 0.4\n",
      "success: 0.49062337662337663, epsilon: 0.4\n",
      "success: 0.49143589743589744, epsilon: 0.4\n",
      "success: 0.4916962025316456, epsilon: 0.4\n",
      "success: 0.491975, epsilon: 0.4\n",
      "success: 0.4922962962962963, epsilon: 0.4\n",
      "success: 0.4929512195121951, epsilon: 0.4\n",
      "success: 0.49298795180722893, epsilon: 0.4\n",
      "success: 0.4931190476190476, epsilon: 0.4\n",
      "success: 0.4934352941176471, epsilon: 0.4\n",
      "success: 0.4938372093023256, epsilon: 0.4\n",
      "success: 0.49439080459770113, epsilon: 0.4\n",
      "success: 0.4944545454545455, epsilon: 0.4\n",
      "success: 0.49519101123595505, epsilon: 0.4\n",
      "success: 0.49515555555555557, epsilon: 0.4\n",
      "success: 0.49551648351648353, epsilon: 0.4\n",
      "success: 0.49578260869565216, epsilon: 0.4\n",
      "success: 0.49612903225806454, epsilon: 0.4\n",
      "success: 0.49629787234042555, epsilon: 0.4\n",
      "success: 0.4968, epsilon: 0.4\n",
      "success: 0.4969375, epsilon: 0.4\n",
      "success: 0.4970103092783505, epsilon: 0.4\n",
      "success: 0.4976938775510204, epsilon: 0.4\n",
      "success: 0.49802020202020203, epsilon: 0.4\n",
      "success: 0.49854, epsilon: 0.4\n",
      "success: 0.4984950495049505, epsilon: 0.4\n",
      "success: 0.49886274509803924, epsilon: 0.4\n",
      "success: 0.49875728155339805, epsilon: 0.4\n",
      "success: 0.49917307692307694, epsilon: 0.4\n",
      "success: 0.4991238095238095, epsilon: 0.4\n",
      "success: 0.49958490566037733, epsilon: 0.4\n",
      "success: 0.49983177570093457, epsilon: 0.4\n",
      "success: 0.5000925925925926, epsilon: 0.4\n",
      "success: 0.5004770642201835, epsilon: 0.4\n",
      "success: 0.5007272727272727, epsilon: 0.4\n",
      "success: 0.5010270270270271, epsilon: 0.4\n",
      "success: 0.5013928571428572, epsilon: 0.4\n",
      "success: 0.5015221238938053, epsilon: 0.4\n",
      "success: 0.5019649122807017, epsilon: 0.4\n",
      "success: 0.5021217391304348, epsilon: 0.4\n",
      "success: 0.5020689655172413, epsilon: 0.4\n",
      "success: 0.5022393162393163, epsilon: 0.4\n",
      "success: 0.5027288135593221, epsilon: 0.4\n",
      "success: 0.5031428571428571, epsilon: 0.4\n",
      "success: 0.5035666666666667, epsilon: 0.4\n",
      "success: 0.5038347107438017, epsilon: 0.4\n",
      "success: 0.5039672131147541, epsilon: 0.4\n",
      "success: 0.5042926829268293, epsilon: 0.4\n",
      "success: 0.5043870967741936, epsilon: 0.4\n",
      "success: 0.504432, epsilon: 0.4\n",
      "success: 0.5047460317460317, epsilon: 0.4\n",
      "success: 0.5048661417322835, epsilon: 0.4\n",
      "success: 0.5050625, epsilon: 0.4\n",
      "success: 0.5052713178294573, epsilon: 0.4\n",
      "success: 0.5055692307692308, epsilon: 0.4\n",
      "success: 0.5059236641221374, epsilon: 0.4\n",
      "success: 0.5061666666666667, epsilon: 0.4\n",
      "success: 0.5061654135338346, epsilon: 0.4\n",
      "success: 0.5060895522388059, epsilon: 0.4\n",
      "success: 0.5063555555555556, epsilon: 0.4\n",
      "success: 0.5065, epsilon: 0.4\n",
      "success: 0.5066131386861313, epsilon: 0.4\n",
      "success: 0.506695652173913, epsilon: 0.4\n",
      "success: 0.5068057553956834, epsilon: 0.4\n",
      "success: 0.5069857142857143, epsilon: 0.4\n",
      "success: 0.5069929078014185, epsilon: 0.4\n",
      "success: 0.5071971830985915, epsilon: 0.4\n",
      "success: 0.5074405594405594, epsilon: 0.4\n",
      "success: 0.5076388888888889, epsilon: 0.4\n",
      "success: 0.5076689655172414, epsilon: 0.4\n",
      "success: 0.5079041095890411, epsilon: 0.4\n",
      "success: 0.5080408163265306, epsilon: 0.4\n",
      "success: 0.508054054054054, epsilon: 0.4\n",
      "success: 0.5082953020134228, epsilon: 0.4\n",
      "success: 0.5084, epsilon: 0.4\n",
      "success: 0.5083443708609271, epsilon: 0.4\n",
      "success: 0.5084605263157894, epsilon: 0.4\n",
      "success: 0.5085751633986928, epsilon: 0.4\n",
      "success: 0.5086883116883116, epsilon: 0.4\n",
      "success: 0.5086064516129032, epsilon: 0.4\n",
      "success: 0.5088076923076923, epsilon: 0.4\n",
      "success: 0.5088152866242038, epsilon: 0.4\n",
      "success: 0.5086455696202532, epsilon: 0.4\n",
      "success: 0.5085660377358491, epsilon: 0.4\n",
      "success: 0.5086, epsilon: 0.4\n",
      "success: 0.508944099378882, epsilon: 0.4\n",
      "success: 0.5088148148148148, epsilon: 0.4\n",
      "success: 0.5091656441717791, epsilon: 0.4\n",
      "success: 0.5089634146341463, epsilon: 0.4\n",
      "success: 0.5086909090909091, epsilon: 0.4\n",
      "success: 0.5087108433734939, epsilon: 0.4\n",
      "success: 0.5088982035928143, epsilon: 0.4\n",
      "success: 0.5088809523809524, epsilon: 0.4\n",
      "success: 0.5089467455621302, epsilon: 0.4\n",
      "success: 0.5089176470588235, epsilon: 0.4\n",
      "success: 0.5093099415204678, epsilon: 0.4\n",
      "success: 0.509406976744186, epsilon: 0.4\n",
      "success: 0.5094682080924855, epsilon: 0.4\n",
      "success: 0.5094137931034483, epsilon: 0.4\n",
      "success: 0.5095542857142857, epsilon: 0.4\n",
      "success: 0.5097840909090909, epsilon: 0.4\n",
      "success: 0.5100564971751412, epsilon: 0.4\n",
      "success: 0.5100224719101124, epsilon: 0.4\n",
      "success: 0.5102458100558659, epsilon: 0.4\n",
      "success: 0.5103222222222222, epsilon: 0.4\n",
      "success: 0.5105193370165746, epsilon: 0.4\n",
      "success: 0.5107252747252747, epsilon: 0.4\n",
      "success: 0.5109180327868853, epsilon: 0.4\n",
      "success: 0.5110760869565217, epsilon: 0.4\n",
      "success: 0.5112, epsilon: 0.4\n",
      "success: 0.5112688172043011, epsilon: 0.4\n",
      "success: 0.51124064171123, epsilon: 0.4\n",
      "success: 0.5113829787234042, epsilon: 0.4\n",
      "success: 0.5113756613756614, epsilon: 0.4\n",
      "success: 0.5114315789473685, epsilon: 0.4\n",
      "success: 0.5116125654450262, epsilon: 0.4\n",
      "success: 0.51175, epsilon: 0.4\n",
      "success: 0.5117720207253886, epsilon: 0.4\n",
      "success: 0.5118762886597938, epsilon: 0.4\n",
      "success: 0.5120205128205129, epsilon: 0.4\n",
      "success: 0.5119285714285714, epsilon: 0.4\n",
      "success: 0.5121218274111675, epsilon: 0.4\n",
      "success: 0.5121717171717172, epsilon: 0.4\n",
      "success: 0.5121005025125628, epsilon: 0.4\n",
      "success: 0.5121951219512195, epsilon: 0.4\n"
     ]
    }
   ],
   "source": [
    "Q = np.zeros([env.observation_space.n, env.action_space.n])\n",
    "n_s_a = np.zeros([env.observation_space.n, env.action_space.n])\n",
    "num_episodes = 100000\n",
    "epsilon = 0.4\n",
    "stats = 0.0\n",
    "\n",
    "for episode in range(num_episodes):\n",
    "    state = env.reset()\n",
    "    done = False\n",
    "    results_list = []\n",
    "    result_sum = 0.0\n",
    "    while not done:\n",
    "        if np.random.rand() > epsilon:\n",
    "            action = np.argmax(Q[state, :])\n",
    "        else:\n",
    "            action = env.action_space.sample()\n",
    "        new_state, reward, done, _ = env.step(action)\n",
    "        results_list.append((state, action))\n",
    "        result_sum += reward\n",
    "        state = new_state\n",
    "    \n",
    "    for (state, action) in results_list:\n",
    "        n_s_a[state, action] += 1.0\n",
    "        alpha = 1.0 / n_s_a[state, action]\n",
    "        Q[state, action] += alpha * (result_sum - Q[state, action])\n",
    "\n",
    "    stats += result_sum\n",
    "    if episode % 500 == 0 and episode is not 0:\n",
    "        print(f\"success: {stats/episode}, epsilon: {epsilon}\")\n",
    "\n",
    "print(f\"success: {stats/episode}, epsilon: {epsilon}\")\n",
    "env.close()"
   ]
  },
  {
   "cell_type": "code",
   "execution_count": 30,
   "id": "50284f52",
   "metadata": {},
   "outputs": [],
   "source": [
    "# lets just sample the maximum action from Q to show the optimal policy\n",
    "def pi_star_from_Q(Q):\n",
    "    done = False\n",
    "    pi_star = np.zeros([env.observation_space.n, env.action_space.n])\n",
    "    state = env.reset() # start in top-left, = 0\n",
    "    while not done:\n",
    "        action = np.argmax(Q[state, :])\n",
    "        pi_star[state,action] = 1\n",
    "        state, reward, done, _ = env.step(action)\n",
    "    return pi_star"
   ]
  },
  {
   "cell_type": "code",
   "execution_count": 31,
   "id": "48c12c11",
   "metadata": {},
   "outputs": [
    {
     "data": {
      "text/plain": [
       "array([[0., 0., 1., 0.],\n",
       "       [0., 0., 1., 0.],\n",
       "       [0., 1., 0., 0.],\n",
       "       [0., 0., 0., 0.],\n",
       "       [0., 0., 0., 0.],\n",
       "       [0., 0., 0., 0.],\n",
       "       [0., 1., 0., 0.],\n",
       "       [0., 0., 0., 0.],\n",
       "       [0., 0., 0., 0.],\n",
       "       [0., 0., 0., 0.],\n",
       "       [0., 1., 0., 0.],\n",
       "       [0., 0., 0., 0.],\n",
       "       [0., 0., 0., 0.],\n",
       "       [0., 0., 0., 0.],\n",
       "       [0., 0., 1., 0.],\n",
       "       [0., 0., 0., 0.]])"
      ]
     },
     "execution_count": 31,
     "metadata": {},
     "output_type": "execute_result"
    }
   ],
   "source": [
    "pi_star_from_Q(Q)"
   ]
  },
  {
   "cell_type": "code",
   "execution_count": 32,
   "id": "282c62b2",
   "metadata": {},
   "outputs": [
    {
     "data": {
      "text/plain": [
       "array([[0.18623389, 0.42135528, 0.50667964, 0.41377935],\n",
       "       [0.41732951, 0.        , 0.59671307, 0.5081759 ],\n",
       "       [0.50328863, 0.62158664, 0.52004111, 0.59049039],\n",
       "       [0.59360641, 0.        , 0.53212291, 0.54500703],\n",
       "       [0.07451526, 0.54411441, 0.        , 0.28598545],\n",
       "       [0.        , 0.        , 0.        , 0.        ],\n",
       "       [0.        , 0.8030464 , 0.        , 0.60140893],\n",
       "       [0.        , 0.        , 0.        , 0.        ],\n",
       "       [0.16120577, 0.        , 0.66892704, 0.37632979],\n",
       "       [0.49274778, 0.80062444, 0.80183461, 0.        ],\n",
       "       [0.70555224, 0.95884584, 0.        , 0.62047263],\n",
       "       [0.        , 0.        , 0.        , 0.        ],\n",
       "       [0.        , 0.        , 0.        , 0.        ],\n",
       "       [0.        , 0.80314233, 0.95766482, 0.69099099],\n",
       "       [0.82788226, 0.95743225, 1.        , 0.802596  ],\n",
       "       [0.        , 0.        , 0.        , 0.        ]])"
      ]
     },
     "execution_count": 32,
     "metadata": {},
     "output_type": "execute_result"
    }
   ],
   "source": [
    "Q"
   ]
  }
 ],
 "metadata": {
  "kernelspec": {
   "display_name": "Python 3",
   "language": "python",
   "name": "python3"
  },
  "language_info": {
   "codemirror_mode": {
    "name": "ipython",
    "version": 3
   },
   "file_extension": ".py",
   "mimetype": "text/x-python",
   "name": "python",
   "nbconvert_exporter": "python",
   "pygments_lexer": "ipython3",
   "version": "3.8.6"
  }
 },
 "nbformat": 4,
 "nbformat_minor": 5
}
