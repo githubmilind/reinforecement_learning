{
 "cells": [
  {
   "cell_type": "markdown",
   "id": "a73d4590",
   "metadata": {},
   "source": [
    "https://colab.research.google.com/drive/1E2RViy7xmor0mhqskZV14_NUj2jMpJz3#scrollTo=DnCfO5tVG0LJ"
   ]
  },
  {
   "cell_type": "code",
   "execution_count": 1,
   "id": "94e556fb",
   "metadata": {},
   "outputs": [],
   "source": [
    "import numpy as np\n",
    "np.random.seed(42)\n",
    "import copy"
   ]
  },
  {
   "cell_type": "markdown",
   "id": "36b58686",
   "metadata": {},
   "source": [
    "<b>Environment Grid, Grid of 11 rows X 11 columns</b>"
   ]
  },
  {
   "cell_type": "code",
   "execution_count": 2,
   "id": "84280e34",
   "metadata": {},
   "outputs": [],
   "source": [
    "grid_rows = 11\n",
    "grid_cols = 11"
   ]
  },
  {
   "cell_type": "markdown",
   "id": "a0e673cd",
   "metadata": {},
   "source": [
    "<b>Q-value for each state/action pair Q(s,a)\n",
    "2D array give the Q value, 3d dimension is the Q value for the action\n",
    "there are 4 actions: Up, Down, Right, Left\n",
    "So there are 4 layers\n",
    "</b>"
   ]
  },
  {
   "cell_type": "code",
   "execution_count": 3,
   "id": "6f3dea0a",
   "metadata": {},
   "outputs": [],
   "source": [
    "q_values = np.zeros((grid_rows, grid_cols, 4))"
   ]
  },
  {
   "cell_type": "markdown",
   "id": "d857eebb",
   "metadata": {},
   "source": [
    "<b>Actions: 0 - Up, 1 - Right, 2 - Down, 3 - Left</b>"
   ]
  },
  {
   "cell_type": "code",
   "execution_count": 4,
   "id": "5e4c7fd5",
   "metadata": {},
   "outputs": [],
   "source": [
    "actions = ['up', 'right', 'down', 'left']"
   ]
  },
  {
   "cell_type": "markdown",
   "id": "9d37f1d7",
   "metadata": {},
   "source": [
    "<b>Reward table : define the rewards table\n",
    "100 - max reward - goal\n",
    "-100 - max punishment - blocked cells\n",
    "-1 - allowed cells for travelling\n",
    "Purpose of Q learning algorithm is to maximise the rewards. \n",
    "If we keep positive rewards then bot will keep moving unnecessarly to collect the rewards.\n",
    "-ve rewards keep control on movements</b>"
   ]
  },
  {
   "cell_type": "markdown",
   "id": "8da2c4f7",
   "metadata": {},
   "source": [
    "<b>TODO: Change the grid rewards</b>"
   ]
  },
  {
   "cell_type": "code",
   "execution_count": 5,
   "id": "abd18367",
   "metadata": {},
   "outputs": [
    {
     "name": "stdout",
     "output_type": "stream",
     "text": [
      "[-100. -100. -100. -100. -100.  100. -100. -100. -100. -100. -100.]\n",
      "[-100.   -1.   -1.   -1.   -1.   -1.   -1.   -1.   -1.   -1. -100.]\n",
      "[-100.   -1. -100. -100. -100. -100. -100.   -1. -100.   -1. -100.]\n",
      "[-100.   -1.   -1.   -1.   -1.   -1.   -1.   -1. -100.   -1. -100.]\n",
      "[-100. -100. -100.   -1. -100. -100. -100.   -1. -100. -100. -100.]\n",
      "[-1. -1. -1. -1. -1. -1. -1. -1. -1. -1. -1.]\n",
      "[-100. -100. -100. -100. -100.   -1. -100. -100. -100. -100. -100.]\n",
      "[-100.   -1.   -1.   -1.   -1.   -1.   -1.   -1.   -1.   -1. -100.]\n",
      "[-1. -1. -1. -1. -1. -1. -1. -1. -1. -1. -1.]\n",
      "[-1. -1. -1. -1. -1. -1. -1. -1. -1. -1. -1.]\n",
      "[-1. -1. -1. -1. -1. -1. -1. -1. -1. -1. -1.]\n"
     ]
    }
   ],
   "source": [
    "rewards = np.full((grid_rows, grid_cols), -100.)\n",
    "rewards[0, 5] = 100. #set the reward for the packaging area (i.e., the goal) to 100\n",
    "\n",
    "#define aisle locations (i.e., white squares) for rows 1 through 9\n",
    "aisles = {} #store locations in a dictionary\n",
    "aisles[1] = [i for i in range(1, 10)]\n",
    "aisles[2] = [1, 7, 9]\n",
    "aisles[3] = [i for i in range(1, 8)]\n",
    "aisles[3].append(9)\n",
    "aisles[4] = [3, 7]\n",
    "aisles[5] = [i for i in range(11)]\n",
    "aisles[6] = [5]\n",
    "aisles[7] = [i for i in range(1, 10)]\n",
    "aisles[8] = [3, 7]\n",
    "aisles[8] = [i for i in range(11)]\n",
    "\n",
    "aisles[9] = [i for i in range(11)]\n",
    "\n",
    "aisles[10] = [i for i in range(11)]\n",
    "\n",
    "#set the rewards for all aisle locations (i.e., white squares)\n",
    "for row_index in range(1, 11):\n",
    "    for column_index in aisles[row_index]:\n",
    "        rewards[row_index, column_index] = -1.\n",
    "\n",
    "for row in rewards:\n",
    "    print(row)"
   ]
  },
  {
   "cell_type": "markdown",
   "id": "b92b9afe",
   "metadata": {},
   "source": [
    "<b><pre>\n",
    "TRAINING\n",
    "1. To begin, choose random, non-terminal state\n",
    "2. Choose action, move7- up/right/down/left from current state\n",
    "3. Choose action using epsilon greedy method - balanced approach of explore and exploit\n",
    "4. Perform the action and move to next state\n",
    "5. Receive rewards and compute temporal difference\n",
    "6. Update Q-value for previos state/action pair\n",
    "7. if new state is terminal state, go to step 1, else go to step 2\n",
    "\n",
    "Run the process for 1000 episodes\n",
    "</pre></b>"
   ]
  },
  {
   "cell_type": "code",
   "execution_count": 6,
   "id": "33140e8f",
   "metadata": {},
   "outputs": [],
   "source": [
    "def is_terminal_state(row_index, col_index):\n",
    "    if rewards[row_index, col_index] == -1. :\n",
    "        return False\n",
    "    return True"
   ]
  },
  {
   "cell_type": "markdown",
   "id": "f1a66e3c",
   "metadata": {},
   "source": [
    "<b>Choose start location</b>"
   ]
  },
  {
   "cell_type": "code",
   "execution_count": 7,
   "id": "bd2aebaf",
   "metadata": {},
   "outputs": [],
   "source": [
    "def get_starting_location():\n",
    "    row_indx = np.random.randint(grid_rows)\n",
    "    col_indx = np.random.randint(grid_cols)\n",
    "    \n",
    "    #continue choosing random row and column indexes until a non-terminal state is identified\n",
    "    #(i.e., until the chosen state is a 'white square').\n",
    "    while is_terminal_state(row_indx, col_indx):\n",
    "        row_indx = np.random.randint(grid_rows)\n",
    "        col_indx = np.random.randint(grid_cols)\n",
    "\n",
    "    return row_indx, col_indx"
   ]
  },
  {
   "cell_type": "markdown",
   "id": "7152b291",
   "metadata": {},
   "source": [
    "<b>next_action - epsilon greedy algorithm</b>"
   ]
  },
  {
   "cell_type": "code",
   "execution_count": 8,
   "id": "1b57cd99",
   "metadata": {},
   "outputs": [],
   "source": [
    "def get_next_action(row_indx, col_indx, epsilon):\n",
    "    if np.random.random() < epsilon:\n",
    "        return np.argmax(q_values[row_indx, col_indx])\n",
    "    return np.random.randint(4)"
   ]
  },
  {
   "cell_type": "code",
   "execution_count": 9,
   "id": "91c923d3",
   "metadata": {},
   "outputs": [],
   "source": [
    "def get_next_location(row_indx, col_indx, action_indx):\n",
    "    new_row_indx = row_indx\n",
    "    new_col_indx = col_indx\n",
    "    \n",
    "    if actions[action_indx] == 'up' and row_indx > 0:\n",
    "        new_row_indx -= 1\n",
    "    elif actions[action_indx] == 'right' and col_indx < grid_cols - 1:\n",
    "        new_col_indx += 1\n",
    "    elif actions[action_indx] == 'down' and row_indx < grid_rows - 1:\n",
    "        new_row_indx += 1\n",
    "    elif actions[action_indx] == 'left' and col_indx > 0:\n",
    "        new_col_indx -= 1\n",
    "        \n",
    "    return new_row_indx, new_col_indx"
   ]
  },
  {
   "cell_type": "markdown",
   "id": "68d59ab3",
   "metadata": {},
   "source": [
    "<b>get_shortest_path - using q table, find shortest path</b>"
   ]
  },
  {
   "cell_type": "code",
   "execution_count": 10,
   "id": "0142ae57",
   "metadata": {},
   "outputs": [],
   "source": [
    "def get_shortest_path(start_row_indx, start_col_indx):\n",
    "    \n",
    "    # terminal starting position\n",
    "    if is_terminal_state(start_row_indx, start_col_indx):\n",
    "        return []\n",
    "    else :\n",
    "        #non-terminal starting position\n",
    "        curr_row_indx, curr_col_indx = start_row_indx, start_col_indx\n",
    "        shortest_path = []\n",
    "        shortest_path.append([curr_row_indx, curr_col_indx])\n",
    "        \n",
    "        while not is_terminal_state(curr_row_indx, curr_col_indx):\n",
    "            action_indx = get_next_action(curr_row_indx, curr_col_indx, 1.)\n",
    "            \n",
    "            curr_row_indx, curr_col_indx = get_next_location(curr_row_indx, curr_col_indx, action_indx)\n",
    "            shortest_path.append([curr_row_indx, curr_col_indx])\n",
    "        return shortest_path"
   ]
  },
  {
   "cell_type": "markdown",
   "id": "3b36ef69",
   "metadata": {},
   "source": [
    "<b>Train the Agent</b>"
   ]
  },
  {
   "cell_type": "code",
   "execution_count": 11,
   "id": "67bfcd06",
   "metadata": {},
   "outputs": [],
   "source": [
    "epsilon = 0.9\n",
    "discount_factor = 0.9 #discount for future rewards\n",
    "learning_rate = 0.9\n",
    "\n",
    "episods_count = 10000"
   ]
  },
  {
   "cell_type": "code",
   "execution_count": 12,
   "id": "0cf8a1d6",
   "metadata": {},
   "outputs": [
    {
     "name": "stdout",
     "output_type": "stream",
     "text": [
      "Training Complete...\n"
     ]
    }
   ],
   "source": [
    "for episode in range(episods_count):\n",
    "    row_indx, col_indx = get_starting_location()\n",
    "    \n",
    "    while not is_terminal_state(row_indx, col_indx):\n",
    "        action_indx = get_next_action(row_indx, col_indx, epsilon)\n",
    "        \n",
    "        old_row_indx, old_col_indx = row_indx, col_indx\n",
    "        row_indx, col_indx = get_next_location(row_indx, col_indx, action_indx)\n",
    "        \n",
    "        #rewards\n",
    "        reward = rewards[row_indx, col_indx]\n",
    "        old_q_value = q_values[row_indx, col_indx, action_indx]\n",
    "        temporal_difference = reward + (discount_factor + np.max(q_values[row_indx, col_indx]) - old_q_value)\n",
    "        \n",
    "        #update q table\n",
    "        new_q_value = old_q_value + (learning_rate * temporal_difference)\n",
    "        q_values[old_row_indx, old_col_indx, action_indx] = new_q_value\n",
    "        \n",
    "print(\"Training Complete...\")        "
   ]
  },
  {
   "cell_type": "code",
   "execution_count": 13,
   "id": "072b08e1",
   "metadata": {},
   "outputs": [],
   "source": [
    "def print_path(path):\n",
    "    new_path = copy.copy(rewards)\n",
    "    \n",
    "    for i in range(len(path)):\n",
    "        new_path[path[i][0]][path[i][1]] = '9'\n",
    "    print(new_path)"
   ]
  },
  {
   "cell_type": "code",
   "execution_count": 14,
   "id": "46eaac0f",
   "metadata": {},
   "outputs": [
    {
     "name": "stdout",
     "output_type": "stream",
     "text": [
      "[[-100. -100. -100. -100. -100.    9. -100. -100. -100. -100. -100.]\n",
      " [-100.   -1.   -1.   -1.   -1.    9.    9.    9.    9.    9. -100.]\n",
      " [-100.   -1. -100. -100. -100. -100. -100.   -1. -100.    9. -100.]\n",
      " [-100.   -1.   -1.   -1.   -1.   -1.   -1.   -1. -100.    9. -100.]\n",
      " [-100. -100. -100.   -1. -100. -100. -100.   -1. -100. -100. -100.]\n",
      " [  -1.   -1.   -1.   -1.   -1.   -1.   -1.   -1.   -1.   -1.   -1.]\n",
      " [-100. -100. -100. -100. -100.   -1. -100. -100. -100. -100. -100.]\n",
      " [-100.   -1.   -1.   -1.   -1.   -1.   -1.   -1.   -1.   -1. -100.]\n",
      " [  -1.   -1.   -1.   -1.   -1.   -1.   -1.   -1.   -1.   -1.   -1.]\n",
      " [  -1.   -1.   -1.   -1.   -1.   -1.   -1.   -1.   -1.   -1.   -1.]\n",
      " [  -1.   -1.   -1.   -1.   -1.   -1.   -1.   -1.   -1.   -1.   -1.]]\n"
     ]
    }
   ],
   "source": [
    "path = get_shortest_path(3, 9)\n",
    "print_path(path)"
   ]
  },
  {
   "cell_type": "code",
   "execution_count": 15,
   "id": "06544da7",
   "metadata": {},
   "outputs": [
    {
     "name": "stdout",
     "output_type": "stream",
     "text": [
      "[[-100. -100. -100. -100. -100.    9. -100. -100. -100. -100. -100.]\n",
      " [-100.   -1.   -1.   -1.   -1.    9.    9.    9.   -1.   -1. -100.]\n",
      " [-100.   -1. -100. -100. -100. -100. -100.    9. -100.   -1. -100.]\n",
      " [-100.   -1.   -1.   -1.   -1.   -1.   -1.    9. -100.   -1. -100.]\n",
      " [-100. -100. -100.   -1. -100. -100. -100.    9. -100. -100. -100.]\n",
      " [  -1.   -1.   -1.   -1.   -1.    9.    9.    9.   -1.   -1.   -1.]\n",
      " [-100. -100. -100. -100. -100.    9. -100. -100. -100. -100. -100.]\n",
      " [-100.   -1.   -1.   -1.   -1.    9.   -1.   -1.   -1.   -1. -100.]\n",
      " [  -1.   -1.   -1.   -1.   -1.    9.   -1.   -1.   -1.   -1.   -1.]\n",
      " [  -1.   -1.   -1.   -1.   -1.    9.    9.   -1.   -1.   -1.   -1.]\n",
      " [  -1.   -1.   -1.   -1.   -1.   -1.   -1.   -1.   -1.   -1.   -1.]]\n"
     ]
    }
   ],
   "source": [
    "path = get_shortest_path(9, 6)\n",
    "print_path(path)"
   ]
  },
  {
   "cell_type": "code",
   "execution_count": 16,
   "id": "f34e0f8c",
   "metadata": {},
   "outputs": [
    {
     "name": "stdout",
     "output_type": "stream",
     "text": [
      "[[-100. -100. -100. -100. -100.    9. -100. -100. -100. -100. -100.]\n",
      " [-100.    9.    9.    9.    9.    9.   -1.   -1.   -1.   -1. -100.]\n",
      " [-100.    9. -100. -100. -100. -100. -100.   -1. -100.   -1. -100.]\n",
      " [-100.    9.   -1.   -1.   -1.   -1.   -1.   -1. -100.   -1. -100.]\n",
      " [-100. -100. -100.   -1. -100. -100. -100.   -1. -100. -100. -100.]\n",
      " [  -1.   -1.   -1.   -1.   -1.   -1.   -1.   -1.   -1.   -1.   -1.]\n",
      " [-100. -100. -100. -100. -100.   -1. -100. -100. -100. -100. -100.]\n",
      " [-100.   -1.   -1.   -1.   -1.   -1.   -1.   -1.   -1.   -1. -100.]\n",
      " [  -1.   -1.   -1.   -1.   -1.   -1.   -1.   -1.   -1.   -1.   -1.]\n",
      " [  -1.   -1.   -1.   -1.   -1.   -1.   -1.   -1.   -1.   -1.   -1.]\n",
      " [  -1.   -1.   -1.   -1.   -1.   -1.   -1.   -1.   -1.   -1.   -1.]]\n"
     ]
    }
   ],
   "source": [
    "path = get_shortest_path(3, 1)\n",
    "print_path(path)"
   ]
  },
  {
   "cell_type": "markdown",
   "id": "f2555cd3",
   "metadata": {},
   "source": [
    "<b>Test: Get shortest path</b>"
   ]
  },
  {
   "cell_type": "code",
   "execution_count": 17,
   "id": "cd816cbf",
   "metadata": {},
   "outputs": [
    {
     "name": "stdout",
     "output_type": "stream",
     "text": [
      "[[3, 9], [2, 9], [1, 9], [1, 8], [1, 7], [1, 6], [1, 5], [0, 5]]\n",
      "[[5, 0], [5, 1], [5, 2], [5, 3], [5, 4], [5, 5], [5, 6], [5, 7], [4, 7], [3, 7], [2, 7], [1, 7], [1, 6], [1, 5], [0, 5]]\n"
     ]
    }
   ],
   "source": [
    "print(get_shortest_path(3, 9))\n",
    "print(get_shortest_path(5, 0))"
   ]
  },
  {
   "cell_type": "markdown",
   "id": "8e16c23c",
   "metadata": {},
   "source": [
    "<b>Reverse path</b>"
   ]
  },
  {
   "cell_type": "code",
   "execution_count": 18,
   "id": "fbf73fcc",
   "metadata": {},
   "outputs": [
    {
     "name": "stdout",
     "output_type": "stream",
     "text": [
      "[[0, 5], [1, 5], [1, 6], [1, 7], [2, 7], [3, 7], [4, 7], [5, 7], [5, 6], [5, 5], [5, 4], [5, 3], [5, 2]]\n",
      "[[-100. -100. -100. -100. -100.  100. -100. -100. -100. -100. -100.]\n",
      " [-100.   -1.   -1.   -1.   -1.   -1.   -1.   -1.   -1.   -1. -100.]\n",
      " [-100.   -1. -100. -100. -100. -100. -100.   -1. -100.   -1. -100.]\n",
      " [-100.   -1.   -1.   -1.   -1.   -1.   -1.   -1. -100.   -1. -100.]\n",
      " [-100. -100. -100.   -1. -100. -100. -100.   -1. -100. -100. -100.]\n",
      " [  -1.   -1.   -1.   -1.   -1.   -1.   -1.   -1.   -1.   -1.   -1.]\n",
      " [-100. -100. -100. -100. -100.   -1. -100. -100. -100. -100. -100.]\n",
      " [-100.   -1.   -1.   -1.   -1.   -1.   -1.   -1.   -1.   -1. -100.]\n",
      " [  -1.   -1.   -1.   -1.   -1.   -1.   -1.   -1.   -1.   -1.   -1.]\n",
      " [  -1.   -1.   -1.   -1.   -1.   -1.   -1.   -1.   -1.   -1.   -1.]\n",
      " [  -1.   -1.   -1.   -1.   -1.   -1.   -1.   -1.   -1.   -1.   -1.]]\n"
     ]
    }
   ],
   "source": [
    "path = get_shortest_path(5, 2)\n",
    "path.reverse()\n",
    "print(path)\n",
    "print(rewards)"
   ]
  }
 ],
 "metadata": {
  "kernelspec": {
   "display_name": "Python 3",
   "language": "python",
   "name": "python3"
  },
  "language_info": {
   "codemirror_mode": {
    "name": "ipython",
    "version": 3
   },
   "file_extension": ".py",
   "mimetype": "text/x-python",
   "name": "python",
   "nbconvert_exporter": "python",
   "pygments_lexer": "ipython3",
   "version": "3.8.6"
  }
 },
 "nbformat": 4,
 "nbformat_minor": 5
}
