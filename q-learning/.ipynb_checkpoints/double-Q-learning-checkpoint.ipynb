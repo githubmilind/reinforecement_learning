{
 "cells": [
  {
   "cell_type": "markdown",
   "id": "4a61e61b",
   "metadata": {},
   "source": [
    "<b>Double Q Learning</b>"
   ]
  },
  {
   "cell_type": "code",
   "execution_count": 1,
   "id": "94e556fb",
   "metadata": {},
   "outputs": [],
   "source": [
    "import numpy as np\n",
    "import matplotlib.pyplot as plt\n",
    "\n",
    "np.random.seed(42)\n",
    "import copy"
   ]
  },
  {
   "cell_type": "markdown",
   "id": "36b58686",
   "metadata": {},
   "source": [
    "<b>Environment Grid, Grid of 11 rows X 11 columns</b>"
   ]
  },
  {
   "cell_type": "code",
   "execution_count": 2,
   "id": "84280e34",
   "metadata": {},
   "outputs": [],
   "source": [
    "grid_rows = 11\n",
    "grid_cols = 11"
   ]
  },
  {
   "cell_type": "markdown",
   "id": "a0e673cd",
   "metadata": {},
   "source": [
    "<b><pre>Q-value for each state/action pair Q(s,a)\n",
    "2D array give the Q value, 3d dimension is the Q value for the action\n",
    "There are 4 actions: Up, Down, Right, Left .. So there are 4 layers\n",
    "There are 2 Q tables for each of Q learning and Q12 table is SUM of Q1 and Q2\n",
    "</pre></b>"
   ]
  },
  {
   "cell_type": "code",
   "execution_count": 3,
   "id": "6f3dea0a",
   "metadata": {},
   "outputs": [],
   "source": [
    "q1_values = np.zeros((grid_rows, grid_cols, 4))"
   ]
  },
  {
   "cell_type": "code",
   "execution_count": 4,
   "id": "362b3360",
   "metadata": {},
   "outputs": [],
   "source": [
    "q2_values = np.zeros((grid_rows, grid_cols, 4))"
   ]
  },
  {
   "cell_type": "code",
   "execution_count": 5,
   "id": "351e9507",
   "metadata": {},
   "outputs": [],
   "source": [
    "q12_values = np.zeros((grid_rows, grid_cols, 4))"
   ]
  },
  {
   "cell_type": "markdown",
   "id": "d857eebb",
   "metadata": {},
   "source": [
    "<b>Actions: 0 - Up, 1 - Right, 2 - Down, 3 - Left</b>"
   ]
  },
  {
   "cell_type": "code",
   "execution_count": 6,
   "id": "5e4c7fd5",
   "metadata": {},
   "outputs": [],
   "source": [
    "actions = ['up', 'right', 'down', 'left']"
   ]
  },
  {
   "cell_type": "markdown",
   "id": "460ec772",
   "metadata": {},
   "source": [
    "<b>Print Grid<pre>\n",
    "dollar - Goal\n",
    "pound - Wall\n",
    "space - Movable space\n",
    "star - Path\n",
    "</pre></b>"
   ]
  },
  {
   "cell_type": "code",
   "execution_count": 7,
   "id": "8b0989aa",
   "metadata": {},
   "outputs": [],
   "source": [
    "def print_char(x):\n",
    "    if x == -100:\n",
    "        return \"\\x1b[31m#\\x1b[0m\"\n",
    "    if x == -1:\n",
    "        return ' '\n",
    "    if x == 9:\n",
    "        return \"\\x1b[34m*\\x1b[0m\"\n",
    "    if x == 100:\n",
    "        return \"\\x1b[92m$\\x1b[0m\""
   ]
  },
  {
   "cell_type": "code",
   "execution_count": 8,
   "id": "2e0cdf08",
   "metadata": {},
   "outputs": [],
   "source": [
    "def print_grid(grid):\n",
    "    print(' | 0| 1| 2| 3| 4| 5| 6| 7| 8| 9|10|')\n",
    "    for i in range(grid_rows):\n",
    "        for k in range(grid_cols):\n",
    "            print('---', end='')\n",
    "        print('')\n",
    "        \n",
    "        print(i, end='')\n",
    "        for j in range(grid_cols):\n",
    "            print('|', print_char(grid[i][j]), end='')\n",
    "        print('|', end='')\n",
    "        print('')\n",
    "        \n",
    "    for k in range(grid_cols):\n",
    "        print('---', end='')\n",
    "    print('')"
   ]
  },
  {
   "cell_type": "markdown",
   "id": "9d37f1d7",
   "metadata": {},
   "source": [
    "<b>Reward table : define the rewards table\n",
    "100 - max reward - goal\n",
    "-100 - max punishment - blocked cells\n",
    "-1 - allowed cells for travelling\n",
    "Purpose of Q learning algorithm is to maximise the rewards. \n",
    "If we keep positive rewards then bot will keep moving unnecessarly to collect the rewards.\n",
    "-ve rewards keep control on movements</b>"
   ]
  },
  {
   "cell_type": "code",
   "execution_count": 9,
   "id": "abd18367",
   "metadata": {},
   "outputs": [
    {
     "name": "stdout",
     "output_type": "stream",
     "text": [
      "\n",
      "Rewards Table\n",
      "\n",
      "[-100. -100. -100. -100. -100.  100. -100. -100. -100. -100. -100.]\n",
      "[-100.   -1.   -1.   -1.   -1.   -1.   -1.   -1.   -1.   -1. -100.]\n",
      "[-100.   -1. -100. -100. -100. -100. -100.   -1. -100.   -1. -100.]\n",
      "[-100.   -1.   -1.   -1.   -1.   -1.   -1.   -1. -100.   -1. -100.]\n",
      "[-100. -100. -100.   -1. -100. -100. -100.   -1. -100. -100. -100.]\n",
      "[-1. -1. -1. -1. -1. -1. -1. -1. -1. -1. -1.]\n",
      "[-100. -100. -100. -100. -100.   -1. -100. -100. -100. -100. -100.]\n",
      "[-100.   -1.   -1.   -1.   -1.   -1.   -1.   -1.   -1.   -1. -100.]\n",
      "[-1. -1. -1. -1. -1. -1. -1. -1. -1. -1. -1.]\n",
      "[-1. -1. -1. -1. -1. -1. -1. -1. -1. -1. -1.]\n",
      "[-1. -1. -1. -1. -1. -1. -1. -1. -1. -1. -1.]\n",
      "\n",
      "Grid\n",
      "\n",
      " | 0| 1| 2| 3| 4| 5| 6| 7| 8| 9|10|\n",
      "---------------------------------\n",
      "0| \u001b[31m#\u001b[0m| \u001b[31m#\u001b[0m| \u001b[31m#\u001b[0m| \u001b[31m#\u001b[0m| \u001b[31m#\u001b[0m| \u001b[92m$\u001b[0m| \u001b[31m#\u001b[0m| \u001b[31m#\u001b[0m| \u001b[31m#\u001b[0m| \u001b[31m#\u001b[0m| \u001b[31m#\u001b[0m|\n",
      "---------------------------------\n",
      "1| \u001b[31m#\u001b[0m|  |  |  |  |  |  |  |  |  | \u001b[31m#\u001b[0m|\n",
      "---------------------------------\n",
      "2| \u001b[31m#\u001b[0m|  | \u001b[31m#\u001b[0m| \u001b[31m#\u001b[0m| \u001b[31m#\u001b[0m| \u001b[31m#\u001b[0m| \u001b[31m#\u001b[0m|  | \u001b[31m#\u001b[0m|  | \u001b[31m#\u001b[0m|\n",
      "---------------------------------\n",
      "3| \u001b[31m#\u001b[0m|  |  |  |  |  |  |  | \u001b[31m#\u001b[0m|  | \u001b[31m#\u001b[0m|\n",
      "---------------------------------\n",
      "4| \u001b[31m#\u001b[0m| \u001b[31m#\u001b[0m| \u001b[31m#\u001b[0m|  | \u001b[31m#\u001b[0m| \u001b[31m#\u001b[0m| \u001b[31m#\u001b[0m|  | \u001b[31m#\u001b[0m| \u001b[31m#\u001b[0m| \u001b[31m#\u001b[0m|\n",
      "---------------------------------\n",
      "5|  |  |  |  |  |  |  |  |  |  |  |\n",
      "---------------------------------\n",
      "6| \u001b[31m#\u001b[0m| \u001b[31m#\u001b[0m| \u001b[31m#\u001b[0m| \u001b[31m#\u001b[0m| \u001b[31m#\u001b[0m|  | \u001b[31m#\u001b[0m| \u001b[31m#\u001b[0m| \u001b[31m#\u001b[0m| \u001b[31m#\u001b[0m| \u001b[31m#\u001b[0m|\n",
      "---------------------------------\n",
      "7| \u001b[31m#\u001b[0m|  |  |  |  |  |  |  |  |  | \u001b[31m#\u001b[0m|\n",
      "---------------------------------\n",
      "8|  |  |  |  |  |  |  |  |  |  |  |\n",
      "---------------------------------\n",
      "9|  |  |  |  |  |  |  |  |  |  |  |\n",
      "---------------------------------\n",
      "10|  |  |  |  |  |  |  |  |  |  |  |\n",
      "---------------------------------\n"
     ]
    }
   ],
   "source": [
    "rewards = np.full((grid_rows, grid_cols), -100.)\n",
    "rewards[0, 5] = 100. #set the reward for the packaging area (i.e., the goal) to 100\n",
    "\n",
    "#define aisle locations (i.e., white squares) for rows 1 through 9\n",
    "aisles = {} #store locations in a dictionary\n",
    "aisles[1] = [i for i in range(1, 10)]\n",
    "aisles[2] = [1, 7, 9]\n",
    "aisles[3] = [i for i in range(1, 8)]\n",
    "aisles[3].append(9)\n",
    "aisles[4] = [3, 7]\n",
    "aisles[5] = [i for i in range(11)]\n",
    "aisles[6] = [5]\n",
    "aisles[7] = [i for i in range(1, 10)]\n",
    "aisles[8] = [3, 7]\n",
    "aisles[8] = [i for i in range(11)]\n",
    "\n",
    "aisles[9] = [i for i in range(11)]\n",
    "\n",
    "aisles[10] = [i for i in range(11)]\n",
    "\n",
    "#set the rewards for all aisle locations (i.e., white squares)\n",
    "for row_index in range(1, 11):\n",
    "    for column_index in aisles[row_index]:\n",
    "        rewards[row_index, column_index] = -1.\n",
    "\n",
    "print(\"\\nRewards Table\\n\")\n",
    "for row in rewards:\n",
    "    print(row)\n",
    "\n",
    "print(\"\\nGrid\\n\")\n",
    "print_grid(rewards)"
   ]
  },
  {
   "cell_type": "markdown",
   "id": "b92b9afe",
   "metadata": {},
   "source": [
    "<b><pre>\n",
    "TRAINING\n",
    "1. To begin, choose random, non-terminal state\n",
    "2. Choose action, move- up/right/down/left from current state\n",
    "3. Choose action using epsilon greedy method - balanced approach of explore and exploit\n",
    "4. Perform the action and move to next state\n",
    "5. Receive rewards and compute temporal difference\n",
    "6. *Randomly* Update Q-value for previos state/action pair\n",
    "7. if new state is terminal state, go to step 1, else go to step 2\n",
    "\n",
    "Run the process for 10000 episodes\n",
    "</pre></b>"
   ]
  },
  {
   "cell_type": "code",
   "execution_count": 10,
   "id": "33140e8f",
   "metadata": {},
   "outputs": [],
   "source": [
    "def is_terminal_state(row_index, col_index):\n",
    "    if rewards[row_index, col_index] == -1. :\n",
    "        return False\n",
    "    return True"
   ]
  },
  {
   "cell_type": "markdown",
   "id": "f1a66e3c",
   "metadata": {},
   "source": [
    "<b>Choose start location</b>"
   ]
  },
  {
   "cell_type": "code",
   "execution_count": 11,
   "id": "bd2aebaf",
   "metadata": {},
   "outputs": [],
   "source": [
    "def get_starting_location():\n",
    "    row_indx = np.random.randint(grid_rows)\n",
    "    col_indx = np.random.randint(grid_cols)\n",
    "    \n",
    "    #continue choosing random row and column indexes until a non-terminal state is identified\n",
    "    #(i.e., until the chosen state is a 'white square').\n",
    "    while is_terminal_state(row_indx, col_indx):\n",
    "        row_indx = np.random.randint(grid_rows)\n",
    "        col_indx = np.random.randint(grid_cols)\n",
    "\n",
    "    return row_indx, col_indx"
   ]
  },
  {
   "cell_type": "markdown",
   "id": "7152b291",
   "metadata": {},
   "source": [
    "<b>next_action - epsilon greedy algorithm</b>"
   ]
  },
  {
   "cell_type": "code",
   "execution_count": 12,
   "id": "1b57cd99",
   "metadata": {},
   "outputs": [],
   "source": [
    "def get_next_action(row_indx, col_indx, epsilon):\n",
    "    if np.random.random() < epsilon:\n",
    "        #q_values = np.add(q1_values[row_indx, col_indx], q2_values[row_indx, col_indx])\n",
    "\n",
    "        return np.argmax(q12_values[row_indx, col_indx])\n",
    "    return np.random.randint(4)"
   ]
  },
  {
   "cell_type": "code",
   "execution_count": 13,
   "id": "91c923d3",
   "metadata": {},
   "outputs": [],
   "source": [
    "def get_next_location(row_indx, col_indx, action_indx):\n",
    "    new_row_indx = row_indx\n",
    "    new_col_indx = col_indx\n",
    "    \n",
    "    if actions[action_indx] == 'up' and row_indx > 0:\n",
    "        new_row_indx -= 1\n",
    "    elif actions[action_indx] == 'right' and col_indx < grid_cols - 1:\n",
    "        new_col_indx += 1\n",
    "    elif actions[action_indx] == 'down' and row_indx < grid_rows - 1:\n",
    "        new_row_indx += 1\n",
    "    elif actions[action_indx] == 'left' and col_indx > 0:\n",
    "        new_col_indx -= 1\n",
    "        \n",
    "    return new_row_indx, new_col_indx"
   ]
  },
  {
   "cell_type": "markdown",
   "id": "68d59ab3",
   "metadata": {},
   "source": [
    "<b>get_shortest_path - using q table, find shortest path</b>"
   ]
  },
  {
   "cell_type": "code",
   "execution_count": 14,
   "id": "0142ae57",
   "metadata": {},
   "outputs": [],
   "source": [
    "def get_shortest_path(start_row_indx, start_col_indx):\n",
    "    \n",
    "    # terminal starting position\n",
    "    if is_terminal_state(start_row_indx, start_col_indx):\n",
    "        return []\n",
    "    else :\n",
    "        #non-terminal starting position\n",
    "        curr_row_indx, curr_col_indx = start_row_indx, start_col_indx\n",
    "        shortest_path = []\n",
    "        shortest_path.append([curr_row_indx, curr_col_indx])\n",
    "        \n",
    "        while not is_terminal_state(curr_row_indx, curr_col_indx):\n",
    "            action_indx = get_next_action(curr_row_indx, curr_col_indx, 1.)\n",
    "            \n",
    "            curr_row_indx, curr_col_indx = get_next_location(curr_row_indx, curr_col_indx, action_indx)\n",
    "            shortest_path.append([curr_row_indx, curr_col_indx])\n",
    "        return shortest_path"
   ]
  },
  {
   "cell_type": "markdown",
   "id": "3b36ef69",
   "metadata": {},
   "source": [
    "<b>Train the Agent</b>"
   ]
  },
  {
   "cell_type": "code",
   "execution_count": 15,
   "id": "67bfcd06",
   "metadata": {},
   "outputs": [],
   "source": [
    "epsilon = 0.9\n",
    "discount_factor = 0.9 #discount for future rewards\n",
    "learning_rate = 0.9\n",
    "alpha = 0.9\n",
    "\n",
    "rewards_all = []\n",
    "temp_diff = []\n",
    "episods_count = 10000"
   ]
  },
  {
   "cell_type": "markdown",
   "id": "a86081dc",
   "metadata": {},
   "source": [
    "<b>Stats</b>"
   ]
  },
  {
   "cell_type": "code",
   "execution_count": 16,
   "id": "f5e826bb",
   "metadata": {},
   "outputs": [],
   "source": [
    "episode_lengths = np.zeros(episods_count)\n",
    "episode_rewards = np.zeros(episods_count)"
   ]
  },
  {
   "cell_type": "code",
   "execution_count": 17,
   "id": "0cf8a1d6",
   "metadata": {},
   "outputs": [
    {
     "name": "stdout",
     "output_type": "stream",
     "text": [
      "Training Started >>>\n",
      ">>> Training Ended\n"
     ]
    }
   ],
   "source": [
    "print(\"Training Started >>>\")   \n",
    "\n",
    "for episode in range(episods_count):\n",
    "    row_indx, col_indx = get_starting_location()\n",
    "    \n",
    "    ep_len = 0\n",
    "    while not is_terminal_state(row_indx, col_indx):\n",
    "        ep_len = ep_len + 1\n",
    "\n",
    "        action_indx = get_next_action(row_indx, col_indx, epsilon)\n",
    "        \n",
    "        old_row_indx, old_col_indx = row_indx, col_indx\n",
    "        row_indx, col_indx = get_next_location(row_indx, col_indx, action_indx)\n",
    "        \n",
    "        #rewards\n",
    "        reward = rewards[row_indx, col_indx]\n",
    "        old_q1_value = q1_values[row_indx, col_indx, action_indx]\n",
    "        temporal_difference1 = reward + (discount_factor * np.max(q1_values[row_indx, col_indx]) - old_q1_value)\n",
    "        new_q1_value = old_q1_value + alpha * (learning_rate * temporal_difference1)\n",
    "        \n",
    "        old_q2_value = q2_values[row_indx, col_indx, action_indx]\n",
    "        temporal_difference2 = reward + alpha * (discount_factor * np.max(q2_values[row_indx, col_indx]) - old_q2_value)\n",
    "        new_q2_value = old_q2_value + (learning_rate * temporal_difference2)\n",
    "        \n",
    "        #update q table\n",
    "        rand = np.random.random()\n",
    "        if rand <= 0.5:\n",
    "            q1_values[old_row_indx, old_col_indx, action_indx] = new_q1_value\n",
    "        elif rand > 0.5:\n",
    "            q2_values[old_row_indx, old_col_indx, action_indx] = new_q2_value\n",
    "        else:\n",
    "            print('hmmm')\n",
    "            \n",
    "        rewards_all.append(reward)\n",
    "        temp_diff.append(temporal_difference1)\n",
    "        \n",
    "        q1_values[old_row_indx, old_col_indx, action_indx] = new_q1_value\n",
    "        q2_values[old_row_indx, old_col_indx, action_indx] = new_q2_value\n",
    "        \n",
    "        q12_values[old_row_indx, old_col_indx, action_indx] = new_q1_value + new_q2_value\n",
    "        \n",
    "        episode_rewards[episode] += reward\n",
    "        episode_lengths[episode] = ep_len\n",
    "\n",
    "print(\">>> Training Ended\")"
   ]
  },
  {
   "cell_type": "code",
   "execution_count": 18,
   "id": "b8fbe98f",
   "metadata": {},
   "outputs": [],
   "source": [
    "x = np.arange(0, episods_count)"
   ]
  },
  {
   "cell_type": "code",
   "execution_count": 19,
   "id": "4867707a",
   "metadata": {},
   "outputs": [
    {
     "data": {
      "image/png": "[encoded data removed]",
      "text/plain": [
       "<Figure size 1080x576 with 1 Axes>"
      ]
     },
     "metadata": {
      "needs_background": "light"
     },
     "output_type": "display_data"
    }
   ],
   "source": [
    "plt.figure(figsize=(15,8))\n",
    "plt.title(\"Episode lenght\")\n",
    "plt.xlabel(\"Episode\")\n",
    "plt.ylabel(\"Lenght\")\n",
    "plt.plot(x, episode_lengths, color =\"green\")\n",
    "plt.show()"
   ]
  },
  {
   "cell_type": "code",
   "execution_count": 20,
   "id": "5110f9dd",
   "metadata": {},
   "outputs": [
    {
     "data": {
      "image/png": "[encoded data removed]",
      "text/plain": [
       "<Figure size 1080x576 with 1 Axes>"
      ]
     },
     "metadata": {
      "needs_background": "light"
     },
     "output_type": "display_data"
    }
   ],
   "source": [
    "plt.figure(figsize=(15,8))\n",
    "plt.title(\"Rewards per Episode\")\n",
    "plt.xlabel(\"Episode\")\n",
    "plt.ylabel(\"Total Rewards\")\n",
    "plt.plot(x, episode_rewards, color =\"green\")\n",
    "plt.show()"
   ]
  },
  {
   "cell_type": "code",
   "execution_count": 21,
   "id": "bacb0d3a",
   "metadata": {},
   "outputs": [],
   "source": [
    "def print_path(path):\n",
    "    grid = copy.copy(rewards)\n",
    "    \n",
    "    for i in range(len(path)):\n",
    "        grid[path[i][0]][path[i][1]] = '9'\n",
    "    print_grid(grid)"
   ]
  },
  {
   "cell_type": "markdown",
   "id": "f2555cd3",
   "metadata": {},
   "source": [
    "<b>Test: Get shortest path</b>"
   ]
  },
  {
   "cell_type": "code",
   "execution_count": 22,
   "id": "46eaac0f",
   "metadata": {},
   "outputs": [
    {
     "name": "stdout",
     "output_type": "stream",
     "text": [
      "\n",
      "Path\n",
      "\n",
      "[[3, 9], [2, 9], [1, 9], [1, 8], [1, 7], [1, 6], [1, 5], [0, 5]]\n",
      "\n",
      "Grid\n",
      "\n",
      " | 0| 1| 2| 3| 4| 5| 6| 7| 8| 9|10|\n",
      "---------------------------------\n",
      "0| \u001b[31m#\u001b[0m| \u001b[31m#\u001b[0m| \u001b[31m#\u001b[0m| \u001b[31m#\u001b[0m| \u001b[31m#\u001b[0m| \u001b[34m*\u001b[0m| \u001b[31m#\u001b[0m| \u001b[31m#\u001b[0m| \u001b[31m#\u001b[0m| \u001b[31m#\u001b[0m| \u001b[31m#\u001b[0m|\n",
      "---------------------------------\n",
      "1| \u001b[31m#\u001b[0m|  |  |  |  | \u001b[34m*\u001b[0m| \u001b[34m*\u001b[0m| \u001b[34m*\u001b[0m| \u001b[34m*\u001b[0m| \u001b[34m*\u001b[0m| \u001b[31m#\u001b[0m|\n",
      "---------------------------------\n",
      "2| \u001b[31m#\u001b[0m|  | \u001b[31m#\u001b[0m| \u001b[31m#\u001b[0m| \u001b[31m#\u001b[0m| \u001b[31m#\u001b[0m| \u001b[31m#\u001b[0m|  | \u001b[31m#\u001b[0m| \u001b[34m*\u001b[0m| \u001b[31m#\u001b[0m|\n",
      "---------------------------------\n",
      "3| \u001b[31m#\u001b[0m|  |  |  |  |  |  |  | \u001b[31m#\u001b[0m| \u001b[34m*\u001b[0m| \u001b[31m#\u001b[0m|\n",
      "---------------------------------\n",
      "4| \u001b[31m#\u001b[0m| \u001b[31m#\u001b[0m| \u001b[31m#\u001b[0m|  | \u001b[31m#\u001b[0m| \u001b[31m#\u001b[0m| \u001b[31m#\u001b[0m|  | \u001b[31m#\u001b[0m| \u001b[31m#\u001b[0m| \u001b[31m#\u001b[0m|\n",
      "---------------------------------\n",
      "5|  |  |  |  |  |  |  |  |  |  |  |\n",
      "---------------------------------\n",
      "6| \u001b[31m#\u001b[0m| \u001b[31m#\u001b[0m| \u001b[31m#\u001b[0m| \u001b[31m#\u001b[0m| \u001b[31m#\u001b[0m|  | \u001b[31m#\u001b[0m| \u001b[31m#\u001b[0m| \u001b[31m#\u001b[0m| \u001b[31m#\u001b[0m| \u001b[31m#\u001b[0m|\n",
      "---------------------------------\n",
      "7| \u001b[31m#\u001b[0m|  |  |  |  |  |  |  |  |  | \u001b[31m#\u001b[0m|\n",
      "---------------------------------\n",
      "8|  |  |  |  |  |  |  |  |  |  |  |\n",
      "---------------------------------\n",
      "9|  |  |  |  |  |  |  |  |  |  |  |\n",
      "---------------------------------\n",
      "10|  |  |  |  |  |  |  |  |  |  |  |\n",
      "---------------------------------\n"
     ]
    }
   ],
   "source": [
    "path = get_shortest_path(3, 9)\n",
    "\n",
    "print(\"\\nPath\\n\")\n",
    "print(path)\n",
    "\n",
    "print(\"\\nGrid\\n\")\n",
    "print_path(path)"
   ]
  },
  {
   "cell_type": "code",
   "execution_count": 23,
   "id": "06544da7",
   "metadata": {},
   "outputs": [
    {
     "name": "stdout",
     "output_type": "stream",
     "text": [
      "\n",
      "Path\n",
      "\n",
      "[[9, 6], [9, 5], [8, 5], [7, 5], [6, 5], [5, 5], [5, 6], [5, 7], [4, 7], [3, 7], [2, 7], [1, 7], [1, 6], [1, 5], [0, 5]]\n",
      "\n",
      "Grid\n",
      "\n",
      " | 0| 1| 2| 3| 4| 5| 6| 7| 8| 9|10|\n",
      "---------------------------------\n",
      "0| \u001b[31m#\u001b[0m| \u001b[31m#\u001b[0m| \u001b[31m#\u001b[0m| \u001b[31m#\u001b[0m| \u001b[31m#\u001b[0m| \u001b[34m*\u001b[0m| \u001b[31m#\u001b[0m| \u001b[31m#\u001b[0m| \u001b[31m#\u001b[0m| \u001b[31m#\u001b[0m| \u001b[31m#\u001b[0m|\n",
      "---------------------------------\n",
      "1| \u001b[31m#\u001b[0m|  |  |  |  | \u001b[34m*\u001b[0m| \u001b[34m*\u001b[0m| \u001b[34m*\u001b[0m|  |  | \u001b[31m#\u001b[0m|\n",
      "---------------------------------\n",
      "2| \u001b[31m#\u001b[0m|  | \u001b[31m#\u001b[0m| \u001b[31m#\u001b[0m| \u001b[31m#\u001b[0m| \u001b[31m#\u001b[0m| \u001b[31m#\u001b[0m| \u001b[34m*\u001b[0m| \u001b[31m#\u001b[0m|  | \u001b[31m#\u001b[0m|\n",
      "---------------------------------\n",
      "3| \u001b[31m#\u001b[0m|  |  |  |  |  |  | \u001b[34m*\u001b[0m| \u001b[31m#\u001b[0m|  | \u001b[31m#\u001b[0m|\n",
      "---------------------------------\n",
      "4| \u001b[31m#\u001b[0m| \u001b[31m#\u001b[0m| \u001b[31m#\u001b[0m|  | \u001b[31m#\u001b[0m| \u001b[31m#\u001b[0m| \u001b[31m#\u001b[0m| \u001b[34m*\u001b[0m| \u001b[31m#\u001b[0m| \u001b[31m#\u001b[0m| \u001b[31m#\u001b[0m|\n",
      "---------------------------------\n",
      "5|  |  |  |  |  | \u001b[34m*\u001b[0m| \u001b[34m*\u001b[0m| \u001b[34m*\u001b[0m|  |  |  |\n",
      "---------------------------------\n",
      "6| \u001b[31m#\u001b[0m| \u001b[31m#\u001b[0m| \u001b[31m#\u001b[0m| \u001b[31m#\u001b[0m| \u001b[31m#\u001b[0m| \u001b[34m*\u001b[0m| \u001b[31m#\u001b[0m| \u001b[31m#\u001b[0m| \u001b[31m#\u001b[0m| \u001b[31m#\u001b[0m| \u001b[31m#\u001b[0m|\n",
      "---------------------------------\n",
      "7| \u001b[31m#\u001b[0m|  |  |  |  | \u001b[34m*\u001b[0m|  |  |  |  | \u001b[31m#\u001b[0m|\n",
      "---------------------------------\n",
      "8|  |  |  |  |  | \u001b[34m*\u001b[0m|  |  |  |  |  |\n",
      "---------------------------------\n",
      "9|  |  |  |  |  | \u001b[34m*\u001b[0m| \u001b[34m*\u001b[0m|  |  |  |  |\n",
      "---------------------------------\n",
      "10|  |  |  |  |  |  |  |  |  |  |  |\n",
      "---------------------------------\n"
     ]
    }
   ],
   "source": [
    "path = get_shortest_path(9, 6)\n",
    "\n",
    "print(\"\\nPath\\n\")\n",
    "print(path)\n",
    "\n",
    "print(\"\\nGrid\\n\")\n",
    "print_path(path)"
   ]
  },
  {
   "cell_type": "markdown",
   "id": "8e16c23c",
   "metadata": {},
   "source": [
    "<b>Reverse path</b>"
   ]
  },
  {
   "cell_type": "code",
   "execution_count": 24,
   "id": "fbf73fcc",
   "metadata": {},
   "outputs": [
    {
     "name": "stdout",
     "output_type": "stream",
     "text": [
      "\n",
      "Path\n",
      "\n",
      "[[0, 5], [1, 5], [1, 6], [1, 7], [2, 7], [3, 7], [4, 7], [5, 7], [5, 6], [5, 5], [5, 4], [5, 3], [5, 2]]\n",
      "\n",
      "Rwards tabele with Path\n",
      "\n",
      "[[-100. -100. -100. -100. -100.  100. -100. -100. -100. -100. -100.]\n",
      " [-100.   -1.   -1.   -1.   -1.   -1.   -1.   -1.   -1.   -1. -100.]\n",
      " [-100.   -1. -100. -100. -100. -100. -100.   -1. -100.   -1. -100.]\n",
      " [-100.   -1.   -1.   -1.   -1.   -1.   -1.   -1. -100.   -1. -100.]\n",
      " [-100. -100. -100.   -1. -100. -100. -100.   -1. -100. -100. -100.]\n",
      " [  -1.   -1.   -1.   -1.   -1.   -1.   -1.   -1.   -1.   -1.   -1.]\n",
      " [-100. -100. -100. -100. -100.   -1. -100. -100. -100. -100. -100.]\n",
      " [-100.   -1.   -1.   -1.   -1.   -1.   -1.   -1.   -1.   -1. -100.]\n",
      " [  -1.   -1.   -1.   -1.   -1.   -1.   -1.   -1.   -1.   -1.   -1.]\n",
      " [  -1.   -1.   -1.   -1.   -1.   -1.   -1.   -1.   -1.   -1.   -1.]\n",
      " [  -1.   -1.   -1.   -1.   -1.   -1.   -1.   -1.   -1.   -1.   -1.]]\n",
      "\n",
      "Grid\n",
      "\n",
      " | 0| 1| 2| 3| 4| 5| 6| 7| 8| 9|10|\n",
      "---------------------------------\n",
      "0| \u001b[31m#\u001b[0m| \u001b[31m#\u001b[0m| \u001b[31m#\u001b[0m| \u001b[31m#\u001b[0m| \u001b[31m#\u001b[0m| \u001b[34m*\u001b[0m| \u001b[31m#\u001b[0m| \u001b[31m#\u001b[0m| \u001b[31m#\u001b[0m| \u001b[31m#\u001b[0m| \u001b[31m#\u001b[0m|\n",
      "---------------------------------\n",
      "1| \u001b[31m#\u001b[0m|  |  |  |  | \u001b[34m*\u001b[0m| \u001b[34m*\u001b[0m| \u001b[34m*\u001b[0m|  |  | \u001b[31m#\u001b[0m|\n",
      "---------------------------------\n",
      "2| \u001b[31m#\u001b[0m|  | \u001b[31m#\u001b[0m| \u001b[31m#\u001b[0m| \u001b[31m#\u001b[0m| \u001b[31m#\u001b[0m| \u001b[31m#\u001b[0m| \u001b[34m*\u001b[0m| \u001b[31m#\u001b[0m|  | \u001b[31m#\u001b[0m|\n",
      "---------------------------------\n",
      "3| \u001b[31m#\u001b[0m|  |  |  |  |  |  | \u001b[34m*\u001b[0m| \u001b[31m#\u001b[0m|  | \u001b[31m#\u001b[0m|\n",
      "---------------------------------\n",
      "4| \u001b[31m#\u001b[0m| \u001b[31m#\u001b[0m| \u001b[31m#\u001b[0m|  | \u001b[31m#\u001b[0m| \u001b[31m#\u001b[0m| \u001b[31m#\u001b[0m| \u001b[34m*\u001b[0m| \u001b[31m#\u001b[0m| \u001b[31m#\u001b[0m| \u001b[31m#\u001b[0m|\n",
      "---------------------------------\n",
      "5|  |  | \u001b[34m*\u001b[0m| \u001b[34m*\u001b[0m| \u001b[34m*\u001b[0m| \u001b[34m*\u001b[0m| \u001b[34m*\u001b[0m| \u001b[34m*\u001b[0m|  |  |  |\n",
      "---------------------------------\n",
      "6| \u001b[31m#\u001b[0m| \u001b[31m#\u001b[0m| \u001b[31m#\u001b[0m| \u001b[31m#\u001b[0m| \u001b[31m#\u001b[0m|  | \u001b[31m#\u001b[0m| \u001b[31m#\u001b[0m| \u001b[31m#\u001b[0m| \u001b[31m#\u001b[0m| \u001b[31m#\u001b[0m|\n",
      "---------------------------------\n",
      "7| \u001b[31m#\u001b[0m|  |  |  |  |  |  |  |  |  | \u001b[31m#\u001b[0m|\n",
      "---------------------------------\n",
      "8|  |  |  |  |  |  |  |  |  |  |  |\n",
      "---------------------------------\n",
      "9|  |  |  |  |  |  |  |  |  |  |  |\n",
      "---------------------------------\n",
      "10|  |  |  |  |  |  |  |  |  |  |  |\n",
      "---------------------------------\n"
     ]
    }
   ],
   "source": [
    "path = get_shortest_path(5, 2)\n",
    "path.reverse()\n",
    "\n",
    "print(\"\\nPath\\n\")\n",
    "print(path)\n",
    "\n",
    "print(\"\\nRwards table with Path\\n\")\n",
    "print(rewards)\n",
    "\n",
    "print(\"\\nGrid\\n\")\n",
    "print_path(path)"
   ]
  }
 ],
 "metadata": {
  "kernelspec": {
   "display_name": "Python 3",
   "language": "python",
   "name": "python3"
  },
  "language_info": {
   "codemirror_mode": {
    "name": "ipython",
    "version": 3
   },
   "file_extension": ".py",
   "mimetype": "text/x-python",
   "name": "python",
   "nbconvert_exporter": "python",
   "pygments_lexer": "ipython3",
   "version": "3.8.6"
  }
 },
 "nbformat": 4,
 "nbformat_minor": 5
}
